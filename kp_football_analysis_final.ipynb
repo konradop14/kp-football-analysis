{
  "nbformat": 4,
  "nbformat_minor": 0,
  "metadata": {
    "colab": {
      "name": "kp-football-analysis-final",
      "provenance": [],
      "collapsed_sections": [],
      "toc_visible": true
    },
    "kernelspec": {
      "name": "python3",
      "display_name": "Python 3"
    }
  },
  "cells": [
    {
      "cell_type": "markdown",
      "metadata": {
        "id": "Y1aB7xTDqsiX"
      },
      "source": [
        "## Załadowanie bibliotek\n",
        "\n",
        "\n",
        "\n"
      ]
    },
    {
      "cell_type": "code",
      "metadata": {
        "id": "MY8o36iQq2wk"
      },
      "source": [
        "import numpy as np\n",
        "import pandas as pd\n",
        "\n",
        "from pyspark.sql import functions as f\n",
        "from pyspark.sql.types import IntegerType\n",
        "from pyspark.sql import SparkSession, Row\n",
        "from pyspark.sql.window import Window\n",
        "\n",
        "import matplotlib.pyplot as plt\n",
        "from matplotlib.patches import Ellipse\n",
        "import plotly.express as px \n",
        "import plotly.graph_objects as go\n",
        "import seaborn as sns\n",
        "\n",
        "from itertools import chain\n",
        "import warnings\n",
        "warnings.filterwarnings('ignore')"
      ],
      "execution_count": null,
      "outputs": []
    },
    {
      "cell_type": "markdown",
      "metadata": {
        "id": "gq6vPPBrq5Jn"
      },
      "source": [
        "## Uruchomienie aplikacji"
      ]
    },
    {
      "cell_type": "code",
      "metadata": {
        "id": "9_Uz1NL4gHFx"
      },
      "source": [
        "spark = SparkSession.builder.appName(\"Football\").master(\"local[*]\").getOrCreate()"
      ],
      "execution_count": null,
      "outputs": []
    },
    {
      "cell_type": "markdown",
      "metadata": {
        "id": "52tfjEyOrZbq"
      },
      "source": [
        "# **Przygotowanie DataFrame'ów**"
      ]
    },
    {
      "cell_type": "code",
      "metadata": {
        "id": "3GhfmKyjUIgt"
      },
      "source": [
        "# build matches dataframe and unpivot teamId\n",
        "path_to_bucket = ''\n",
        "matchesJson = spark.read.json(path=path_to_bucket+\"data/matches/*.json\", multiLine=True)\n",
        "\n",
        "m = matchesJson.select(\"competitionId\",\"wyId\",\"teamsData.*\",\"label\",\"winner\", \"dateutc\", \"gameweek\",\"roundId\")\n",
        "\n",
        "m.createOrReplaceTempView(\"matches\")\n",
        "\n",
        "l = []\n",
        "separator = ','\n",
        "A = matchesJson.select(\"teamsData.*\").columns\n",
        "B = separator.join(A).split(',')\n",
        "n = len(A)\n",
        "\n",
        "for a in range(len(A)):\n",
        "    l.append(\"'{}'\".format(A[a]) + \",`\" + B[a] + \"`\")\n",
        "\n",
        "k = separator.join(l)\n",
        "\n",
        "matches = spark.sql(\"select competitionId, wyId, label, winner, winner, dateutc, gameweek, roundId, stack(%d,%s) as (team, info) from matches\" % (n,k)).where(\"info is not null\")\n",
        "\n",
        "spark.catalog.dropTempView(\"matches\")\n",
        "\n",
        "# build players dataframe\n",
        "players = spark.read.json(path=path_to_bucket+\"data/players.json\")\n",
        "\n",
        "#build teams dataframe\n",
        "teams = spark.read.json(path=path_to_bucket+\"data/teams.json\")\n",
        "\n",
        "# build events dataframe\n",
        "events = spark.read.json(path=path_to_bucket+\"data/events/*.json\", multiLine=True)\n"
      ],
      "execution_count": null,
      "outputs": []
    },
    {
      "cell_type": "markdown",
      "metadata": {
        "id": "JvHGGHlJqHe1"
      },
      "source": [
        "# **Informacje o zbiorze danych**\n",
        "Zbiory danych wykorzystane w analizie zostały zebrane przez Wyscout. Firma Wyscout zbiera dane wykorzystując operatorów, którzy na podstawie filmów z meczów piłkarskich określają zdarzenie oraz względną pozycję zawodnika. Cały zbiór danych WyScout dostarcza za pomocą REST API. Więcej szczegółów: https://apidocs.wyscout.com/"
      ]
    },
    {
      "cell_type": "markdown",
      "metadata": {
        "id": "97BvWgYyoVn8"
      },
      "source": [
        "Analizowany zestaw danych jest udostępniony na licencji CC BY 4.0 i jest publicznie dostępna na figshare. Dane dotyczą sezonu 2017/2018 pięciu krajowych rozgrywek w Europie, pierwszych lig: hiszpańska, niemiecka, włoska, angielska, francuska.\n",
        "\n",
        "![image.png](data:image/png;base64,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)\n",
        "\n"
      ]
    },
    {
      "cell_type": "markdown",
      "metadata": {
        "id": "x7vFTOalryck"
      },
      "source": [
        "## Schematy"
      ]
    },
    {
      "cell_type": "code",
      "metadata": {
        "colab": {
          "base_uri": "https://localhost:8080/"
        },
        "id": "K_wgl3crsGGI",
        "outputId": "41e68f0a-760c-4262-a6f2-22d6e185f587"
      },
      "source": [
        "players.printSchema()"
      ],
      "execution_count": null,
      "outputs": [
        {
          "output_type": "stream",
          "text": [
            "root\n",
            " |-- birthArea: struct (nullable = true)\n",
            " |    |-- alpha2code: string (nullable = true)\n",
            " |    |-- alpha3code: string (nullable = true)\n",
            " |    |-- id: string (nullable = true)\n",
            " |    |-- name: string (nullable = true)\n",
            " |-- birthDate: string (nullable = true)\n",
            " |-- currentNationalTeamId: string (nullable = true)\n",
            " |-- currentTeamId: string (nullable = true)\n",
            " |-- firstName: string (nullable = true)\n",
            " |-- foot: string (nullable = true)\n",
            " |-- height: long (nullable = true)\n",
            " |-- lastName: string (nullable = true)\n",
            " |-- middleName: string (nullable = true)\n",
            " |-- passportArea: struct (nullable = true)\n",
            " |    |-- alpha2code: string (nullable = true)\n",
            " |    |-- alpha3code: string (nullable = true)\n",
            " |    |-- id: string (nullable = true)\n",
            " |    |-- name: string (nullable = true)\n",
            " |-- role: struct (nullable = true)\n",
            " |    |-- code2: string (nullable = true)\n",
            " |    |-- code3: string (nullable = true)\n",
            " |    |-- name: string (nullable = true)\n",
            " |-- shortName: string (nullable = true)\n",
            " |-- weight: long (nullable = true)\n",
            " |-- wyId: long (nullable = true)\n",
            "\n"
          ],
          "name": "stdout"
        }
      ]
    },
    {
      "cell_type": "code",
      "metadata": {
        "colab": {
          "base_uri": "https://localhost:8080/"
        },
        "id": "LayAsjrTsJKP",
        "outputId": "2ba8400c-08dc-411b-88af-cd3e32753f69"
      },
      "source": [
        "teams.printSchema()"
      ],
      "execution_count": null,
      "outputs": [
        {
          "output_type": "stream",
          "text": [
            "root\n",
            " |-- area: struct (nullable = true)\n",
            " |    |-- alpha2code: string (nullable = true)\n",
            " |    |-- alpha3code: string (nullable = true)\n",
            " |    |-- id: string (nullable = true)\n",
            " |    |-- name: string (nullable = true)\n",
            " |-- city: string (nullable = true)\n",
            " |-- name: string (nullable = true)\n",
            " |-- officialName: string (nullable = true)\n",
            " |-- type: string (nullable = true)\n",
            " |-- wyId: long (nullable = true)\n",
            "\n"
          ],
          "name": "stdout"
        }
      ]
    },
    {
      "cell_type": "code",
      "metadata": {
        "colab": {
          "base_uri": "https://localhost:8080/"
        },
        "id": "-Igpg6s1sND_",
        "outputId": "d5f149d6-2d66-4963-bf71-bc4cd4e38bf9"
      },
      "source": [
        "matches.printSchema()"
      ],
      "execution_count": null,
      "outputs": [
        {
          "output_type": "stream",
          "text": [
            "root\n",
            " |-- competitionId: long (nullable = true)\n",
            " |-- wyId: long (nullable = true)\n",
            " |-- label: string (nullable = true)\n",
            " |-- winner: long (nullable = true)\n",
            " |-- winner: long (nullable = true)\n",
            " |-- dateutc: string (nullable = true)\n",
            " |-- gameweek: long (nullable = true)\n",
            " |-- roundId: long (nullable = true)\n",
            " |-- team: string (nullable = true)\n",
            " |-- info: struct (nullable = true)\n",
            " |    |-- coachId: long (nullable = true)\n",
            " |    |-- formation: struct (nullable = true)\n",
            " |    |    |-- bench: array (nullable = true)\n",
            " |    |    |    |-- element: struct (containsNull = true)\n",
            " |    |    |    |    |-- goals: string (nullable = true)\n",
            " |    |    |    |    |-- ownGoals: string (nullable = true)\n",
            " |    |    |    |    |-- playerId: long (nullable = true)\n",
            " |    |    |    |    |-- redCards: string (nullable = true)\n",
            " |    |    |    |    |-- yellowCards: string (nullable = true)\n",
            " |    |    |-- lineup: array (nullable = true)\n",
            " |    |    |    |-- element: struct (containsNull = true)\n",
            " |    |    |    |    |-- goals: string (nullable = true)\n",
            " |    |    |    |    |-- ownGoals: string (nullable = true)\n",
            " |    |    |    |    |-- playerId: long (nullable = true)\n",
            " |    |    |    |    |-- redCards: string (nullable = true)\n",
            " |    |    |    |    |-- yellowCards: string (nullable = true)\n",
            " |    |    |-- substitutions: array (nullable = true)\n",
            " |    |    |    |-- element: struct (containsNull = true)\n",
            " |    |    |    |    |-- minute: long (nullable = true)\n",
            " |    |    |    |    |-- playerIn: long (nullable = true)\n",
            " |    |    |    |    |-- playerOut: long (nullable = true)\n",
            " |    |-- hasFormation: long (nullable = true)\n",
            " |    |-- score: long (nullable = true)\n",
            " |    |-- scoreET: long (nullable = true)\n",
            " |    |-- scoreHT: long (nullable = true)\n",
            " |    |-- scoreP: long (nullable = true)\n",
            " |    |-- side: string (nullable = true)\n",
            " |    |-- teamId: long (nullable = true)\n",
            "\n"
          ],
          "name": "stdout"
        }
      ]
    },
    {
      "cell_type": "code",
      "metadata": {
        "colab": {
          "base_uri": "https://localhost:8080/"
        },
        "id": "Fcqx61AvsP_8",
        "outputId": "8c1d2032-9cea-4182-8da1-b3a600514e64"
      },
      "source": [
        "events.printSchema()"
      ],
      "execution_count": null,
      "outputs": [
        {
          "output_type": "stream",
          "text": [
            "root\n",
            " |-- eventId: long (nullable = true)\n",
            " |-- eventName: string (nullable = true)\n",
            " |-- eventSec: double (nullable = true)\n",
            " |-- id: long (nullable = true)\n",
            " |-- matchId: long (nullable = true)\n",
            " |-- matchPeriod: string (nullable = true)\n",
            " |-- playerId: long (nullable = true)\n",
            " |-- positions: array (nullable = true)\n",
            " |    |-- element: struct (containsNull = true)\n",
            " |    |    |-- x: long (nullable = true)\n",
            " |    |    |-- y: long (nullable = true)\n",
            " |-- subEventId: long (nullable = true)\n",
            " |-- subEventName: string (nullable = true)\n",
            " |-- tags: array (nullable = true)\n",
            " |    |-- element: struct (containsNull = true)\n",
            " |    |    |-- id: long (nullable = true)\n",
            " |-- teamId: long (nullable = true)\n",
            "\n"
          ],
          "name": "stdout"
        }
      ]
    },
    {
      "cell_type": "code",
      "metadata": {
        "id": "WX2_ZtMltGxm"
      },
      "source": [
        "df1 = events.select(\"eventName\").groupBy(\"eventName\").agg(f.count(\"eventName\").alias(\"count\")).orderBy(\"count\", ascending=0)\\\n",
        "    .withColumn(\"percent\",f.round(f.col('count')/f.sum('count').over(Window.partitionBy())*100,1))\\\n",
        "    .toPandas()\n",
        "df1.set_index(\"eventName\", inplace=True)\n",
        "\n",
        "df2 = events.select(\"matchId\").groupBy(\"matchId\").count().toPandas()"
      ],
      "execution_count": null,
      "outputs": []
    },
    {
      "cell_type": "markdown",
      "metadata": {
        "id": "G55UF8LRF6lV"
      },
      "source": [
        "Struktura zdarzeń w meczu - średnio"
      ]
    },
    {
      "cell_type": "code",
      "metadata": {
        "colab": {
          "base_uri": "https://localhost:8080/",
          "height": 441
        },
        "id": "_SSyuRORuHe6",
        "outputId": "30bee2c8-00f0-45bc-f35a-c4ef44e526cd"
      },
      "source": [
        "fig, ax = plt.subplots(figsize=(8,6))\n",
        "plt.barh(df1.index,df1.percent)\n",
        "plt.gca().invert_yaxis()\n",
        "plt.xticks(fontsize=15)\n",
        "plt.xlabel('events (%)', fontsize=20)\n",
        "plt.yticks(fontsize=15)\n",
        "plt.grid(alpha=0.1)\n",
        "fig.tight_layout()\n",
        "for i, v in enumerate(df1.percent):\n",
        "    plt.text(v + 3, i + 0.15 , str(v)+'%', color='black', fontsize=15)\n",
        "\n",
        "plt.show()"
      ],
      "execution_count": null,
      "outputs": [
        {
          "output_type": "display_data",
          "data": {
            "image/png": "[encoded data removed]",
            "text/plain": [
              "<Figure size 576x432 with 1 Axes>"
            ]
          },
          "metadata": {
            "tags": [],
            "needs_background": "light"
          }
        }
      ]
    },
    {
      "cell_type": "markdown",
      "metadata": {
        "id": "-i3lBXuLF2s5"
      },
      "source": [
        "Rozkład ilości zdarzeń w meczu"
      ]
    },
    {
      "cell_type": "code",
      "metadata": {
        "colab": {
          "base_uri": "https://localhost:8080/",
          "height": 397
        },
        "id": "yTlCUV4vuIXq",
        "outputId": "f7a701cc-cf58-4fe1-ab58-7d596ef9bcd3"
      },
      "source": [
        "fig, ax = plt.subplots(figsize=(8,6))\n",
        "avgEvents = np.mean(df2[\"count\"])\n",
        "ax =  df2[\"count\"].plot.hist(rwidth=0.9, bins=20)\n",
        "plt.grid(alpha=0.1)\n",
        "plt.xlabel('events (n)', fontsize=20)\n",
        "plt.ylabel('frequency (n)', fontsize=20)\n",
        "plt.text(0.7, 0.7, \n",
        "         '$\\mu$ = %i' % (avgEvents), \n",
        "         fontsize=20, transform=ax.transAxes)\n",
        "plt.show()"
      ],
      "execution_count": null,
      "outputs": [
        {
          "output_type": "display_data",
          "data": {
            "image/png": "[encoded data removed]",
            "text/plain": [
              "<Figure size 576x432 with 1 Axes>"
            ]
          },
          "metadata": {
            "tags": [],
            "needs_background": "light"
          }
        }
      ]
    },
    {
      "cell_type": "markdown",
      "metadata": {
        "id": "On6j80jDrndN"
      },
      "source": [
        "# **Podstawowe analizy**"
      ]
    },
    {
      "cell_type": "markdown",
      "metadata": {
        "id": "it_Ihy0dZqPI"
      },
      "source": [
        "Pytania:\n",
        "1. W jakich minutach meczu najcześciej zdobywane są bramki, żółte i czerwone kartki? \n",
        "2. W jakim procencie miejsce rozgrywania meczu wpływa na końcowy rezultat?\n",
        "3. Statystyka goli, rzutów karnych: strzelone, niestrzelone, obronione, nietrafione. W którym obszarze w bramce jest najwięcej trafień z rzutów karnych.\n",
        "4. Ile goli strzelają zawodnicy wchodzący z ławki rezerwowych w stosunku do tych, którzy grają od początki? Czy opłaca się dokonywać zmian (kryterium goli dla napastników)?\n",
        "5. Analiza taktyki konkretnego zespołu.\n",
        "6. W jaki stopniu można przewidzieć wynik meczu na podstawie tych zbiorów danych?"
      ]
    },
    {
      "cell_type": "markdown",
      "metadata": {
        "id": "rD1LsCeHV5oK"
      },
      "source": [
        "## 1. Gole, żółte i czerwone kartki"
      ]
    },
    {
      "cell_type": "code",
      "metadata": {
        "id": "7mGjRNuUV4Zg"
      },
      "source": [
        "goalYellowRedCards = events\\\n",
        "  .select(\"eventName\",\"matchPeriod\",\"eventSec\",f.explode(\"tags.id\").alias(\"tagId\"))\n",
        "\n",
        "goalYellowRedCards = goalYellowRedCards\\\n",
        "  .filter(f.col(\"tagId\").isin([101,1701,1702]))\\\n",
        "  .filter(f.col(\"eventName\") != \"Save attempt\")\\\n",
        "  .filter(f.col(\"matchPeriod\").isin([\"1H\",\"2H\"]))\\\n",
        "  .select(\"eventSec\",\"matchPeriod\",\"tagId\")\n",
        "\n",
        "goalYellowRedCards = goalYellowRedCards\\\n",
        "    .withColumn(\"eventMin\",f.floor(f.col(\"eventSec\")/60))\\\n",
        "    .withColumn(\"matchTime\",f.floor(f.col(\"eventMin\")/5))\\\n",
        "    .withColumn(\"matchTime\",f.when(f.col(\"matchTime\")>9,9).otherwise(f.col(\"matchTime\")))\\\n",
        "    .withColumn(\"matchTime\",f.when(f.col(\"matchPeriod\") == \"2H\", f.col(\"matchTime\") + 11).otherwise(f.col(\"matchTime\")))\n",
        "    \n",
        "goalYellowRedCards = goalYellowRedCards\\\n",
        "    .groupBy(\"matchPeriod\",\"matchTime\")\\\n",
        "    .pivot(\"tagId\")\\\n",
        "    .count()\\\n",
        "    .orderBy(\"matchPeriod\",\"matchTime\")\\\n",
        "    .fillna(0)\\\n",
        "    .withColumnRenamed(\"101\",\"goal\")\\\n",
        "    .withColumnRenamed(\"1701\",\"redCard\")\\\n",
        "    .withColumnRenamed(\"1702\",\"yellowCard\")\n",
        "\n",
        "# goalYellowRedCards.show()\n",
        "pdgoalYellowRedCards = goalYellowRedCards.toPandas()\n",
        "pdgoalYellowRedCards\n",
        "xlabels = ['0-4','5-9','10-14','15-19','20-24','25-29','30-34','35-39','40-44','>=45','45-49','50-54','55-59','60-64','65-69','70-74','75-79','80-84','85-89','>=90']"
      ],
      "execution_count": null,
      "outputs": []
    },
    {
      "cell_type": "code",
      "metadata": {
        "colab": {
          "base_uri": "https://localhost:8080/",
          "height": 1000
        },
        "id": "RGMtabp2WSrs",
        "outputId": "0e6534ca-52e8-4cf1-9b8e-fd90e2613765"
      },
      "source": [
        "fig = px.bar(pdgoalYellowRedCards,y=\"goal\", x=\"matchTime\", color = \"matchPeriod\", labels={\"goal\": \"goals\",\"matchTime\":\"match time\"}, text=\"goal\", )\n",
        "fig.update_layout(xaxis=dict( tickmode = 'array',\n",
        "        tickvals = pdgoalYellowRedCards[\"matchTime\"],\n",
        "        ticktext = xlabels))\n",
        "fig.show()\n",
        "\n",
        "fig = px.bar(pdgoalYellowRedCards,y=\"yellowCard\", x=\"matchTime\", color = \"matchPeriod\", labels={\"yellowCard\": \"yellow cards\",\"matchTime\":\"match time\"}, text=\"yellowCard\", )\n",
        "fig.update_layout(xaxis=dict( tickmode = 'array',\n",
        "        tickvals = pdgoalYellowRedCards[\"matchTime\"],\n",
        "        ticktext = xlabels))\n",
        "fig.show()\n",
        "\n",
        "fig = px.bar(pdgoalYellowRedCards,y=\"redCard\", x=\"matchTime\", color = \"matchPeriod\", labels={\"redCard\": \"red cards\",\"matchTime\":\"match time\"}, text=\"redCard\", )\n",
        "fig.update_layout(xaxis=dict( tickmode = 'array',\n",
        "        tickvals = pdgoalYellowRedCards[\"matchTime\"],\n",
        "        ticktext = xlabels))\n",
        "fig.show()\n"
      ],
      "execution_count": null,
      "outputs": [
        {
          "output_type": "display_data",
          "data": {
            "text/html": [
              "<html>\n",
              "<head><meta charset=\"utf-8\" /></head>\n",
              "<body>\n",
              "    <div>\n",
              "            <script src=\"https://cdnjs.cloudflare.com/ajax/libs/mathjax/2.7.5/MathJax.js?config=TeX-AMS-MML_SVG\"></script><script type=\"text/javascript\">if (window.MathJax) {MathJax.Hub.Config({SVG: {font: \"STIX-Web\"}});}</script>\n",
              "                <script type=\"text/javascript\">window.PlotlyConfig = {MathJaxConfig: 'local'};</script>\n",
              "        <script src=\"https://cdn.plot.ly/plotly-latest.min.js\"></script>    \n",
              "            <div id=\"b4b4c15e-48d4-451e-9051-5533083bd910\" class=\"plotly-graph-div\" style=\"height:525px; width:100%;\"></div>\n",
              "            <script type=\"text/javascript\">\n",
              "                \n",
              "                    window.PLOTLYENV=window.PLOTLYENV || {};\n",
              "                    \n",
              "                if (document.getElementById(\"b4b4c15e-48d4-451e-9051-5533083bd910\")) {\n",
              "                    Plotly.newPlot(\n",
              "                        'b4b4c15e-48d4-451e-9051-5533083bd910',\n",
              "                        [{\"alignmentgroup\": \"True\", \"hoverlabel\": {\"namelength\": 0}, \"hovertemplate\": \"matchPeriod=1H<br>match time=%{x}<br>goals=%{text}\", \"legendgroup\": \"matchPeriod=1H\", \"marker\": {\"color\": \"#636efa\"}, \"name\": \"matchPeriod=1H\", \"offsetgroup\": \"matchPeriod=1H\", \"orientation\": \"v\", \"showlegend\": true, \"text\": [186.0, 196.0, 209.0, 235.0, 260.0, 251.0, 228.0, 219.0, 223.0, 80.0], \"textposition\": \"auto\", \"type\": \"bar\", \"x\": [0, 1, 2, 3, 4, 5, 6, 7, 8, 9], \"xaxis\": \"x\", \"y\": [186, 196, 209, 235, 260, 251, 228, 219, 223, 80], \"yaxis\": \"y\"}, {\"alignmentgroup\": \"True\", \"hoverlabel\": {\"namelength\": 0}, \"hovertemplate\": \"matchPeriod=2H<br>match time=%{x}<br>goals=%{text}\", \"legendgroup\": \"matchPeriod=2H\", \"marker\": {\"color\": \"#EF553B\"}, \"name\": \"matchPeriod=2H\", \"offsetgroup\": \"matchPeriod=2H\", \"orientation\": \"v\", \"showlegend\": true, \"text\": [233.0, 290.0, 270.0, 271.0, 266.0, 302.0, 277.0, 254.0, 294.0, 249.0], \"textposition\": \"auto\", \"type\": \"bar\", \"x\": [11, 12, 13, 14, 15, 16, 17, 18, 19, 20], \"xaxis\": \"x\", \"y\": [233, 290, 270, 271, 266, 302, 277, 254, 294, 249], \"yaxis\": \"y\"}],\n",
              "                        {\"barmode\": \"relative\", \"legend\": {\"tracegroupgap\": 0}, \"margin\": {\"t\": 60}, \"template\": {\"data\": {\"bar\": [{\"error_x\": {\"color\": \"#2a3f5f\"}, \"error_y\": {\"color\": \"#2a3f5f\"}, \"marker\": {\"line\": {\"color\": \"#E5ECF6\", \"width\": 0.5}}, \"type\": \"bar\"}], \"barpolar\": [{\"marker\": {\"line\": {\"color\": \"#E5ECF6\", \"width\": 0.5}}, \"type\": \"barpolar\"}], \"carpet\": [{\"aaxis\": {\"endlinecolor\": \"#2a3f5f\", \"gridcolor\": \"white\", \"linecolor\": \"white\", \"minorgridcolor\": \"white\", \"startlinecolor\": \"#2a3f5f\"}, \"baxis\": {\"endlinecolor\": \"#2a3f5f\", \"gridcolor\": \"white\", \"linecolor\": \"white\", \"minorgridcolor\": \"white\", \"startlinecolor\": \"#2a3f5f\"}, \"type\": \"carpet\"}], \"choropleth\": [{\"colorbar\": {\"outlinewidth\": 0, \"ticks\": \"\"}, \"type\": \"choropleth\"}], \"contour\": [{\"colorbar\": {\"outlinewidth\": 0, \"ticks\": \"\"}, \"colorscale\": [[0.0, \"#0d0887\"], [0.1111111111111111, \"#46039f\"], [0.2222222222222222, \"#7201a8\"], [0.3333333333333333, \"#9c179e\"], [0.4444444444444444, \"#bd3786\"], [0.5555555555555556, \"#d8576b\"], [0.6666666666666666, \"#ed7953\"], [0.7777777777777778, \"#fb9f3a\"], [0.8888888888888888, \"#fdca26\"], [1.0, \"#f0f921\"]], \"type\": \"contour\"}], \"contourcarpet\": [{\"colorbar\": {\"outlinewidth\": 0, \"ticks\": \"\"}, \"type\": \"contourcarpet\"}], \"heatmap\": [{\"colorbar\": {\"outlinewidth\": 0, \"ticks\": \"\"}, \"colorscale\": [[0.0, \"#0d0887\"], [0.1111111111111111, \"#46039f\"], [0.2222222222222222, \"#7201a8\"], [0.3333333333333333, \"#9c179e\"], [0.4444444444444444, \"#bd3786\"], [0.5555555555555556, \"#d8576b\"], [0.6666666666666666, \"#ed7953\"], [0.7777777777777778, \"#fb9f3a\"], [0.8888888888888888, \"#fdca26\"], [1.0, \"#f0f921\"]], \"type\": \"heatmap\"}], \"heatmapgl\": [{\"colorbar\": {\"outlinewidth\": 0, \"ticks\": \"\"}, \"colorscale\": [[0.0, \"#0d0887\"], [0.1111111111111111, \"#46039f\"], [0.2222222222222222, \"#7201a8\"], [0.3333333333333333, \"#9c179e\"], [0.4444444444444444, \"#bd3786\"], [0.5555555555555556, \"#d8576b\"], [0.6666666666666666, \"#ed7953\"], [0.7777777777777778, \"#fb9f3a\"], [0.8888888888888888, \"#fdca26\"], [1.0, \"#f0f921\"]], \"type\": \"heatmapgl\"}], \"histogram\": [{\"marker\": {\"colorbar\": {\"outlinewidth\": 0, \"ticks\": \"\"}}, \"type\": \"histogram\"}], \"histogram2d\": [{\"colorbar\": {\"outlinewidth\": 0, \"ticks\": \"\"}, \"colorscale\": [[0.0, \"#0d0887\"], [0.1111111111111111, \"#46039f\"], [0.2222222222222222, \"#7201a8\"], [0.3333333333333333, \"#9c179e\"], [0.4444444444444444, \"#bd3786\"], [0.5555555555555556, \"#d8576b\"], [0.6666666666666666, \"#ed7953\"], [0.7777777777777778, \"#fb9f3a\"], [0.8888888888888888, \"#fdca26\"], [1.0, \"#f0f921\"]], \"type\": \"histogram2d\"}], \"histogram2dcontour\": [{\"colorbar\": {\"outlinewidth\": 0, \"ticks\": \"\"}, \"colorscale\": [[0.0, \"#0d0887\"], [0.1111111111111111, \"#46039f\"], [0.2222222222222222, \"#7201a8\"], [0.3333333333333333, \"#9c179e\"], [0.4444444444444444, \"#bd3786\"], [0.5555555555555556, \"#d8576b\"], [0.6666666666666666, \"#ed7953\"], [0.7777777777777778, \"#fb9f3a\"], [0.8888888888888888, \"#fdca26\"], [1.0, \"#f0f921\"]], \"type\": \"histogram2dcontour\"}], \"mesh3d\": [{\"colorbar\": {\"outlinewidth\": 0, \"ticks\": \"\"}, \"type\": \"mesh3d\"}], \"parcoords\": [{\"line\": {\"colorbar\": {\"outlinewidth\": 0, \"ticks\": \"\"}}, \"type\": \"parcoords\"}], \"pie\": [{\"automargin\": true, \"type\": \"pie\"}], \"scatter\": [{\"marker\": {\"colorbar\": {\"outlinewidth\": 0, \"ticks\": \"\"}}, \"type\": \"scatter\"}], \"scatter3d\": [{\"line\": {\"colorbar\": {\"outlinewidth\": 0, \"ticks\": \"\"}}, \"marker\": {\"colorbar\": {\"outlinewidth\": 0, \"ticks\": \"\"}}, \"type\": \"scatter3d\"}], \"scattercarpet\": [{\"marker\": {\"colorbar\": {\"outlinewidth\": 0, \"ticks\": \"\"}}, \"type\": \"scattercarpet\"}], \"scattergeo\": [{\"marker\": {\"colorbar\": {\"outlinewidth\": 0, \"ticks\": \"\"}}, \"type\": \"scattergeo\"}], \"scattergl\": [{\"marker\": {\"colorbar\": {\"outlinewidth\": 0, \"ticks\": \"\"}}, \"type\": \"scattergl\"}], \"scattermapbox\": [{\"marker\": {\"colorbar\": {\"outlinewidth\": 0, \"ticks\": \"\"}}, \"type\": \"scattermapbox\"}], \"scatterpolar\": [{\"marker\": {\"colorbar\": {\"outlinewidth\": 0, \"ticks\": \"\"}}, \"type\": \"scatterpolar\"}], \"scatterpolargl\": [{\"marker\": {\"colorbar\": {\"outlinewidth\": 0, \"ticks\": \"\"}}, \"type\": \"scatterpolargl\"}], \"scatterternary\": [{\"marker\": {\"colorbar\": {\"outlinewidth\": 0, \"ticks\": \"\"}}, \"type\": \"scatterternary\"}], \"surface\": [{\"colorbar\": {\"outlinewidth\": 0, \"ticks\": \"\"}, \"colorscale\": [[0.0, \"#0d0887\"], [0.1111111111111111, \"#46039f\"], [0.2222222222222222, \"#7201a8\"], [0.3333333333333333, \"#9c179e\"], [0.4444444444444444, \"#bd3786\"], [0.5555555555555556, \"#d8576b\"], [0.6666666666666666, \"#ed7953\"], [0.7777777777777778, \"#fb9f3a\"], [0.8888888888888888, \"#fdca26\"], [1.0, \"#f0f921\"]], \"type\": \"surface\"}], \"table\": [{\"cells\": {\"fill\": {\"color\": \"#EBF0F8\"}, \"line\": {\"color\": \"white\"}}, \"header\": {\"fill\": {\"color\": \"#C8D4E3\"}, \"line\": {\"color\": \"white\"}}, \"type\": \"table\"}]}, \"layout\": {\"annotationdefaults\": {\"arrowcolor\": \"#2a3f5f\", \"arrowhead\": 0, \"arrowwidth\": 1}, \"coloraxis\": {\"colorbar\": {\"outlinewidth\": 0, \"ticks\": \"\"}}, \"colorscale\": {\"diverging\": [[0, \"#8e0152\"], [0.1, \"#c51b7d\"], [0.2, \"#de77ae\"], [0.3, \"#f1b6da\"], [0.4, \"#fde0ef\"], [0.5, \"#f7f7f7\"], [0.6, \"#e6f5d0\"], [0.7, \"#b8e186\"], [0.8, \"#7fbc41\"], [0.9, \"#4d9221\"], [1, \"#276419\"]], \"sequential\": [[0.0, \"#0d0887\"], [0.1111111111111111, \"#46039f\"], [0.2222222222222222, \"#7201a8\"], [0.3333333333333333, \"#9c179e\"], [0.4444444444444444, \"#bd3786\"], [0.5555555555555556, \"#d8576b\"], [0.6666666666666666, \"#ed7953\"], [0.7777777777777778, \"#fb9f3a\"], [0.8888888888888888, \"#fdca26\"], [1.0, \"#f0f921\"]], \"sequentialminus\": [[0.0, \"#0d0887\"], [0.1111111111111111, \"#46039f\"], [0.2222222222222222, \"#7201a8\"], [0.3333333333333333, \"#9c179e\"], [0.4444444444444444, \"#bd3786\"], [0.5555555555555556, \"#d8576b\"], [0.6666666666666666, \"#ed7953\"], [0.7777777777777778, \"#fb9f3a\"], [0.8888888888888888, \"#fdca26\"], [1.0, \"#f0f921\"]]}, \"colorway\": [\"#636efa\", \"#EF553B\", \"#00cc96\", \"#ab63fa\", \"#FFA15A\", \"#19d3f3\", \"#FF6692\", \"#B6E880\", \"#FF97FF\", \"#FECB52\"], \"font\": {\"color\": \"#2a3f5f\"}, \"geo\": {\"bgcolor\": \"white\", \"lakecolor\": \"white\", \"landcolor\": \"#E5ECF6\", \"showlakes\": true, \"showland\": true, \"subunitcolor\": \"white\"}, \"hoverlabel\": {\"align\": \"left\"}, \"hovermode\": \"closest\", \"mapbox\": {\"style\": \"light\"}, \"paper_bgcolor\": \"white\", \"plot_bgcolor\": \"#E5ECF6\", \"polar\": {\"angularaxis\": {\"gridcolor\": \"white\", \"linecolor\": \"white\", \"ticks\": \"\"}, \"bgcolor\": \"#E5ECF6\", \"radialaxis\": {\"gridcolor\": \"white\", \"linecolor\": \"white\", \"ticks\": \"\"}}, \"scene\": {\"xaxis\": {\"backgroundcolor\": \"#E5ECF6\", \"gridcolor\": \"white\", \"gridwidth\": 2, \"linecolor\": \"white\", \"showbackground\": true, \"ticks\": \"\", \"zerolinecolor\": \"white\"}, \"yaxis\": {\"backgroundcolor\": \"#E5ECF6\", \"gridcolor\": \"white\", \"gridwidth\": 2, \"linecolor\": \"white\", \"showbackground\": true, \"ticks\": \"\", \"zerolinecolor\": \"white\"}, \"zaxis\": {\"backgroundcolor\": \"#E5ECF6\", \"gridcolor\": \"white\", \"gridwidth\": 2, \"linecolor\": \"white\", \"showbackground\": true, \"ticks\": \"\", \"zerolinecolor\": \"white\"}}, \"shapedefaults\": {\"line\": {\"color\": \"#2a3f5f\"}}, \"ternary\": {\"aaxis\": {\"gridcolor\": \"white\", \"linecolor\": \"white\", \"ticks\": \"\"}, \"baxis\": {\"gridcolor\": \"white\", \"linecolor\": \"white\", \"ticks\": \"\"}, \"bgcolor\": \"#E5ECF6\", \"caxis\": {\"gridcolor\": \"white\", \"linecolor\": \"white\", \"ticks\": \"\"}}, \"title\": {\"x\": 0.05}, \"xaxis\": {\"automargin\": true, \"gridcolor\": \"white\", \"linecolor\": \"white\", \"ticks\": \"\", \"title\": {\"standoff\": 15}, \"zerolinecolor\": \"white\", \"zerolinewidth\": 2}, \"yaxis\": {\"automargin\": true, \"gridcolor\": \"white\", \"linecolor\": \"white\", \"ticks\": \"\", \"title\": {\"standoff\": 15}, \"zerolinecolor\": \"white\", \"zerolinewidth\": 2}}}, \"xaxis\": {\"anchor\": \"y\", \"domain\": [0.0, 1.0], \"tickmode\": \"array\", \"ticktext\": [\"0-4\", \"5-9\", \"10-14\", \"15-19\", \"20-24\", \"25-29\", \"30-34\", \"35-39\", \"40-44\", \">=45\", \"45-49\", \"50-54\", \"55-59\", \"60-64\", \"65-69\", \"70-74\", \"75-79\", \"80-84\", \"85-89\", \">=90\"], \"tickvals\": [0, 1, 2, 3, 4, 5, 6, 7, 8, 9, 11, 12, 13, 14, 15, 16, 17, 18, 19, 20], \"title\": {\"text\": \"match time\"}}, \"yaxis\": {\"anchor\": \"x\", \"domain\": [0.0, 1.0], \"title\": {\"text\": \"goals\"}}},\n",
              "                        {\"responsive\": true}\n",
              "                    ).then(function(){\n",
              "                            \n",
              "var gd = document.getElementById('b4b4c15e-48d4-451e-9051-5533083bd910');\n",
              "var x = new MutationObserver(function (mutations, observer) {{\n",
              "        var display = window.getComputedStyle(gd).display;\n",
              "        if (!display || display === 'none') {{\n",
              "            console.log([gd, 'removed!']);\n",
              "            Plotly.purge(gd);\n",
              "            observer.disconnect();\n",
              "        }}\n",
              "}});\n",
              "\n",
              "// Listen for the removal of the full notebook cells\n",
              "var notebookContainer = gd.closest('#notebook-container');\n",
              "if (notebookContainer) {{\n",
              "    x.observe(notebookContainer, {childList: true});\n",
              "}}\n",
              "\n",
              "// Listen for the clearing of the current output cell\n",
              "var outputEl = gd.closest('.output');\n",
              "if (outputEl) {{\n",
              "    x.observe(outputEl, {childList: true});\n",
              "}}\n",
              "\n",
              "                        })\n",
              "                };\n",
              "                \n",
              "            </script>\n",
              "        </div>\n",
              "</body>\n",
              "</html>"
            ]
          },
          "metadata": {
            "tags": []
          }
        },
        {
          "output_type": "display_data",
          "data": {
            "text/html": [
              "<html>\n",
              "<head><meta charset=\"utf-8\" /></head>\n",
              "<body>\n",
              "    <div>\n",
              "            <script src=\"https://cdnjs.cloudflare.com/ajax/libs/mathjax/2.7.5/MathJax.js?config=TeX-AMS-MML_SVG\"></script><script type=\"text/javascript\">if (window.MathJax) {MathJax.Hub.Config({SVG: {font: \"STIX-Web\"}});}</script>\n",
              "                <script type=\"text/javascript\">window.PlotlyConfig = {MathJaxConfig: 'local'};</script>\n",
              "        <script src=\"https://cdn.plot.ly/plotly-latest.min.js\"></script>    \n",
              "            <div id=\"ef756acb-0977-4ebc-aaaf-cbe77f480a53\" class=\"plotly-graph-div\" style=\"height:525px; width:100%;\"></div>\n",
              "            <script type=\"text/javascript\">\n",
              "                \n",
              "                    window.PLOTLYENV=window.PLOTLYENV || {};\n",
              "                    \n",
              "                if (document.getElementById(\"ef756acb-0977-4ebc-aaaf-cbe77f480a53\")) {\n",
              "                    Plotly.newPlot(\n",
              "                        'ef756acb-0977-4ebc-aaaf-cbe77f480a53',\n",
              "                        [{\"alignmentgroup\": \"True\", \"hoverlabel\": {\"namelength\": 0}, \"hovertemplate\": \"matchPeriod=1H<br>match time=%{x}<br>yellow cards=%{text}\", \"legendgroup\": \"matchPeriod=1H\", \"marker\": {\"color\": \"#636efa\"}, \"name\": \"matchPeriod=1H\", \"offsetgroup\": \"matchPeriod=1H\", \"orientation\": \"v\", \"showlegend\": true, \"text\": [93.0, 132.0, 199.0, 206.0, 275.0, 326.0, 353.0, 363.0, 421.0, 106.0], \"textposition\": \"auto\", \"type\": \"bar\", \"x\": [0, 1, 2, 3, 4, 5, 6, 7, 8, 9], \"xaxis\": \"x\", \"y\": [93, 132, 199, 206, 275, 326, 353, 363, 421, 106], \"yaxis\": \"y\"}, {\"alignmentgroup\": \"True\", \"hoverlabel\": {\"namelength\": 0}, \"hovertemplate\": \"matchPeriod=2H<br>match time=%{x}<br>yellow cards=%{text}\", \"legendgroup\": \"matchPeriod=2H\", \"marker\": {\"color\": \"#EF553B\"}, \"name\": \"matchPeriod=2H\", \"offsetgroup\": \"matchPeriod=2H\", \"orientation\": \"v\", \"showlegend\": true, \"text\": [282.0, 402.0, 453.0, 475.0, 418.0, 426.0, 463.0, 504.0, 567.0, 553.0], \"textposition\": \"auto\", \"type\": \"bar\", \"x\": [11, 12, 13, 14, 15, 16, 17, 18, 19, 20], \"xaxis\": \"x\", \"y\": [282, 402, 453, 475, 418, 426, 463, 504, 567, 553], \"yaxis\": \"y\"}],\n",
              "                        {\"barmode\": \"relative\", \"legend\": {\"tracegroupgap\": 0}, \"margin\": {\"t\": 60}, \"template\": {\"data\": {\"bar\": [{\"error_x\": {\"color\": \"#2a3f5f\"}, \"error_y\": {\"color\": \"#2a3f5f\"}, \"marker\": {\"line\": {\"color\": \"#E5ECF6\", \"width\": 0.5}}, \"type\": \"bar\"}], \"barpolar\": [{\"marker\": {\"line\": {\"color\": \"#E5ECF6\", \"width\": 0.5}}, \"type\": \"barpolar\"}], \"carpet\": [{\"aaxis\": {\"endlinecolor\": \"#2a3f5f\", \"gridcolor\": \"white\", \"linecolor\": \"white\", \"minorgridcolor\": \"white\", \"startlinecolor\": \"#2a3f5f\"}, \"baxis\": {\"endlinecolor\": \"#2a3f5f\", \"gridcolor\": \"white\", \"linecolor\": \"white\", \"minorgridcolor\": \"white\", \"startlinecolor\": \"#2a3f5f\"}, \"type\": \"carpet\"}], \"choropleth\": [{\"colorbar\": {\"outlinewidth\": 0, \"ticks\": \"\"}, \"type\": \"choropleth\"}], \"contour\": [{\"colorbar\": {\"outlinewidth\": 0, \"ticks\": \"\"}, \"colorscale\": [[0.0, \"#0d0887\"], [0.1111111111111111, \"#46039f\"], [0.2222222222222222, \"#7201a8\"], [0.3333333333333333, \"#9c179e\"], [0.4444444444444444, \"#bd3786\"], [0.5555555555555556, \"#d8576b\"], [0.6666666666666666, \"#ed7953\"], [0.7777777777777778, \"#fb9f3a\"], [0.8888888888888888, \"#fdca26\"], [1.0, \"#f0f921\"]], \"type\": \"contour\"}], \"contourcarpet\": [{\"colorbar\": {\"outlinewidth\": 0, \"ticks\": \"\"}, \"type\": \"contourcarpet\"}], \"heatmap\": [{\"colorbar\": {\"outlinewidth\": 0, \"ticks\": \"\"}, \"colorscale\": [[0.0, \"#0d0887\"], [0.1111111111111111, \"#46039f\"], [0.2222222222222222, \"#7201a8\"], [0.3333333333333333, \"#9c179e\"], [0.4444444444444444, \"#bd3786\"], [0.5555555555555556, \"#d8576b\"], [0.6666666666666666, \"#ed7953\"], [0.7777777777777778, \"#fb9f3a\"], [0.8888888888888888, \"#fdca26\"], [1.0, \"#f0f921\"]], \"type\": \"heatmap\"}], \"heatmapgl\": [{\"colorbar\": {\"outlinewidth\": 0, \"ticks\": \"\"}, \"colorscale\": [[0.0, \"#0d0887\"], [0.1111111111111111, \"#46039f\"], [0.2222222222222222, \"#7201a8\"], [0.3333333333333333, \"#9c179e\"], [0.4444444444444444, \"#bd3786\"], [0.5555555555555556, \"#d8576b\"], [0.6666666666666666, \"#ed7953\"], [0.7777777777777778, \"#fb9f3a\"], [0.8888888888888888, \"#fdca26\"], [1.0, \"#f0f921\"]], \"type\": \"heatmapgl\"}], \"histogram\": [{\"marker\": {\"colorbar\": {\"outlinewidth\": 0, \"ticks\": \"\"}}, \"type\": \"histogram\"}], \"histogram2d\": [{\"colorbar\": {\"outlinewidth\": 0, \"ticks\": \"\"}, \"colorscale\": [[0.0, \"#0d0887\"], [0.1111111111111111, \"#46039f\"], [0.2222222222222222, \"#7201a8\"], [0.3333333333333333, \"#9c179e\"], [0.4444444444444444, \"#bd3786\"], [0.5555555555555556, \"#d8576b\"], [0.6666666666666666, \"#ed7953\"], [0.7777777777777778, \"#fb9f3a\"], [0.8888888888888888, \"#fdca26\"], [1.0, \"#f0f921\"]], \"type\": \"histogram2d\"}], \"histogram2dcontour\": [{\"colorbar\": {\"outlinewidth\": 0, \"ticks\": \"\"}, \"colorscale\": [[0.0, \"#0d0887\"], [0.1111111111111111, \"#46039f\"], [0.2222222222222222, \"#7201a8\"], [0.3333333333333333, \"#9c179e\"], [0.4444444444444444, \"#bd3786\"], [0.5555555555555556, \"#d8576b\"], [0.6666666666666666, \"#ed7953\"], [0.7777777777777778, \"#fb9f3a\"], [0.8888888888888888, \"#fdca26\"], [1.0, \"#f0f921\"]], \"type\": \"histogram2dcontour\"}], \"mesh3d\": [{\"colorbar\": {\"outlinewidth\": 0, \"ticks\": \"\"}, \"type\": \"mesh3d\"}], \"parcoords\": [{\"line\": {\"colorbar\": {\"outlinewidth\": 0, \"ticks\": \"\"}}, \"type\": \"parcoords\"}], \"pie\": [{\"automargin\": true, \"type\": \"pie\"}], \"scatter\": [{\"marker\": {\"colorbar\": {\"outlinewidth\": 0, \"ticks\": \"\"}}, \"type\": \"scatter\"}], \"scatter3d\": [{\"line\": {\"colorbar\": {\"outlinewidth\": 0, \"ticks\": \"\"}}, \"marker\": {\"colorbar\": {\"outlinewidth\": 0, \"ticks\": \"\"}}, \"type\": \"scatter3d\"}], \"scattercarpet\": [{\"marker\": {\"colorbar\": {\"outlinewidth\": 0, \"ticks\": \"\"}}, \"type\": \"scattercarpet\"}], \"scattergeo\": [{\"marker\": {\"colorbar\": {\"outlinewidth\": 0, \"ticks\": \"\"}}, \"type\": \"scattergeo\"}], \"scattergl\": [{\"marker\": {\"colorbar\": {\"outlinewidth\": 0, \"ticks\": \"\"}}, \"type\": \"scattergl\"}], \"scattermapbox\": [{\"marker\": {\"colorbar\": {\"outlinewidth\": 0, \"ticks\": \"\"}}, \"type\": \"scattermapbox\"}], \"scatterpolar\": [{\"marker\": {\"colorbar\": {\"outlinewidth\": 0, \"ticks\": \"\"}}, \"type\": \"scatterpolar\"}], \"scatterpolargl\": [{\"marker\": {\"colorbar\": {\"outlinewidth\": 0, \"ticks\": \"\"}}, \"type\": \"scatterpolargl\"}], \"scatterternary\": [{\"marker\": {\"colorbar\": {\"outlinewidth\": 0, \"ticks\": \"\"}}, \"type\": \"scatterternary\"}], \"surface\": [{\"colorbar\": {\"outlinewidth\": 0, \"ticks\": \"\"}, \"colorscale\": [[0.0, \"#0d0887\"], [0.1111111111111111, \"#46039f\"], [0.2222222222222222, \"#7201a8\"], [0.3333333333333333, \"#9c179e\"], [0.4444444444444444, \"#bd3786\"], [0.5555555555555556, \"#d8576b\"], [0.6666666666666666, \"#ed7953\"], [0.7777777777777778, \"#fb9f3a\"], [0.8888888888888888, \"#fdca26\"], [1.0, \"#f0f921\"]], \"type\": \"surface\"}], \"table\": [{\"cells\": {\"fill\": {\"color\": \"#EBF0F8\"}, \"line\": {\"color\": \"white\"}}, \"header\": {\"fill\": {\"color\": \"#C8D4E3\"}, \"line\": {\"color\": \"white\"}}, \"type\": \"table\"}]}, \"layout\": {\"annotationdefaults\": {\"arrowcolor\": \"#2a3f5f\", \"arrowhead\": 0, \"arrowwidth\": 1}, \"coloraxis\": {\"colorbar\": {\"outlinewidth\": 0, \"ticks\": \"\"}}, \"colorscale\": {\"diverging\": [[0, \"#8e0152\"], [0.1, \"#c51b7d\"], [0.2, \"#de77ae\"], [0.3, \"#f1b6da\"], [0.4, \"#fde0ef\"], [0.5, \"#f7f7f7\"], [0.6, \"#e6f5d0\"], [0.7, \"#b8e186\"], [0.8, \"#7fbc41\"], [0.9, \"#4d9221\"], [1, \"#276419\"]], \"sequential\": [[0.0, \"#0d0887\"], [0.1111111111111111, \"#46039f\"], [0.2222222222222222, \"#7201a8\"], [0.3333333333333333, \"#9c179e\"], [0.4444444444444444, \"#bd3786\"], [0.5555555555555556, \"#d8576b\"], [0.6666666666666666, \"#ed7953\"], [0.7777777777777778, \"#fb9f3a\"], [0.8888888888888888, \"#fdca26\"], [1.0, \"#f0f921\"]], \"sequentialminus\": [[0.0, \"#0d0887\"], [0.1111111111111111, \"#46039f\"], [0.2222222222222222, \"#7201a8\"], [0.3333333333333333, \"#9c179e\"], [0.4444444444444444, \"#bd3786\"], [0.5555555555555556, \"#d8576b\"], [0.6666666666666666, \"#ed7953\"], [0.7777777777777778, \"#fb9f3a\"], [0.8888888888888888, \"#fdca26\"], [1.0, \"#f0f921\"]]}, \"colorway\": [\"#636efa\", \"#EF553B\", \"#00cc96\", \"#ab63fa\", \"#FFA15A\", \"#19d3f3\", \"#FF6692\", \"#B6E880\", \"#FF97FF\", \"#FECB52\"], \"font\": {\"color\": \"#2a3f5f\"}, \"geo\": {\"bgcolor\": \"white\", \"lakecolor\": \"white\", \"landcolor\": \"#E5ECF6\", \"showlakes\": true, \"showland\": true, \"subunitcolor\": \"white\"}, \"hoverlabel\": {\"align\": \"left\"}, \"hovermode\": \"closest\", \"mapbox\": {\"style\": \"light\"}, \"paper_bgcolor\": \"white\", \"plot_bgcolor\": \"#E5ECF6\", \"polar\": {\"angularaxis\": {\"gridcolor\": \"white\", \"linecolor\": \"white\", \"ticks\": \"\"}, \"bgcolor\": \"#E5ECF6\", \"radialaxis\": {\"gridcolor\": \"white\", \"linecolor\": \"white\", \"ticks\": \"\"}}, \"scene\": {\"xaxis\": {\"backgroundcolor\": \"#E5ECF6\", \"gridcolor\": \"white\", \"gridwidth\": 2, \"linecolor\": \"white\", \"showbackground\": true, \"ticks\": \"\", \"zerolinecolor\": \"white\"}, \"yaxis\": {\"backgroundcolor\": \"#E5ECF6\", \"gridcolor\": \"white\", \"gridwidth\": 2, \"linecolor\": \"white\", \"showbackground\": true, \"ticks\": \"\", \"zerolinecolor\": \"white\"}, \"zaxis\": {\"backgroundcolor\": \"#E5ECF6\", \"gridcolor\": \"white\", \"gridwidth\": 2, \"linecolor\": \"white\", \"showbackground\": true, \"ticks\": \"\", \"zerolinecolor\": \"white\"}}, \"shapedefaults\": {\"line\": {\"color\": \"#2a3f5f\"}}, \"ternary\": {\"aaxis\": {\"gridcolor\": \"white\", \"linecolor\": \"white\", \"ticks\": \"\"}, \"baxis\": {\"gridcolor\": \"white\", \"linecolor\": \"white\", \"ticks\": \"\"}, \"bgcolor\": \"#E5ECF6\", \"caxis\": {\"gridcolor\": \"white\", \"linecolor\": \"white\", \"ticks\": \"\"}}, \"title\": {\"x\": 0.05}, \"xaxis\": {\"automargin\": true, \"gridcolor\": \"white\", \"linecolor\": \"white\", \"ticks\": \"\", \"title\": {\"standoff\": 15}, \"zerolinecolor\": \"white\", \"zerolinewidth\": 2}, \"yaxis\": {\"automargin\": true, \"gridcolor\": \"white\", \"linecolor\": \"white\", \"ticks\": \"\", \"title\": {\"standoff\": 15}, \"zerolinecolor\": \"white\", \"zerolinewidth\": 2}}}, \"xaxis\": {\"anchor\": \"y\", \"domain\": [0.0, 1.0], \"tickmode\": \"array\", \"ticktext\": [\"0-4\", \"5-9\", \"10-14\", \"15-19\", \"20-24\", \"25-29\", \"30-34\", \"35-39\", \"40-44\", \">=45\", \"45-49\", \"50-54\", \"55-59\", \"60-64\", \"65-69\", \"70-74\", \"75-79\", \"80-84\", \"85-89\", \">=90\"], \"tickvals\": [0, 1, 2, 3, 4, 5, 6, 7, 8, 9, 11, 12, 13, 14, 15, 16, 17, 18, 19, 20], \"title\": {\"text\": \"match time\"}}, \"yaxis\": {\"anchor\": \"x\", \"domain\": [0.0, 1.0], \"title\": {\"text\": \"yellow cards\"}}},\n",
              "                        {\"responsive\": true}\n",
              "                    ).then(function(){\n",
              "                            \n",
              "var gd = document.getElementById('ef756acb-0977-4ebc-aaaf-cbe77f480a53');\n",
              "var x = new MutationObserver(function (mutations, observer) {{\n",
              "        var display = window.getComputedStyle(gd).display;\n",
              "        if (!display || display === 'none') {{\n",
              "            console.log([gd, 'removed!']);\n",
              "            Plotly.purge(gd);\n",
              "            observer.disconnect();\n",
              "        }}\n",
              "}});\n",
              "\n",
              "// Listen for the removal of the full notebook cells\n",
              "var notebookContainer = gd.closest('#notebook-container');\n",
              "if (notebookContainer) {{\n",
              "    x.observe(notebookContainer, {childList: true});\n",
              "}}\n",
              "\n",
              "// Listen for the clearing of the current output cell\n",
              "var outputEl = gd.closest('.output');\n",
              "if (outputEl) {{\n",
              "    x.observe(outputEl, {childList: true});\n",
              "}}\n",
              "\n",
              "                        })\n",
              "                };\n",
              "                \n",
              "            </script>\n",
              "        </div>\n",
              "</body>\n",
              "</html>"
            ]
          },
          "metadata": {
            "tags": []
          }
        },
        {
          "output_type": "display_data",
          "data": {
            "text/html": [
              "<html>\n",
              "<head><meta charset=\"utf-8\" /></head>\n",
              "<body>\n",
              "    <div>\n",
              "            <script src=\"https://cdnjs.cloudflare.com/ajax/libs/mathjax/2.7.5/MathJax.js?config=TeX-AMS-MML_SVG\"></script><script type=\"text/javascript\">if (window.MathJax) {MathJax.Hub.Config({SVG: {font: \"STIX-Web\"}});}</script>\n",
              "                <script type=\"text/javascript\">window.PlotlyConfig = {MathJaxConfig: 'local'};</script>\n",
              "        <script src=\"https://cdn.plot.ly/plotly-latest.min.js\"></script>    \n",
              "            <div id=\"78e8ada5-3075-4381-90e9-1032c4c3c05f\" class=\"plotly-graph-div\" style=\"height:525px; width:100%;\"></div>\n",
              "            <script type=\"text/javascript\">\n",
              "                \n",
              "                    window.PLOTLYENV=window.PLOTLYENV || {};\n",
              "                    \n",
              "                if (document.getElementById(\"78e8ada5-3075-4381-90e9-1032c4c3c05f\")) {\n",
              "                    Plotly.newPlot(\n",
              "                        '78e8ada5-3075-4381-90e9-1032c4c3c05f',\n",
              "                        [{\"alignmentgroup\": \"True\", \"hoverlabel\": {\"namelength\": 0}, \"hovertemplate\": \"matchPeriod=1H<br>match time=%{x}<br>red cards=%{text}\", \"legendgroup\": \"matchPeriod=1H\", \"marker\": {\"color\": \"#636efa\"}, \"name\": \"matchPeriod=1H\", \"offsetgroup\": \"matchPeriod=1H\", \"orientation\": \"v\", \"showlegend\": true, \"text\": [2.0, 10.0, 7.0, 0.0, 7.0, 7.0, 9.0, 7.0, 5.0, 5.0], \"textposition\": \"auto\", \"type\": \"bar\", \"x\": [0, 1, 2, 3, 4, 5, 6, 7, 8, 9], \"xaxis\": \"x\", \"y\": [2, 10, 7, 0, 7, 7, 9, 7, 5, 5], \"yaxis\": \"y\"}, {\"alignmentgroup\": \"True\", \"hoverlabel\": {\"namelength\": 0}, \"hovertemplate\": \"matchPeriod=2H<br>match time=%{x}<br>red cards=%{text}\", \"legendgroup\": \"matchPeriod=2H\", \"marker\": {\"color\": \"#EF553B\"}, \"name\": \"matchPeriod=2H\", \"offsetgroup\": \"matchPeriod=2H\", \"orientation\": \"v\", \"showlegend\": true, \"text\": [9.0, 12.0, 6.0, 10.0, 6.0, 7.0, 7.0, 15.0, 16.0, 24.0], \"textposition\": \"auto\", \"type\": \"bar\", \"x\": [11, 12, 13, 14, 15, 16, 17, 18, 19, 20], \"xaxis\": \"x\", \"y\": [9, 12, 6, 10, 6, 7, 7, 15, 16, 24], \"yaxis\": \"y\"}],\n",
              "                        {\"barmode\": \"relative\", \"legend\": {\"tracegroupgap\": 0}, \"margin\": {\"t\": 60}, \"template\": {\"data\": {\"bar\": [{\"error_x\": {\"color\": \"#2a3f5f\"}, \"error_y\": {\"color\": \"#2a3f5f\"}, \"marker\": {\"line\": {\"color\": \"#E5ECF6\", \"width\": 0.5}}, \"type\": \"bar\"}], \"barpolar\": [{\"marker\": {\"line\": {\"color\": \"#E5ECF6\", \"width\": 0.5}}, \"type\": \"barpolar\"}], \"carpet\": [{\"aaxis\": {\"endlinecolor\": \"#2a3f5f\", \"gridcolor\": \"white\", \"linecolor\": \"white\", \"minorgridcolor\": \"white\", \"startlinecolor\": \"#2a3f5f\"}, \"baxis\": {\"endlinecolor\": \"#2a3f5f\", \"gridcolor\": \"white\", \"linecolor\": \"white\", \"minorgridcolor\": \"white\", \"startlinecolor\": \"#2a3f5f\"}, \"type\": \"carpet\"}], \"choropleth\": [{\"colorbar\": {\"outlinewidth\": 0, \"ticks\": \"\"}, \"type\": \"choropleth\"}], \"contour\": [{\"colorbar\": {\"outlinewidth\": 0, \"ticks\": \"\"}, \"colorscale\": [[0.0, \"#0d0887\"], [0.1111111111111111, \"#46039f\"], [0.2222222222222222, \"#7201a8\"], [0.3333333333333333, \"#9c179e\"], [0.4444444444444444, \"#bd3786\"], [0.5555555555555556, \"#d8576b\"], [0.6666666666666666, \"#ed7953\"], [0.7777777777777778, \"#fb9f3a\"], [0.8888888888888888, \"#fdca26\"], [1.0, \"#f0f921\"]], \"type\": \"contour\"}], \"contourcarpet\": [{\"colorbar\": {\"outlinewidth\": 0, \"ticks\": \"\"}, \"type\": \"contourcarpet\"}], \"heatmap\": [{\"colorbar\": {\"outlinewidth\": 0, \"ticks\": \"\"}, \"colorscale\": [[0.0, \"#0d0887\"], [0.1111111111111111, \"#46039f\"], [0.2222222222222222, \"#7201a8\"], [0.3333333333333333, \"#9c179e\"], [0.4444444444444444, \"#bd3786\"], [0.5555555555555556, \"#d8576b\"], [0.6666666666666666, \"#ed7953\"], [0.7777777777777778, \"#fb9f3a\"], [0.8888888888888888, \"#fdca26\"], [1.0, \"#f0f921\"]], \"type\": \"heatmap\"}], \"heatmapgl\": [{\"colorbar\": {\"outlinewidth\": 0, \"ticks\": \"\"}, \"colorscale\": [[0.0, \"#0d0887\"], [0.1111111111111111, \"#46039f\"], [0.2222222222222222, \"#7201a8\"], [0.3333333333333333, \"#9c179e\"], [0.4444444444444444, \"#bd3786\"], [0.5555555555555556, \"#d8576b\"], [0.6666666666666666, \"#ed7953\"], [0.7777777777777778, \"#fb9f3a\"], [0.8888888888888888, \"#fdca26\"], [1.0, \"#f0f921\"]], \"type\": \"heatmapgl\"}], \"histogram\": [{\"marker\": {\"colorbar\": {\"outlinewidth\": 0, \"ticks\": \"\"}}, \"type\": \"histogram\"}], \"histogram2d\": [{\"colorbar\": {\"outlinewidth\": 0, \"ticks\": \"\"}, \"colorscale\": [[0.0, \"#0d0887\"], [0.1111111111111111, \"#46039f\"], [0.2222222222222222, \"#7201a8\"], [0.3333333333333333, \"#9c179e\"], [0.4444444444444444, \"#bd3786\"], [0.5555555555555556, \"#d8576b\"], [0.6666666666666666, \"#ed7953\"], [0.7777777777777778, \"#fb9f3a\"], [0.8888888888888888, \"#fdca26\"], [1.0, \"#f0f921\"]], \"type\": \"histogram2d\"}], \"histogram2dcontour\": [{\"colorbar\": {\"outlinewidth\": 0, \"ticks\": \"\"}, \"colorscale\": [[0.0, \"#0d0887\"], [0.1111111111111111, \"#46039f\"], [0.2222222222222222, \"#7201a8\"], [0.3333333333333333, \"#9c179e\"], [0.4444444444444444, \"#bd3786\"], [0.5555555555555556, \"#d8576b\"], [0.6666666666666666, \"#ed7953\"], [0.7777777777777778, \"#fb9f3a\"], [0.8888888888888888, \"#fdca26\"], [1.0, \"#f0f921\"]], \"type\": \"histogram2dcontour\"}], \"mesh3d\": [{\"colorbar\": {\"outlinewidth\": 0, \"ticks\": \"\"}, \"type\": \"mesh3d\"}], \"parcoords\": [{\"line\": {\"colorbar\": {\"outlinewidth\": 0, \"ticks\": \"\"}}, \"type\": \"parcoords\"}], \"pie\": [{\"automargin\": true, \"type\": \"pie\"}], \"scatter\": [{\"marker\": {\"colorbar\": {\"outlinewidth\": 0, \"ticks\": \"\"}}, \"type\": \"scatter\"}], \"scatter3d\": [{\"line\": {\"colorbar\": {\"outlinewidth\": 0, \"ticks\": \"\"}}, \"marker\": {\"colorbar\": {\"outlinewidth\": 0, \"ticks\": \"\"}}, \"type\": \"scatter3d\"}], \"scattercarpet\": [{\"marker\": {\"colorbar\": {\"outlinewidth\": 0, \"ticks\": \"\"}}, \"type\": \"scattercarpet\"}], \"scattergeo\": [{\"marker\": {\"colorbar\": {\"outlinewidth\": 0, \"ticks\": \"\"}}, \"type\": \"scattergeo\"}], \"scattergl\": [{\"marker\": {\"colorbar\": {\"outlinewidth\": 0, \"ticks\": \"\"}}, \"type\": \"scattergl\"}], \"scattermapbox\": [{\"marker\": {\"colorbar\": {\"outlinewidth\": 0, \"ticks\": \"\"}}, \"type\": \"scattermapbox\"}], \"scatterpolar\": [{\"marker\": {\"colorbar\": {\"outlinewidth\": 0, \"ticks\": \"\"}}, \"type\": \"scatterpolar\"}], \"scatterpolargl\": [{\"marker\": {\"colorbar\": {\"outlinewidth\": 0, \"ticks\": \"\"}}, \"type\": \"scatterpolargl\"}], \"scatterternary\": [{\"marker\": {\"colorbar\": {\"outlinewidth\": 0, \"ticks\": \"\"}}, \"type\": \"scatterternary\"}], \"surface\": [{\"colorbar\": {\"outlinewidth\": 0, \"ticks\": \"\"}, \"colorscale\": [[0.0, \"#0d0887\"], [0.1111111111111111, \"#46039f\"], [0.2222222222222222, \"#7201a8\"], [0.3333333333333333, \"#9c179e\"], [0.4444444444444444, \"#bd3786\"], [0.5555555555555556, \"#d8576b\"], [0.6666666666666666, \"#ed7953\"], [0.7777777777777778, \"#fb9f3a\"], [0.8888888888888888, \"#fdca26\"], [1.0, \"#f0f921\"]], \"type\": \"surface\"}], \"table\": [{\"cells\": {\"fill\": {\"color\": \"#EBF0F8\"}, \"line\": {\"color\": \"white\"}}, \"header\": {\"fill\": {\"color\": \"#C8D4E3\"}, \"line\": {\"color\": \"white\"}}, \"type\": \"table\"}]}, \"layout\": {\"annotationdefaults\": {\"arrowcolor\": \"#2a3f5f\", \"arrowhead\": 0, \"arrowwidth\": 1}, \"coloraxis\": {\"colorbar\": {\"outlinewidth\": 0, \"ticks\": \"\"}}, \"colorscale\": {\"diverging\": [[0, \"#8e0152\"], [0.1, \"#c51b7d\"], [0.2, \"#de77ae\"], [0.3, \"#f1b6da\"], [0.4, \"#fde0ef\"], [0.5, \"#f7f7f7\"], [0.6, \"#e6f5d0\"], [0.7, \"#b8e186\"], [0.8, \"#7fbc41\"], [0.9, \"#4d9221\"], [1, \"#276419\"]], \"sequential\": [[0.0, \"#0d0887\"], [0.1111111111111111, \"#46039f\"], [0.2222222222222222, \"#7201a8\"], [0.3333333333333333, \"#9c179e\"], [0.4444444444444444, \"#bd3786\"], [0.5555555555555556, \"#d8576b\"], [0.6666666666666666, \"#ed7953\"], [0.7777777777777778, \"#fb9f3a\"], [0.8888888888888888, \"#fdca26\"], [1.0, \"#f0f921\"]], \"sequentialminus\": [[0.0, \"#0d0887\"], [0.1111111111111111, \"#46039f\"], [0.2222222222222222, \"#7201a8\"], [0.3333333333333333, \"#9c179e\"], [0.4444444444444444, \"#bd3786\"], [0.5555555555555556, \"#d8576b\"], [0.6666666666666666, \"#ed7953\"], [0.7777777777777778, \"#fb9f3a\"], [0.8888888888888888, \"#fdca26\"], [1.0, \"#f0f921\"]]}, \"colorway\": [\"#636efa\", \"#EF553B\", \"#00cc96\", \"#ab63fa\", \"#FFA15A\", \"#19d3f3\", \"#FF6692\", \"#B6E880\", \"#FF97FF\", \"#FECB52\"], \"font\": {\"color\": \"#2a3f5f\"}, \"geo\": {\"bgcolor\": \"white\", \"lakecolor\": \"white\", \"landcolor\": \"#E5ECF6\", \"showlakes\": true, \"showland\": true, \"subunitcolor\": \"white\"}, \"hoverlabel\": {\"align\": \"left\"}, \"hovermode\": \"closest\", \"mapbox\": {\"style\": \"light\"}, \"paper_bgcolor\": \"white\", \"plot_bgcolor\": \"#E5ECF6\", \"polar\": {\"angularaxis\": {\"gridcolor\": \"white\", \"linecolor\": \"white\", \"ticks\": \"\"}, \"bgcolor\": \"#E5ECF6\", \"radialaxis\": {\"gridcolor\": \"white\", \"linecolor\": \"white\", \"ticks\": \"\"}}, \"scene\": {\"xaxis\": {\"backgroundcolor\": \"#E5ECF6\", \"gridcolor\": \"white\", \"gridwidth\": 2, \"linecolor\": \"white\", \"showbackground\": true, \"ticks\": \"\", \"zerolinecolor\": \"white\"}, \"yaxis\": {\"backgroundcolor\": \"#E5ECF6\", \"gridcolor\": \"white\", \"gridwidth\": 2, \"linecolor\": \"white\", \"showbackground\": true, \"ticks\": \"\", \"zerolinecolor\": \"white\"}, \"zaxis\": {\"backgroundcolor\": \"#E5ECF6\", \"gridcolor\": \"white\", \"gridwidth\": 2, \"linecolor\": \"white\", \"showbackground\": true, \"ticks\": \"\", \"zerolinecolor\": \"white\"}}, \"shapedefaults\": {\"line\": {\"color\": \"#2a3f5f\"}}, \"ternary\": {\"aaxis\": {\"gridcolor\": \"white\", \"linecolor\": \"white\", \"ticks\": \"\"}, \"baxis\": {\"gridcolor\": \"white\", \"linecolor\": \"white\", \"ticks\": \"\"}, \"bgcolor\": \"#E5ECF6\", \"caxis\": {\"gridcolor\": \"white\", \"linecolor\": \"white\", \"ticks\": \"\"}}, \"title\": {\"x\": 0.05}, \"xaxis\": {\"automargin\": true, \"gridcolor\": \"white\", \"linecolor\": \"white\", \"ticks\": \"\", \"title\": {\"standoff\": 15}, \"zerolinecolor\": \"white\", \"zerolinewidth\": 2}, \"yaxis\": {\"automargin\": true, \"gridcolor\": \"white\", \"linecolor\": \"white\", \"ticks\": \"\", \"title\": {\"standoff\": 15}, \"zerolinecolor\": \"white\", \"zerolinewidth\": 2}}}, \"xaxis\": {\"anchor\": \"y\", \"domain\": [0.0, 1.0], \"tickmode\": \"array\", \"ticktext\": [\"0-4\", \"5-9\", \"10-14\", \"15-19\", \"20-24\", \"25-29\", \"30-34\", \"35-39\", \"40-44\", \">=45\", \"45-49\", \"50-54\", \"55-59\", \"60-64\", \"65-69\", \"70-74\", \"75-79\", \"80-84\", \"85-89\", \">=90\"], \"tickvals\": [0, 1, 2, 3, 4, 5, 6, 7, 8, 9, 11, 12, 13, 14, 15, 16, 17, 18, 19, 20], \"title\": {\"text\": \"match time\"}}, \"yaxis\": {\"anchor\": \"x\", \"domain\": [0.0, 1.0], \"title\": {\"text\": \"red cards\"}}},\n",
              "                        {\"responsive\": true}\n",
              "                    ).then(function(){\n",
              "                            \n",
              "var gd = document.getElementById('78e8ada5-3075-4381-90e9-1032c4c3c05f');\n",
              "var x = new MutationObserver(function (mutations, observer) {{\n",
              "        var display = window.getComputedStyle(gd).display;\n",
              "        if (!display || display === 'none') {{\n",
              "            console.log([gd, 'removed!']);\n",
              "            Plotly.purge(gd);\n",
              "            observer.disconnect();\n",
              "        }}\n",
              "}});\n",
              "\n",
              "// Listen for the removal of the full notebook cells\n",
              "var notebookContainer = gd.closest('#notebook-container');\n",
              "if (notebookContainer) {{\n",
              "    x.observe(notebookContainer, {childList: true});\n",
              "}}\n",
              "\n",
              "// Listen for the clearing of the current output cell\n",
              "var outputEl = gd.closest('.output');\n",
              "if (outputEl) {{\n",
              "    x.observe(outputEl, {childList: true});\n",
              "}}\n",
              "\n",
              "                        })\n",
              "                };\n",
              "                \n",
              "            </script>\n",
              "        </div>\n",
              "</body>\n",
              "</html>"
            ]
          },
          "metadata": {
            "tags": []
          }
        }
      ]
    },
    {
      "cell_type": "markdown",
      "metadata": {
        "id": "uKiJrJIZHhP-"
      },
      "source": [
        "## 2. Miejsce rozgrywania, struktura wyników"
      ]
    },
    {
      "cell_type": "code",
      "metadata": {
        "colab": {
          "base_uri": "https://localhost:8080/",
          "height": 142
        },
        "id": "QdSMLX_XHnic",
        "outputId": "2e45774c-862d-4da8-c086-312e6a2f8c5f"
      },
      "source": [
        "pdHomeResults = matches.select(\"wyId\",\"winner\",\"team\",\"info.side\").filter((f.col(\"winner\") == f.col(\"team\")) | (f.col(\"winner\") == 0))\\\n",
        "    .withColumn(\"home\",f.when(f.col(\"winner\") == 0, \"draw\").when(f.col(\"side\") == \"home\", \"win\").otherwise(\"loss\"))\\\n",
        "    .select(\"wyId\",\"home\")\\\n",
        "    .distinct()\\\n",
        "    .groupBy(\"home\")\\\n",
        "    .agg(f.count(\"home\").alias(\"count\"))\\\n",
        "    .toPandas()\n",
        "\n",
        "pdHomeResults"
      ],
      "execution_count": null,
      "outputs": [
        {
          "output_type": "execute_result",
          "data": {
            "text/html": [
              "<div>\n",
              "<style scoped>\n",
              "    .dataframe tbody tr th:only-of-type {\n",
              "        vertical-align: middle;\n",
              "    }\n",
              "\n",
              "    .dataframe tbody tr th {\n",
              "        vertical-align: top;\n",
              "    }\n",
              "\n",
              "    .dataframe thead th {\n",
              "        text-align: right;\n",
              "    }\n",
              "</style>\n",
              "<table border=\"1\" class=\"dataframe\">\n",
              "  <thead>\n",
              "    <tr style=\"text-align: right;\">\n",
              "      <th></th>\n",
              "      <th>home</th>\n",
              "      <th>count</th>\n",
              "    </tr>\n",
              "  </thead>\n",
              "  <tbody>\n",
              "    <tr>\n",
              "      <th>0</th>\n",
              "      <td>win</td>\n",
              "      <td>822</td>\n",
              "    </tr>\n",
              "    <tr>\n",
              "      <th>1</th>\n",
              "      <td>loss</td>\n",
              "      <td>550</td>\n",
              "    </tr>\n",
              "    <tr>\n",
              "      <th>2</th>\n",
              "      <td>draw</td>\n",
              "      <td>454</td>\n",
              "    </tr>\n",
              "  </tbody>\n",
              "</table>\n",
              "</div>"
            ],
            "text/plain": [
              "   home  count\n",
              "0   win    822\n",
              "1  loss    550\n",
              "2  draw    454"
            ]
          },
          "metadata": {
            "tags": []
          },
          "execution_count": 29
        }
      ]
    },
    {
      "cell_type": "code",
      "metadata": {
        "colab": {
          "base_uri": "https://localhost:8080/",
          "height": 542
        },
        "id": "eMUCOKFUIO69",
        "outputId": "dbe80c6d-a8a0-44e6-8c6e-89dc5893e92d"
      },
      "source": [
        "fig = px.pie(pdHomeResults, names=\"home\", values=\"count\", hole=0.3)\n",
        "fig.update_layout(title=\"Rezultaty uzyskiwane przez drużyny grające na własnym boisku\", title_x=0.5)\n",
        "fig.update_traces(textposition='inside', textinfo='percent+label')\n",
        "fig.show()"
      ],
      "execution_count": null,
      "outputs": [
        {
          "output_type": "display_data",
          "data": {
            "text/html": [
              "<html>\n",
              "<head><meta charset=\"utf-8\" /></head>\n",
              "<body>\n",
              "    <div>\n",
              "            <script src=\"https://cdnjs.cloudflare.com/ajax/libs/mathjax/2.7.5/MathJax.js?config=TeX-AMS-MML_SVG\"></script><script type=\"text/javascript\">if (window.MathJax) {MathJax.Hub.Config({SVG: {font: \"STIX-Web\"}});}</script>\n",
              "                <script type=\"text/javascript\">window.PlotlyConfig = {MathJaxConfig: 'local'};</script>\n",
              "        <script src=\"https://cdn.plot.ly/plotly-latest.min.js\"></script>    \n",
              "            <div id=\"b1f69dca-3a1e-4689-a804-0b8a00e1de4e\" class=\"plotly-graph-div\" style=\"height:525px; width:100%;\"></div>\n",
              "            <script type=\"text/javascript\">\n",
              "                \n",
              "                    window.PLOTLYENV=window.PLOTLYENV || {};\n",
              "                    \n",
              "                if (document.getElementById(\"b1f69dca-3a1e-4689-a804-0b8a00e1de4e\")) {\n",
              "                    Plotly.newPlot(\n",
              "                        'b1f69dca-3a1e-4689-a804-0b8a00e1de4e',\n",
              "                        [{\"domain\": {\"x\": [0.0, 1.0], \"y\": [0.0, 1.0]}, \"hole\": 0.3, \"hoverlabel\": {\"namelength\": 0}, \"hovertemplate\": \"home=%{label}<br>count=%{value}\", \"labels\": [\"win\", \"loss\", \"draw\"], \"legendgroup\": \"\", \"name\": \"\", \"showlegend\": true, \"textinfo\": \"percent+label\", \"textposition\": \"inside\", \"type\": \"pie\", \"values\": [822, 550, 454]}],\n",
              "                        {\"legend\": {\"tracegroupgap\": 0}, \"margin\": {\"t\": 60}, \"template\": {\"data\": {\"bar\": [{\"error_x\": {\"color\": \"#2a3f5f\"}, \"error_y\": {\"color\": \"#2a3f5f\"}, \"marker\": {\"line\": {\"color\": \"#E5ECF6\", \"width\": 0.5}}, \"type\": \"bar\"}], \"barpolar\": [{\"marker\": {\"line\": {\"color\": \"#E5ECF6\", \"width\": 0.5}}, \"type\": \"barpolar\"}], \"carpet\": [{\"aaxis\": {\"endlinecolor\": \"#2a3f5f\", \"gridcolor\": \"white\", \"linecolor\": \"white\", \"minorgridcolor\": \"white\", \"startlinecolor\": \"#2a3f5f\"}, \"baxis\": {\"endlinecolor\": \"#2a3f5f\", \"gridcolor\": \"white\", \"linecolor\": \"white\", \"minorgridcolor\": \"white\", \"startlinecolor\": \"#2a3f5f\"}, \"type\": \"carpet\"}], \"choropleth\": [{\"colorbar\": {\"outlinewidth\": 0, \"ticks\": \"\"}, \"type\": \"choropleth\"}], \"contour\": [{\"colorbar\": {\"outlinewidth\": 0, \"ticks\": \"\"}, \"colorscale\": [[0.0, \"#0d0887\"], [0.1111111111111111, \"#46039f\"], [0.2222222222222222, \"#7201a8\"], [0.3333333333333333, \"#9c179e\"], [0.4444444444444444, \"#bd3786\"], [0.5555555555555556, \"#d8576b\"], [0.6666666666666666, \"#ed7953\"], [0.7777777777777778, \"#fb9f3a\"], [0.8888888888888888, \"#fdca26\"], [1.0, \"#f0f921\"]], \"type\": \"contour\"}], \"contourcarpet\": [{\"colorbar\": {\"outlinewidth\": 0, \"ticks\": \"\"}, \"type\": \"contourcarpet\"}], \"heatmap\": [{\"colorbar\": {\"outlinewidth\": 0, \"ticks\": \"\"}, \"colorscale\": [[0.0, \"#0d0887\"], [0.1111111111111111, \"#46039f\"], [0.2222222222222222, \"#7201a8\"], [0.3333333333333333, \"#9c179e\"], [0.4444444444444444, \"#bd3786\"], [0.5555555555555556, \"#d8576b\"], [0.6666666666666666, \"#ed7953\"], [0.7777777777777778, \"#fb9f3a\"], [0.8888888888888888, \"#fdca26\"], [1.0, \"#f0f921\"]], \"type\": \"heatmap\"}], \"heatmapgl\": [{\"colorbar\": {\"outlinewidth\": 0, \"ticks\": \"\"}, \"colorscale\": [[0.0, \"#0d0887\"], [0.1111111111111111, \"#46039f\"], [0.2222222222222222, \"#7201a8\"], [0.3333333333333333, \"#9c179e\"], [0.4444444444444444, \"#bd3786\"], [0.5555555555555556, \"#d8576b\"], [0.6666666666666666, \"#ed7953\"], [0.7777777777777778, \"#fb9f3a\"], [0.8888888888888888, \"#fdca26\"], [1.0, \"#f0f921\"]], \"type\": \"heatmapgl\"}], \"histogram\": [{\"marker\": {\"colorbar\": {\"outlinewidth\": 0, \"ticks\": \"\"}}, \"type\": \"histogram\"}], \"histogram2d\": [{\"colorbar\": {\"outlinewidth\": 0, \"ticks\": \"\"}, \"colorscale\": [[0.0, \"#0d0887\"], [0.1111111111111111, \"#46039f\"], [0.2222222222222222, \"#7201a8\"], [0.3333333333333333, \"#9c179e\"], [0.4444444444444444, \"#bd3786\"], [0.5555555555555556, \"#d8576b\"], [0.6666666666666666, \"#ed7953\"], [0.7777777777777778, \"#fb9f3a\"], [0.8888888888888888, \"#fdca26\"], [1.0, \"#f0f921\"]], \"type\": \"histogram2d\"}], \"histogram2dcontour\": [{\"colorbar\": {\"outlinewidth\": 0, \"ticks\": \"\"}, \"colorscale\": [[0.0, \"#0d0887\"], [0.1111111111111111, \"#46039f\"], [0.2222222222222222, \"#7201a8\"], [0.3333333333333333, \"#9c179e\"], [0.4444444444444444, \"#bd3786\"], [0.5555555555555556, \"#d8576b\"], [0.6666666666666666, \"#ed7953\"], [0.7777777777777778, \"#fb9f3a\"], [0.8888888888888888, \"#fdca26\"], [1.0, \"#f0f921\"]], \"type\": \"histogram2dcontour\"}], \"mesh3d\": [{\"colorbar\": {\"outlinewidth\": 0, \"ticks\": \"\"}, \"type\": \"mesh3d\"}], \"parcoords\": [{\"line\": {\"colorbar\": {\"outlinewidth\": 0, \"ticks\": \"\"}}, \"type\": \"parcoords\"}], \"pie\": [{\"automargin\": true, \"type\": \"pie\"}], \"scatter\": [{\"marker\": {\"colorbar\": {\"outlinewidth\": 0, \"ticks\": \"\"}}, \"type\": \"scatter\"}], \"scatter3d\": [{\"line\": {\"colorbar\": {\"outlinewidth\": 0, \"ticks\": \"\"}}, \"marker\": {\"colorbar\": {\"outlinewidth\": 0, \"ticks\": \"\"}}, \"type\": \"scatter3d\"}], \"scattercarpet\": [{\"marker\": {\"colorbar\": {\"outlinewidth\": 0, \"ticks\": \"\"}}, \"type\": \"scattercarpet\"}], \"scattergeo\": [{\"marker\": {\"colorbar\": {\"outlinewidth\": 0, \"ticks\": \"\"}}, \"type\": \"scattergeo\"}], \"scattergl\": [{\"marker\": {\"colorbar\": {\"outlinewidth\": 0, \"ticks\": \"\"}}, \"type\": \"scattergl\"}], \"scattermapbox\": [{\"marker\": {\"colorbar\": {\"outlinewidth\": 0, \"ticks\": \"\"}}, \"type\": \"scattermapbox\"}], \"scatterpolar\": [{\"marker\": {\"colorbar\": {\"outlinewidth\": 0, \"ticks\": \"\"}}, \"type\": \"scatterpolar\"}], \"scatterpolargl\": [{\"marker\": {\"colorbar\": {\"outlinewidth\": 0, \"ticks\": \"\"}}, \"type\": \"scatterpolargl\"}], \"scatterternary\": [{\"marker\": {\"colorbar\": {\"outlinewidth\": 0, \"ticks\": \"\"}}, \"type\": \"scatterternary\"}], \"surface\": [{\"colorbar\": {\"outlinewidth\": 0, \"ticks\": \"\"}, \"colorscale\": [[0.0, \"#0d0887\"], [0.1111111111111111, \"#46039f\"], [0.2222222222222222, \"#7201a8\"], [0.3333333333333333, \"#9c179e\"], [0.4444444444444444, \"#bd3786\"], [0.5555555555555556, \"#d8576b\"], [0.6666666666666666, \"#ed7953\"], [0.7777777777777778, \"#fb9f3a\"], [0.8888888888888888, \"#fdca26\"], [1.0, \"#f0f921\"]], \"type\": \"surface\"}], \"table\": [{\"cells\": {\"fill\": {\"color\": \"#EBF0F8\"}, \"line\": {\"color\": \"white\"}}, \"header\": {\"fill\": {\"color\": \"#C8D4E3\"}, \"line\": {\"color\": \"white\"}}, \"type\": \"table\"}]}, \"layout\": {\"annotationdefaults\": {\"arrowcolor\": \"#2a3f5f\", \"arrowhead\": 0, \"arrowwidth\": 1}, \"coloraxis\": {\"colorbar\": {\"outlinewidth\": 0, \"ticks\": \"\"}}, \"colorscale\": {\"diverging\": [[0, \"#8e0152\"], [0.1, \"#c51b7d\"], [0.2, \"#de77ae\"], [0.3, \"#f1b6da\"], [0.4, \"#fde0ef\"], [0.5, \"#f7f7f7\"], [0.6, \"#e6f5d0\"], [0.7, \"#b8e186\"], [0.8, \"#7fbc41\"], [0.9, \"#4d9221\"], [1, \"#276419\"]], \"sequential\": [[0.0, \"#0d0887\"], [0.1111111111111111, \"#46039f\"], [0.2222222222222222, \"#7201a8\"], [0.3333333333333333, \"#9c179e\"], [0.4444444444444444, \"#bd3786\"], [0.5555555555555556, \"#d8576b\"], [0.6666666666666666, \"#ed7953\"], [0.7777777777777778, \"#fb9f3a\"], [0.8888888888888888, \"#fdca26\"], [1.0, \"#f0f921\"]], \"sequentialminus\": [[0.0, \"#0d0887\"], [0.1111111111111111, \"#46039f\"], [0.2222222222222222, \"#7201a8\"], [0.3333333333333333, \"#9c179e\"], [0.4444444444444444, \"#bd3786\"], [0.5555555555555556, \"#d8576b\"], [0.6666666666666666, \"#ed7953\"], [0.7777777777777778, \"#fb9f3a\"], [0.8888888888888888, \"#fdca26\"], [1.0, \"#f0f921\"]]}, \"colorway\": [\"#636efa\", \"#EF553B\", \"#00cc96\", \"#ab63fa\", \"#FFA15A\", \"#19d3f3\", \"#FF6692\", \"#B6E880\", \"#FF97FF\", \"#FECB52\"], \"font\": {\"color\": \"#2a3f5f\"}, \"geo\": {\"bgcolor\": \"white\", \"lakecolor\": \"white\", \"landcolor\": \"#E5ECF6\", \"showlakes\": true, \"showland\": true, \"subunitcolor\": \"white\"}, \"hoverlabel\": {\"align\": \"left\"}, \"hovermode\": \"closest\", \"mapbox\": {\"style\": \"light\"}, \"paper_bgcolor\": \"white\", \"plot_bgcolor\": \"#E5ECF6\", \"polar\": {\"angularaxis\": {\"gridcolor\": \"white\", \"linecolor\": \"white\", \"ticks\": \"\"}, \"bgcolor\": \"#E5ECF6\", \"radialaxis\": {\"gridcolor\": \"white\", \"linecolor\": \"white\", \"ticks\": \"\"}}, \"scene\": {\"xaxis\": {\"backgroundcolor\": \"#E5ECF6\", \"gridcolor\": \"white\", \"gridwidth\": 2, \"linecolor\": \"white\", \"showbackground\": true, \"ticks\": \"\", \"zerolinecolor\": \"white\"}, \"yaxis\": {\"backgroundcolor\": \"#E5ECF6\", \"gridcolor\": \"white\", \"gridwidth\": 2, \"linecolor\": \"white\", \"showbackground\": true, \"ticks\": \"\", \"zerolinecolor\": \"white\"}, \"zaxis\": {\"backgroundcolor\": \"#E5ECF6\", \"gridcolor\": \"white\", \"gridwidth\": 2, \"linecolor\": \"white\", \"showbackground\": true, \"ticks\": \"\", \"zerolinecolor\": \"white\"}}, \"shapedefaults\": {\"line\": {\"color\": \"#2a3f5f\"}}, \"ternary\": {\"aaxis\": {\"gridcolor\": \"white\", \"linecolor\": \"white\", \"ticks\": \"\"}, \"baxis\": {\"gridcolor\": \"white\", \"linecolor\": \"white\", \"ticks\": \"\"}, \"bgcolor\": \"#E5ECF6\", \"caxis\": {\"gridcolor\": \"white\", \"linecolor\": \"white\", \"ticks\": \"\"}}, \"title\": {\"x\": 0.05}, \"xaxis\": {\"automargin\": true, \"gridcolor\": \"white\", \"linecolor\": \"white\", \"ticks\": \"\", \"title\": {\"standoff\": 15}, \"zerolinecolor\": \"white\", \"zerolinewidth\": 2}, \"yaxis\": {\"automargin\": true, \"gridcolor\": \"white\", \"linecolor\": \"white\", \"ticks\": \"\", \"title\": {\"standoff\": 15}, \"zerolinecolor\": \"white\", \"zerolinewidth\": 2}}}, \"title\": {\"text\": \"Rezultaty uzyskiwane przez dru\\u017cyny graj\\u0105ce na w\\u0142asnym boisku\", \"x\": 0.5}},\n",
              "                        {\"responsive\": true}\n",
              "                    ).then(function(){\n",
              "                            \n",
              "var gd = document.getElementById('b1f69dca-3a1e-4689-a804-0b8a00e1de4e');\n",
              "var x = new MutationObserver(function (mutations, observer) {{\n",
              "        var display = window.getComputedStyle(gd).display;\n",
              "        if (!display || display === 'none') {{\n",
              "            console.log([gd, 'removed!']);\n",
              "            Plotly.purge(gd);\n",
              "            observer.disconnect();\n",
              "        }}\n",
              "}});\n",
              "\n",
              "// Listen for the removal of the full notebook cells\n",
              "var notebookContainer = gd.closest('#notebook-container');\n",
              "if (notebookContainer) {{\n",
              "    x.observe(notebookContainer, {childList: true});\n",
              "}}\n",
              "\n",
              "// Listen for the clearing of the current output cell\n",
              "var outputEl = gd.closest('.output');\n",
              "if (outputEl) {{\n",
              "    x.observe(outputEl, {childList: true});\n",
              "}}\n",
              "\n",
              "                        })\n",
              "                };\n",
              "                \n",
              "            </script>\n",
              "        </div>\n",
              "</body>\n",
              "</html>"
            ]
          },
          "metadata": {
            "tags": []
          }
        }
      ]
    },
    {
      "cell_type": "markdown",
      "metadata": {
        "id": "vAcgWbGmIndS"
      },
      "source": [
        "## 3. Statystyka goli, rzutów karnych"
      ]
    },
    {
      "cell_type": "code",
      "metadata": {
        "colab": {
          "base_uri": "https://localhost:8080/",
          "height": 204
        },
        "id": "ivH3EYmsI0y3",
        "outputId": "ca01396a-aa86-49f4-fc75-8703ba8acfe0"
      },
      "source": [
        "actionType = events\\\n",
        "    .filter(f.col(\"eventName\") != \"Save attempt\")\\\n",
        "    .select(\"eventName\", \"subEventName\", f.col(\"tags.id\").alias(\"tagId\"))\\\n",
        "    .filter(f.array_contains(\"tagId\",101))\\\n",
        "    .groupBy(\"subEventName\")\\\n",
        "    .agg(f.count(\"tagId\").alias(\"goals\"))\\\n",
        "    .orderBy(\"goals\", ascending=0)\n",
        "    # .show(truncate=False)\n",
        "\n",
        "# actionType.show()\n",
        "goals = actionType.toPandas().set_index([\"subEventName\"])\n",
        "goals"
      ],
      "execution_count": null,
      "outputs": [
        {
          "output_type": "execute_result",
          "data": {
            "text/html": [
              "<div>\n",
              "<style scoped>\n",
              "    .dataframe tbody tr th:only-of-type {\n",
              "        vertical-align: middle;\n",
              "    }\n",
              "\n",
              "    .dataframe tbody tr th {\n",
              "        vertical-align: top;\n",
              "    }\n",
              "\n",
              "    .dataframe thead th {\n",
              "        text-align: right;\n",
              "    }\n",
              "</style>\n",
              "<table border=\"1\" class=\"dataframe\">\n",
              "  <thead>\n",
              "    <tr style=\"text-align: right;\">\n",
              "      <th></th>\n",
              "      <th>goals</th>\n",
              "    </tr>\n",
              "    <tr>\n",
              "      <th>subEventName</th>\n",
              "      <th></th>\n",
              "    </tr>\n",
              "  </thead>\n",
              "  <tbody>\n",
              "    <tr>\n",
              "      <th>Shot</th>\n",
              "      <td>4271</td>\n",
              "    </tr>\n",
              "    <tr>\n",
              "      <th>Penalty</th>\n",
              "      <td>393</td>\n",
              "    </tr>\n",
              "    <tr>\n",
              "      <th>Free kick shot</th>\n",
              "      <td>126</td>\n",
              "    </tr>\n",
              "    <tr>\n",
              "      <th>Corner</th>\n",
              "      <td>3</td>\n",
              "    </tr>\n",
              "  </tbody>\n",
              "</table>\n",
              "</div>"
            ],
            "text/plain": [
              "                goals\n",
              "subEventName         \n",
              "Shot             4271\n",
              "Penalty           393\n",
              "Free kick shot    126\n",
              "Corner              3"
            ]
          },
          "metadata": {
            "tags": []
          },
          "execution_count": 31
        }
      ]
    },
    {
      "cell_type": "code",
      "metadata": {
        "colab": {
          "base_uri": "https://localhost:8080/",
          "height": 441
        },
        "id": "-RFHlvWhJY2y",
        "outputId": "87ea68d9-d86e-4882-c2c6-f937ee7439ad"
      },
      "source": [
        "fig, ax = plt.subplots(figsize=(8,6))\n",
        "# ax = b.plot.bar(stacked=True)\n",
        "plt.bar(x=goals.index, height=goals.goals)\n",
        "plt.xticks(fontsize=15)\n",
        "plt.xlabel('event name', fontsize=20)\n",
        "plt.yticks(fontsize=15)\n",
        "plt.ylabel('goals', fontsize=20)\n",
        "plt.grid(alpha=0.2)\n",
        "fig.tight_layout()\n",
        "for i, v in enumerate(goals.goals):\n",
        "    ax.text(i - 0.10, v + 20, str(v), color='black', fontsize=15)\n",
        "plt.show()\n"
      ],
      "execution_count": null,
      "outputs": [
        {
          "output_type": "display_data",
          "data": {
            "image/png": "[encoded data removed]",
            "text/plain": [
              "<Figure size 576x432 with 1 Axes>"
            ]
          },
          "metadata": {
            "tags": [],
            "needs_background": "light"
          }
        }
      ]
    },
    {
      "cell_type": "code",
      "metadata": {
        "colab": {
          "base_uri": "https://localhost:8080/",
          "height": 80
        },
        "id": "GMFOG1mlL9Ki",
        "outputId": "07a571a5-d1e8-46f2-8c2f-5c23382b5acc"
      },
      "source": [
        "positionGoal = [1201,1202,1203,1204,1205,1206,1207,1208,1209]\n",
        "positionOut = [i for i in range(1201,1224) if i not in positionGoal]\n",
        "\n",
        "penalty = events\\\n",
        "    .filter(((f.array_contains(f.expr(\"tags.id\"), 101)) | (f.col(\"subEventName\") == 'Penalty')) & (f.col(\"eventName\") != \"Save attempt\" ))\\\n",
        "    .select(\"eventName\", \"subEventName\",f.col(\"tags.id\").alias(\"id\"))\\\n",
        "    .withColumn(\"nonPenaltyGoals\", f.when(f.array_contains(\"id\",101) & (f.col(\"subEventName\") != \"Penalty\"),1).otherwise(0))\\\n",
        "    .withColumn(\"penaltyGoals\", f.when(f.array_contains(\"id\",101) & (f.col(\"subEventName\") == \"Penalty\"),1).otherwise(0))\\\n",
        "    .withColumn(\"positionGoal\", f.array([f.lit(i) for i in positionGoal]))\\\n",
        "    .withColumn(\"positionOut\", f.array([f.lit(i) for i in positionOut]))\\\n",
        "    .withColumn(\"penaltySaved\", f.when(~f.array_contains(\"id\",101) & (f.col(\"subEventName\") == \"Penalty\") & f.arrays_overlap(f.col(\"id\"),f.col(\"positionGoal\")),1).otherwise(0))\\\n",
        "    .withColumn(\"penaltyOut\", f.when(~f.array_contains(\"id\",101) & (f.col(\"subEventName\") == \"Penalty\") & f.arrays_overlap(f.col(\"id\"),f.col(\"positionOut\")),1).otherwise(0))\\\n",
        "    .withColumn(\"penaltyWithoutGoal\", f.col(\"penaltySaved\") + f.col(\"penaltyOut\"))\\\n",
        "    .select(\"nonPenaltyGoals\",\"penaltyGoals\",\"penaltySaved\",\"penaltyOut\",\"penaltyWithoutGoal\")\\\n",
        "    .agg(f.sum(\"nonPenaltyGoals\").alias(\"nonPenaltyGoals\"),f.sum(\"penaltyGoals\").alias(\"penaltyGoals\"),f.sum(\"penaltyWithoutGoal\").alias(\"penaltyWithoutGoal\"),f.sum(\"penaltySaved\").alias(\"penaltySaved\"),f.sum(\"penaltyOut\").alias(\"penaltyOut\"))\n",
        "\n",
        "pdPenalty = penalty.toPandas()\n",
        "pdPenalty"
      ],
      "execution_count": null,
      "outputs": [
        {
          "output_type": "execute_result",
          "data": {
            "text/html": [
              "<div>\n",
              "<style scoped>\n",
              "    .dataframe tbody tr th:only-of-type {\n",
              "        vertical-align: middle;\n",
              "    }\n",
              "\n",
              "    .dataframe tbody tr th {\n",
              "        vertical-align: top;\n",
              "    }\n",
              "\n",
              "    .dataframe thead th {\n",
              "        text-align: right;\n",
              "    }\n",
              "</style>\n",
              "<table border=\"1\" class=\"dataframe\">\n",
              "  <thead>\n",
              "    <tr style=\"text-align: right;\">\n",
              "      <th></th>\n",
              "      <th>nonPenaltyGoals</th>\n",
              "      <th>penaltyGoals</th>\n",
              "      <th>penaltyWithoutGoal</th>\n",
              "      <th>penaltySaved</th>\n",
              "      <th>penaltyOut</th>\n",
              "    </tr>\n",
              "  </thead>\n",
              "  <tbody>\n",
              "    <tr>\n",
              "      <th>0</th>\n",
              "      <td>4400</td>\n",
              "      <td>393</td>\n",
              "      <td>148</td>\n",
              "      <td>113</td>\n",
              "      <td>35</td>\n",
              "    </tr>\n",
              "  </tbody>\n",
              "</table>\n",
              "</div>"
            ],
            "text/plain": [
              "   nonPenaltyGoals  penaltyGoals  penaltyWithoutGoal  penaltySaved  penaltyOut\n",
              "0             4400           393                 148           113          35"
            ]
          },
          "metadata": {
            "tags": []
          },
          "execution_count": 33
        }
      ]
    },
    {
      "cell_type": "code",
      "metadata": {
        "colab": {
          "base_uri": "https://localhost:8080/",
          "height": 1000
        },
        "id": "CD6RiWQJMG8p",
        "outputId": "45fdbbc1-0a0c-439b-c2ea-81d400c7f0cb"
      },
      "source": [
        "goal = pd.melt(pdPenalty[[\"nonPenaltyGoals\",\"penaltyGoals\"]])\n",
        "penalty = pd.melt(pdPenalty[[\"penaltyGoals\",\"penaltyWithoutGoal\"]])\n",
        "penaltyWithoutGoal = pd.melt(pdPenalty[[\"penaltySaved\",\"penaltyOut\"]])\n",
        "fig = go.Figure(data=[go.Pie(labels=goal[\"variable\"], values=goal[\"value\"], textinfo='percent+value+label')])\n",
        "fig2 = go.Figure(data=[go.Pie(labels=penalty[\"variable\"], values=penalty[\"value\"], textinfo='percent+value+label')])\n",
        "fig3 = go.Figure(data=[go.Pie(labels=penaltyWithoutGoal[\"variable\"], values=penaltyWithoutGoal[\"value\"], textinfo='percent+value+label')])\n",
        "fig.show()\n",
        "fig2.show()\n",
        "fig3.show()\n"
      ],
      "execution_count": null,
      "outputs": [
        {
          "output_type": "display_data",
          "data": {
            "text/html": [
              "<html>\n",
              "<head><meta charset=\"utf-8\" /></head>\n",
              "<body>\n",
              "    <div>\n",
              "            <script src=\"https://cdnjs.cloudflare.com/ajax/libs/mathjax/2.7.5/MathJax.js?config=TeX-AMS-MML_SVG\"></script><script type=\"text/javascript\">if (window.MathJax) {MathJax.Hub.Config({SVG: {font: \"STIX-Web\"}});}</script>\n",
              "                <script type=\"text/javascript\">window.PlotlyConfig = {MathJaxConfig: 'local'};</script>\n",
              "        <script src=\"https://cdn.plot.ly/plotly-latest.min.js\"></script>    \n",
              "            <div id=\"0922aec0-ed90-43e3-9323-6f00d4437b6f\" class=\"plotly-graph-div\" style=\"height:525px; width:100%;\"></div>\n",
              "            <script type=\"text/javascript\">\n",
              "                \n",
              "                    window.PLOTLYENV=window.PLOTLYENV || {};\n",
              "                    \n",
              "                if (document.getElementById(\"0922aec0-ed90-43e3-9323-6f00d4437b6f\")) {\n",
              "                    Plotly.newPlot(\n",
              "                        '0922aec0-ed90-43e3-9323-6f00d4437b6f',\n",
              "                        [{\"labels\": [\"nonPenaltyGoals\", \"penaltyGoals\"], \"textinfo\": \"percent+value+label\", \"type\": \"pie\", \"values\": [4400, 393]}],\n",
              "                        {\"template\": {\"data\": {\"bar\": [{\"error_x\": {\"color\": \"#2a3f5f\"}, \"error_y\": {\"color\": \"#2a3f5f\"}, \"marker\": {\"line\": {\"color\": \"#E5ECF6\", \"width\": 0.5}}, \"type\": \"bar\"}], \"barpolar\": [{\"marker\": {\"line\": {\"color\": \"#E5ECF6\", \"width\": 0.5}}, \"type\": \"barpolar\"}], \"carpet\": [{\"aaxis\": {\"endlinecolor\": \"#2a3f5f\", \"gridcolor\": \"white\", \"linecolor\": \"white\", \"minorgridcolor\": \"white\", \"startlinecolor\": \"#2a3f5f\"}, \"baxis\": {\"endlinecolor\": \"#2a3f5f\", \"gridcolor\": \"white\", \"linecolor\": \"white\", \"minorgridcolor\": \"white\", \"startlinecolor\": \"#2a3f5f\"}, \"type\": \"carpet\"}], \"choropleth\": [{\"colorbar\": {\"outlinewidth\": 0, \"ticks\": \"\"}, \"type\": \"choropleth\"}], \"contour\": [{\"colorbar\": {\"outlinewidth\": 0, \"ticks\": \"\"}, \"colorscale\": [[0.0, \"#0d0887\"], [0.1111111111111111, \"#46039f\"], [0.2222222222222222, \"#7201a8\"], [0.3333333333333333, \"#9c179e\"], [0.4444444444444444, \"#bd3786\"], [0.5555555555555556, \"#d8576b\"], [0.6666666666666666, \"#ed7953\"], [0.7777777777777778, \"#fb9f3a\"], [0.8888888888888888, \"#fdca26\"], [1.0, \"#f0f921\"]], \"type\": \"contour\"}], \"contourcarpet\": [{\"colorbar\": {\"outlinewidth\": 0, \"ticks\": \"\"}, \"type\": \"contourcarpet\"}], \"heatmap\": [{\"colorbar\": {\"outlinewidth\": 0, \"ticks\": \"\"}, \"colorscale\": [[0.0, \"#0d0887\"], [0.1111111111111111, \"#46039f\"], [0.2222222222222222, \"#7201a8\"], [0.3333333333333333, \"#9c179e\"], [0.4444444444444444, \"#bd3786\"], [0.5555555555555556, \"#d8576b\"], [0.6666666666666666, \"#ed7953\"], [0.7777777777777778, \"#fb9f3a\"], [0.8888888888888888, \"#fdca26\"], [1.0, \"#f0f921\"]], \"type\": \"heatmap\"}], \"heatmapgl\": [{\"colorbar\": {\"outlinewidth\": 0, \"ticks\": \"\"}, \"colorscale\": [[0.0, \"#0d0887\"], [0.1111111111111111, \"#46039f\"], [0.2222222222222222, \"#7201a8\"], [0.3333333333333333, \"#9c179e\"], [0.4444444444444444, \"#bd3786\"], [0.5555555555555556, \"#d8576b\"], [0.6666666666666666, \"#ed7953\"], [0.7777777777777778, \"#fb9f3a\"], [0.8888888888888888, \"#fdca26\"], [1.0, \"#f0f921\"]], \"type\": \"heatmapgl\"}], \"histogram\": [{\"marker\": {\"colorbar\": {\"outlinewidth\": 0, \"ticks\": \"\"}}, \"type\": \"histogram\"}], \"histogram2d\": [{\"colorbar\": {\"outlinewidth\": 0, \"ticks\": \"\"}, \"colorscale\": [[0.0, \"#0d0887\"], [0.1111111111111111, \"#46039f\"], [0.2222222222222222, \"#7201a8\"], [0.3333333333333333, \"#9c179e\"], [0.4444444444444444, \"#bd3786\"], [0.5555555555555556, \"#d8576b\"], [0.6666666666666666, \"#ed7953\"], [0.7777777777777778, \"#fb9f3a\"], [0.8888888888888888, \"#fdca26\"], [1.0, \"#f0f921\"]], \"type\": \"histogram2d\"}], \"histogram2dcontour\": [{\"colorbar\": {\"outlinewidth\": 0, \"ticks\": \"\"}, \"colorscale\": [[0.0, \"#0d0887\"], [0.1111111111111111, \"#46039f\"], [0.2222222222222222, \"#7201a8\"], [0.3333333333333333, \"#9c179e\"], [0.4444444444444444, \"#bd3786\"], [0.5555555555555556, \"#d8576b\"], [0.6666666666666666, \"#ed7953\"], [0.7777777777777778, \"#fb9f3a\"], [0.8888888888888888, \"#fdca26\"], [1.0, \"#f0f921\"]], \"type\": \"histogram2dcontour\"}], \"mesh3d\": [{\"colorbar\": {\"outlinewidth\": 0, \"ticks\": \"\"}, \"type\": \"mesh3d\"}], \"parcoords\": [{\"line\": {\"colorbar\": {\"outlinewidth\": 0, \"ticks\": \"\"}}, \"type\": \"parcoords\"}], \"pie\": [{\"automargin\": true, \"type\": \"pie\"}], \"scatter\": [{\"marker\": {\"colorbar\": {\"outlinewidth\": 0, \"ticks\": \"\"}}, \"type\": \"scatter\"}], \"scatter3d\": [{\"line\": {\"colorbar\": {\"outlinewidth\": 0, \"ticks\": \"\"}}, \"marker\": {\"colorbar\": {\"outlinewidth\": 0, \"ticks\": \"\"}}, \"type\": \"scatter3d\"}], \"scattercarpet\": [{\"marker\": {\"colorbar\": {\"outlinewidth\": 0, \"ticks\": \"\"}}, \"type\": \"scattercarpet\"}], \"scattergeo\": [{\"marker\": {\"colorbar\": {\"outlinewidth\": 0, \"ticks\": \"\"}}, \"type\": \"scattergeo\"}], \"scattergl\": [{\"marker\": {\"colorbar\": {\"outlinewidth\": 0, \"ticks\": \"\"}}, \"type\": \"scattergl\"}], \"scattermapbox\": [{\"marker\": {\"colorbar\": {\"outlinewidth\": 0, \"ticks\": \"\"}}, \"type\": \"scattermapbox\"}], \"scatterpolar\": [{\"marker\": {\"colorbar\": {\"outlinewidth\": 0, \"ticks\": \"\"}}, \"type\": \"scatterpolar\"}], \"scatterpolargl\": [{\"marker\": {\"colorbar\": {\"outlinewidth\": 0, \"ticks\": \"\"}}, \"type\": \"scatterpolargl\"}], \"scatterternary\": [{\"marker\": {\"colorbar\": {\"outlinewidth\": 0, \"ticks\": \"\"}}, \"type\": \"scatterternary\"}], \"surface\": [{\"colorbar\": {\"outlinewidth\": 0, \"ticks\": \"\"}, \"colorscale\": [[0.0, \"#0d0887\"], [0.1111111111111111, \"#46039f\"], [0.2222222222222222, \"#7201a8\"], [0.3333333333333333, \"#9c179e\"], [0.4444444444444444, \"#bd3786\"], [0.5555555555555556, \"#d8576b\"], [0.6666666666666666, \"#ed7953\"], [0.7777777777777778, \"#fb9f3a\"], [0.8888888888888888, \"#fdca26\"], [1.0, \"#f0f921\"]], \"type\": \"surface\"}], \"table\": [{\"cells\": {\"fill\": {\"color\": \"#EBF0F8\"}, \"line\": {\"color\": \"white\"}}, \"header\": {\"fill\": {\"color\": \"#C8D4E3\"}, \"line\": {\"color\": \"white\"}}, \"type\": \"table\"}]}, \"layout\": {\"annotationdefaults\": {\"arrowcolor\": \"#2a3f5f\", \"arrowhead\": 0, \"arrowwidth\": 1}, \"coloraxis\": {\"colorbar\": {\"outlinewidth\": 0, \"ticks\": \"\"}}, \"colorscale\": {\"diverging\": [[0, \"#8e0152\"], [0.1, \"#c51b7d\"], [0.2, \"#de77ae\"], [0.3, \"#f1b6da\"], [0.4, \"#fde0ef\"], [0.5, \"#f7f7f7\"], [0.6, \"#e6f5d0\"], [0.7, \"#b8e186\"], [0.8, \"#7fbc41\"], [0.9, \"#4d9221\"], [1, \"#276419\"]], \"sequential\": [[0.0, \"#0d0887\"], [0.1111111111111111, \"#46039f\"], [0.2222222222222222, \"#7201a8\"], [0.3333333333333333, \"#9c179e\"], [0.4444444444444444, \"#bd3786\"], [0.5555555555555556, \"#d8576b\"], [0.6666666666666666, \"#ed7953\"], [0.7777777777777778, \"#fb9f3a\"], [0.8888888888888888, \"#fdca26\"], [1.0, \"#f0f921\"]], \"sequentialminus\": [[0.0, \"#0d0887\"], [0.1111111111111111, \"#46039f\"], [0.2222222222222222, \"#7201a8\"], [0.3333333333333333, \"#9c179e\"], [0.4444444444444444, \"#bd3786\"], [0.5555555555555556, \"#d8576b\"], [0.6666666666666666, \"#ed7953\"], [0.7777777777777778, \"#fb9f3a\"], [0.8888888888888888, \"#fdca26\"], [1.0, \"#f0f921\"]]}, \"colorway\": [\"#636efa\", \"#EF553B\", \"#00cc96\", \"#ab63fa\", \"#FFA15A\", \"#19d3f3\", \"#FF6692\", \"#B6E880\", \"#FF97FF\", \"#FECB52\"], \"font\": {\"color\": \"#2a3f5f\"}, \"geo\": {\"bgcolor\": \"white\", \"lakecolor\": \"white\", \"landcolor\": \"#E5ECF6\", \"showlakes\": true, \"showland\": true, \"subunitcolor\": \"white\"}, \"hoverlabel\": {\"align\": \"left\"}, \"hovermode\": \"closest\", \"mapbox\": {\"style\": \"light\"}, \"paper_bgcolor\": \"white\", \"plot_bgcolor\": \"#E5ECF6\", \"polar\": {\"angularaxis\": {\"gridcolor\": \"white\", \"linecolor\": \"white\", \"ticks\": \"\"}, \"bgcolor\": \"#E5ECF6\", \"radialaxis\": {\"gridcolor\": \"white\", \"linecolor\": \"white\", \"ticks\": \"\"}}, \"scene\": {\"xaxis\": {\"backgroundcolor\": \"#E5ECF6\", \"gridcolor\": \"white\", \"gridwidth\": 2, \"linecolor\": \"white\", \"showbackground\": true, \"ticks\": \"\", \"zerolinecolor\": \"white\"}, \"yaxis\": {\"backgroundcolor\": \"#E5ECF6\", \"gridcolor\": \"white\", \"gridwidth\": 2, \"linecolor\": \"white\", \"showbackground\": true, \"ticks\": \"\", \"zerolinecolor\": \"white\"}, \"zaxis\": {\"backgroundcolor\": \"#E5ECF6\", \"gridcolor\": \"white\", \"gridwidth\": 2, \"linecolor\": \"white\", \"showbackground\": true, \"ticks\": \"\", \"zerolinecolor\": \"white\"}}, \"shapedefaults\": {\"line\": {\"color\": \"#2a3f5f\"}}, \"ternary\": {\"aaxis\": {\"gridcolor\": \"white\", \"linecolor\": \"white\", \"ticks\": \"\"}, \"baxis\": {\"gridcolor\": \"white\", \"linecolor\": \"white\", \"ticks\": \"\"}, \"bgcolor\": \"#E5ECF6\", \"caxis\": {\"gridcolor\": \"white\", \"linecolor\": \"white\", \"ticks\": \"\"}}, \"title\": {\"x\": 0.05}, \"xaxis\": {\"automargin\": true, \"gridcolor\": \"white\", \"linecolor\": \"white\", \"ticks\": \"\", \"title\": {\"standoff\": 15}, \"zerolinecolor\": \"white\", \"zerolinewidth\": 2}, \"yaxis\": {\"automargin\": true, \"gridcolor\": \"white\", \"linecolor\": \"white\", \"ticks\": \"\", \"title\": {\"standoff\": 15}, \"zerolinecolor\": \"white\", \"zerolinewidth\": 2}}}},\n",
              "                        {\"responsive\": true}\n",
              "                    ).then(function(){\n",
              "                            \n",
              "var gd = document.getElementById('0922aec0-ed90-43e3-9323-6f00d4437b6f');\n",
              "var x = new MutationObserver(function (mutations, observer) {{\n",
              "        var display = window.getComputedStyle(gd).display;\n",
              "        if (!display || display === 'none') {{\n",
              "            console.log([gd, 'removed!']);\n",
              "            Plotly.purge(gd);\n",
              "            observer.disconnect();\n",
              "        }}\n",
              "}});\n",
              "\n",
              "// Listen for the removal of the full notebook cells\n",
              "var notebookContainer = gd.closest('#notebook-container');\n",
              "if (notebookContainer) {{\n",
              "    x.observe(notebookContainer, {childList: true});\n",
              "}}\n",
              "\n",
              "// Listen for the clearing of the current output cell\n",
              "var outputEl = gd.closest('.output');\n",
              "if (outputEl) {{\n",
              "    x.observe(outputEl, {childList: true});\n",
              "}}\n",
              "\n",
              "                        })\n",
              "                };\n",
              "                \n",
              "            </script>\n",
              "        </div>\n",
              "</body>\n",
              "</html>"
            ]
          },
          "metadata": {
            "tags": []
          }
        },
        {
          "output_type": "display_data",
          "data": {
            "text/html": [
              "<html>\n",
              "<head><meta charset=\"utf-8\" /></head>\n",
              "<body>\n",
              "    <div>\n",
              "            <script src=\"https://cdnjs.cloudflare.com/ajax/libs/mathjax/2.7.5/MathJax.js?config=TeX-AMS-MML_SVG\"></script><script type=\"text/javascript\">if (window.MathJax) {MathJax.Hub.Config({SVG: {font: \"STIX-Web\"}});}</script>\n",
              "                <script type=\"text/javascript\">window.PlotlyConfig = {MathJaxConfig: 'local'};</script>\n",
              "        <script src=\"https://cdn.plot.ly/plotly-latest.min.js\"></script>    \n",
              "            <div id=\"b8adf47a-fffb-4ef8-afcd-d55085e48786\" class=\"plotly-graph-div\" style=\"height:525px; width:100%;\"></div>\n",
              "            <script type=\"text/javascript\">\n",
              "                \n",
              "                    window.PLOTLYENV=window.PLOTLYENV || {};\n",
              "                    \n",
              "                if (document.getElementById(\"b8adf47a-fffb-4ef8-afcd-d55085e48786\")) {\n",
              "                    Plotly.newPlot(\n",
              "                        'b8adf47a-fffb-4ef8-afcd-d55085e48786',\n",
              "                        [{\"labels\": [\"penaltyGoals\", \"penaltyWithoutGoal\"], \"textinfo\": \"percent+value+label\", \"type\": \"pie\", \"values\": [393, 148]}],\n",
              "                        {\"template\": {\"data\": {\"bar\": [{\"error_x\": {\"color\": \"#2a3f5f\"}, \"error_y\": {\"color\": \"#2a3f5f\"}, \"marker\": {\"line\": {\"color\": \"#E5ECF6\", \"width\": 0.5}}, \"type\": \"bar\"}], \"barpolar\": [{\"marker\": {\"line\": {\"color\": \"#E5ECF6\", \"width\": 0.5}}, \"type\": \"barpolar\"}], \"carpet\": [{\"aaxis\": {\"endlinecolor\": \"#2a3f5f\", \"gridcolor\": \"white\", \"linecolor\": \"white\", \"minorgridcolor\": \"white\", \"startlinecolor\": \"#2a3f5f\"}, \"baxis\": {\"endlinecolor\": \"#2a3f5f\", \"gridcolor\": \"white\", \"linecolor\": \"white\", \"minorgridcolor\": \"white\", \"startlinecolor\": \"#2a3f5f\"}, \"type\": \"carpet\"}], \"choropleth\": [{\"colorbar\": {\"outlinewidth\": 0, \"ticks\": \"\"}, \"type\": \"choropleth\"}], \"contour\": [{\"colorbar\": {\"outlinewidth\": 0, \"ticks\": \"\"}, \"colorscale\": [[0.0, \"#0d0887\"], [0.1111111111111111, \"#46039f\"], [0.2222222222222222, \"#7201a8\"], [0.3333333333333333, \"#9c179e\"], [0.4444444444444444, \"#bd3786\"], [0.5555555555555556, \"#d8576b\"], [0.6666666666666666, \"#ed7953\"], [0.7777777777777778, \"#fb9f3a\"], [0.8888888888888888, \"#fdca26\"], [1.0, \"#f0f921\"]], \"type\": \"contour\"}], \"contourcarpet\": [{\"colorbar\": {\"outlinewidth\": 0, \"ticks\": \"\"}, \"type\": \"contourcarpet\"}], \"heatmap\": [{\"colorbar\": {\"outlinewidth\": 0, \"ticks\": \"\"}, \"colorscale\": [[0.0, \"#0d0887\"], [0.1111111111111111, \"#46039f\"], [0.2222222222222222, \"#7201a8\"], [0.3333333333333333, \"#9c179e\"], [0.4444444444444444, \"#bd3786\"], [0.5555555555555556, \"#d8576b\"], [0.6666666666666666, \"#ed7953\"], [0.7777777777777778, \"#fb9f3a\"], [0.8888888888888888, \"#fdca26\"], [1.0, \"#f0f921\"]], \"type\": \"heatmap\"}], \"heatmapgl\": [{\"colorbar\": {\"outlinewidth\": 0, \"ticks\": \"\"}, \"colorscale\": [[0.0, \"#0d0887\"], [0.1111111111111111, \"#46039f\"], [0.2222222222222222, \"#7201a8\"], [0.3333333333333333, \"#9c179e\"], [0.4444444444444444, \"#bd3786\"], [0.5555555555555556, \"#d8576b\"], [0.6666666666666666, \"#ed7953\"], [0.7777777777777778, \"#fb9f3a\"], [0.8888888888888888, \"#fdca26\"], [1.0, \"#f0f921\"]], \"type\": \"heatmapgl\"}], \"histogram\": [{\"marker\": {\"colorbar\": {\"outlinewidth\": 0, \"ticks\": \"\"}}, \"type\": \"histogram\"}], \"histogram2d\": [{\"colorbar\": {\"outlinewidth\": 0, \"ticks\": \"\"}, \"colorscale\": [[0.0, \"#0d0887\"], [0.1111111111111111, \"#46039f\"], [0.2222222222222222, \"#7201a8\"], [0.3333333333333333, \"#9c179e\"], [0.4444444444444444, \"#bd3786\"], [0.5555555555555556, \"#d8576b\"], [0.6666666666666666, \"#ed7953\"], [0.7777777777777778, \"#fb9f3a\"], [0.8888888888888888, \"#fdca26\"], [1.0, \"#f0f921\"]], \"type\": \"histogram2d\"}], \"histogram2dcontour\": [{\"colorbar\": {\"outlinewidth\": 0, \"ticks\": \"\"}, \"colorscale\": [[0.0, \"#0d0887\"], [0.1111111111111111, \"#46039f\"], [0.2222222222222222, \"#7201a8\"], [0.3333333333333333, \"#9c179e\"], [0.4444444444444444, \"#bd3786\"], [0.5555555555555556, \"#d8576b\"], [0.6666666666666666, \"#ed7953\"], [0.7777777777777778, \"#fb9f3a\"], [0.8888888888888888, \"#fdca26\"], [1.0, \"#f0f921\"]], \"type\": \"histogram2dcontour\"}], \"mesh3d\": [{\"colorbar\": {\"outlinewidth\": 0, \"ticks\": \"\"}, \"type\": \"mesh3d\"}], \"parcoords\": [{\"line\": {\"colorbar\": {\"outlinewidth\": 0, \"ticks\": \"\"}}, \"type\": \"parcoords\"}], \"pie\": [{\"automargin\": true, \"type\": \"pie\"}], \"scatter\": [{\"marker\": {\"colorbar\": {\"outlinewidth\": 0, \"ticks\": \"\"}}, \"type\": \"scatter\"}], \"scatter3d\": [{\"line\": {\"colorbar\": {\"outlinewidth\": 0, \"ticks\": \"\"}}, \"marker\": {\"colorbar\": {\"outlinewidth\": 0, \"ticks\": \"\"}}, \"type\": \"scatter3d\"}], \"scattercarpet\": [{\"marker\": {\"colorbar\": {\"outlinewidth\": 0, \"ticks\": \"\"}}, \"type\": \"scattercarpet\"}], \"scattergeo\": [{\"marker\": {\"colorbar\": {\"outlinewidth\": 0, \"ticks\": \"\"}}, \"type\": \"scattergeo\"}], \"scattergl\": [{\"marker\": {\"colorbar\": {\"outlinewidth\": 0, \"ticks\": \"\"}}, \"type\": \"scattergl\"}], \"scattermapbox\": [{\"marker\": {\"colorbar\": {\"outlinewidth\": 0, \"ticks\": \"\"}}, \"type\": \"scattermapbox\"}], \"scatterpolar\": [{\"marker\": {\"colorbar\": {\"outlinewidth\": 0, \"ticks\": \"\"}}, \"type\": \"scatterpolar\"}], \"scatterpolargl\": [{\"marker\": {\"colorbar\": {\"outlinewidth\": 0, \"ticks\": \"\"}}, \"type\": \"scatterpolargl\"}], \"scatterternary\": [{\"marker\": {\"colorbar\": {\"outlinewidth\": 0, \"ticks\": \"\"}}, \"type\": \"scatterternary\"}], \"surface\": [{\"colorbar\": {\"outlinewidth\": 0, \"ticks\": \"\"}, \"colorscale\": [[0.0, \"#0d0887\"], [0.1111111111111111, \"#46039f\"], [0.2222222222222222, \"#7201a8\"], [0.3333333333333333, \"#9c179e\"], [0.4444444444444444, \"#bd3786\"], [0.5555555555555556, \"#d8576b\"], [0.6666666666666666, \"#ed7953\"], [0.7777777777777778, \"#fb9f3a\"], [0.8888888888888888, \"#fdca26\"], [1.0, \"#f0f921\"]], \"type\": \"surface\"}], \"table\": [{\"cells\": {\"fill\": {\"color\": \"#EBF0F8\"}, \"line\": {\"color\": \"white\"}}, \"header\": {\"fill\": {\"color\": \"#C8D4E3\"}, \"line\": {\"color\": \"white\"}}, \"type\": \"table\"}]}, \"layout\": {\"annotationdefaults\": {\"arrowcolor\": \"#2a3f5f\", \"arrowhead\": 0, \"arrowwidth\": 1}, \"coloraxis\": {\"colorbar\": {\"outlinewidth\": 0, \"ticks\": \"\"}}, \"colorscale\": {\"diverging\": [[0, \"#8e0152\"], [0.1, \"#c51b7d\"], [0.2, \"#de77ae\"], [0.3, \"#f1b6da\"], [0.4, \"#fde0ef\"], [0.5, \"#f7f7f7\"], [0.6, \"#e6f5d0\"], [0.7, \"#b8e186\"], [0.8, \"#7fbc41\"], [0.9, \"#4d9221\"], [1, \"#276419\"]], \"sequential\": [[0.0, \"#0d0887\"], [0.1111111111111111, \"#46039f\"], [0.2222222222222222, \"#7201a8\"], [0.3333333333333333, \"#9c179e\"], [0.4444444444444444, \"#bd3786\"], [0.5555555555555556, \"#d8576b\"], [0.6666666666666666, \"#ed7953\"], [0.7777777777777778, \"#fb9f3a\"], [0.8888888888888888, \"#fdca26\"], [1.0, \"#f0f921\"]], \"sequentialminus\": [[0.0, \"#0d0887\"], [0.1111111111111111, \"#46039f\"], [0.2222222222222222, \"#7201a8\"], [0.3333333333333333, \"#9c179e\"], [0.4444444444444444, \"#bd3786\"], [0.5555555555555556, \"#d8576b\"], [0.6666666666666666, \"#ed7953\"], [0.7777777777777778, \"#fb9f3a\"], [0.8888888888888888, \"#fdca26\"], [1.0, \"#f0f921\"]]}, \"colorway\": [\"#636efa\", \"#EF553B\", \"#00cc96\", \"#ab63fa\", \"#FFA15A\", \"#19d3f3\", \"#FF6692\", \"#B6E880\", \"#FF97FF\", \"#FECB52\"], \"font\": {\"color\": \"#2a3f5f\"}, \"geo\": {\"bgcolor\": \"white\", \"lakecolor\": \"white\", \"landcolor\": \"#E5ECF6\", \"showlakes\": true, \"showland\": true, \"subunitcolor\": \"white\"}, \"hoverlabel\": {\"align\": \"left\"}, \"hovermode\": \"closest\", \"mapbox\": {\"style\": \"light\"}, \"paper_bgcolor\": \"white\", \"plot_bgcolor\": \"#E5ECF6\", \"polar\": {\"angularaxis\": {\"gridcolor\": \"white\", \"linecolor\": \"white\", \"ticks\": \"\"}, \"bgcolor\": \"#E5ECF6\", \"radialaxis\": {\"gridcolor\": \"white\", \"linecolor\": \"white\", \"ticks\": \"\"}}, \"scene\": {\"xaxis\": {\"backgroundcolor\": \"#E5ECF6\", \"gridcolor\": \"white\", \"gridwidth\": 2, \"linecolor\": \"white\", \"showbackground\": true, \"ticks\": \"\", \"zerolinecolor\": \"white\"}, \"yaxis\": {\"backgroundcolor\": \"#E5ECF6\", \"gridcolor\": \"white\", \"gridwidth\": 2, \"linecolor\": \"white\", \"showbackground\": true, \"ticks\": \"\", \"zerolinecolor\": \"white\"}, \"zaxis\": {\"backgroundcolor\": \"#E5ECF6\", \"gridcolor\": \"white\", \"gridwidth\": 2, \"linecolor\": \"white\", \"showbackground\": true, \"ticks\": \"\", \"zerolinecolor\": \"white\"}}, \"shapedefaults\": {\"line\": {\"color\": \"#2a3f5f\"}}, \"ternary\": {\"aaxis\": {\"gridcolor\": \"white\", \"linecolor\": \"white\", \"ticks\": \"\"}, \"baxis\": {\"gridcolor\": \"white\", \"linecolor\": \"white\", \"ticks\": \"\"}, \"bgcolor\": \"#E5ECF6\", \"caxis\": {\"gridcolor\": \"white\", \"linecolor\": \"white\", \"ticks\": \"\"}}, \"title\": {\"x\": 0.05}, \"xaxis\": {\"automargin\": true, \"gridcolor\": \"white\", \"linecolor\": \"white\", \"ticks\": \"\", \"title\": {\"standoff\": 15}, \"zerolinecolor\": \"white\", \"zerolinewidth\": 2}, \"yaxis\": {\"automargin\": true, \"gridcolor\": \"white\", \"linecolor\": \"white\", \"ticks\": \"\", \"title\": {\"standoff\": 15}, \"zerolinecolor\": \"white\", \"zerolinewidth\": 2}}}},\n",
              "                        {\"responsive\": true}\n",
              "                    ).then(function(){\n",
              "                            \n",
              "var gd = document.getElementById('b8adf47a-fffb-4ef8-afcd-d55085e48786');\n",
              "var x = new MutationObserver(function (mutations, observer) {{\n",
              "        var display = window.getComputedStyle(gd).display;\n",
              "        if (!display || display === 'none') {{\n",
              "            console.log([gd, 'removed!']);\n",
              "            Plotly.purge(gd);\n",
              "            observer.disconnect();\n",
              "        }}\n",
              "}});\n",
              "\n",
              "// Listen for the removal of the full notebook cells\n",
              "var notebookContainer = gd.closest('#notebook-container');\n",
              "if (notebookContainer) {{\n",
              "    x.observe(notebookContainer, {childList: true});\n",
              "}}\n",
              "\n",
              "// Listen for the clearing of the current output cell\n",
              "var outputEl = gd.closest('.output');\n",
              "if (outputEl) {{\n",
              "    x.observe(outputEl, {childList: true});\n",
              "}}\n",
              "\n",
              "                        })\n",
              "                };\n",
              "                \n",
              "            </script>\n",
              "        </div>\n",
              "</body>\n",
              "</html>"
            ]
          },
          "metadata": {
            "tags": []
          }
        },
        {
          "output_type": "display_data",
          "data": {
            "text/html": [
              "<html>\n",
              "<head><meta charset=\"utf-8\" /></head>\n",
              "<body>\n",
              "    <div>\n",
              "            <script src=\"https://cdnjs.cloudflare.com/ajax/libs/mathjax/2.7.5/MathJax.js?config=TeX-AMS-MML_SVG\"></script><script type=\"text/javascript\">if (window.MathJax) {MathJax.Hub.Config({SVG: {font: \"STIX-Web\"}});}</script>\n",
              "                <script type=\"text/javascript\">window.PlotlyConfig = {MathJaxConfig: 'local'};</script>\n",
              "        <script src=\"https://cdn.plot.ly/plotly-latest.min.js\"></script>    \n",
              "            <div id=\"cbf1f0f5-a3a0-425c-97d3-a3d4b77722cb\" class=\"plotly-graph-div\" style=\"height:525px; width:100%;\"></div>\n",
              "            <script type=\"text/javascript\">\n",
              "                \n",
              "                    window.PLOTLYENV=window.PLOTLYENV || {};\n",
              "                    \n",
              "                if (document.getElementById(\"cbf1f0f5-a3a0-425c-97d3-a3d4b77722cb\")) {\n",
              "                    Plotly.newPlot(\n",
              "                        'cbf1f0f5-a3a0-425c-97d3-a3d4b77722cb',\n",
              "                        [{\"labels\": [\"penaltySaved\", \"penaltyOut\"], \"textinfo\": \"percent+value+label\", \"type\": \"pie\", \"values\": [113, 35]}],\n",
              "                        {\"template\": {\"data\": {\"bar\": [{\"error_x\": {\"color\": \"#2a3f5f\"}, \"error_y\": {\"color\": \"#2a3f5f\"}, \"marker\": {\"line\": {\"color\": \"#E5ECF6\", \"width\": 0.5}}, \"type\": \"bar\"}], \"barpolar\": [{\"marker\": {\"line\": {\"color\": \"#E5ECF6\", \"width\": 0.5}}, \"type\": \"barpolar\"}], \"carpet\": [{\"aaxis\": {\"endlinecolor\": \"#2a3f5f\", \"gridcolor\": \"white\", \"linecolor\": \"white\", \"minorgridcolor\": \"white\", \"startlinecolor\": \"#2a3f5f\"}, \"baxis\": {\"endlinecolor\": \"#2a3f5f\", \"gridcolor\": \"white\", \"linecolor\": \"white\", \"minorgridcolor\": \"white\", \"startlinecolor\": \"#2a3f5f\"}, \"type\": \"carpet\"}], \"choropleth\": [{\"colorbar\": {\"outlinewidth\": 0, \"ticks\": \"\"}, \"type\": \"choropleth\"}], \"contour\": [{\"colorbar\": {\"outlinewidth\": 0, \"ticks\": \"\"}, \"colorscale\": [[0.0, \"#0d0887\"], [0.1111111111111111, \"#46039f\"], [0.2222222222222222, \"#7201a8\"], [0.3333333333333333, \"#9c179e\"], [0.4444444444444444, \"#bd3786\"], [0.5555555555555556, \"#d8576b\"], [0.6666666666666666, \"#ed7953\"], [0.7777777777777778, \"#fb9f3a\"], [0.8888888888888888, \"#fdca26\"], [1.0, \"#f0f921\"]], \"type\": \"contour\"}], \"contourcarpet\": [{\"colorbar\": {\"outlinewidth\": 0, \"ticks\": \"\"}, \"type\": \"contourcarpet\"}], \"heatmap\": [{\"colorbar\": {\"outlinewidth\": 0, \"ticks\": \"\"}, \"colorscale\": [[0.0, \"#0d0887\"], [0.1111111111111111, \"#46039f\"], [0.2222222222222222, \"#7201a8\"], [0.3333333333333333, \"#9c179e\"], [0.4444444444444444, \"#bd3786\"], [0.5555555555555556, \"#d8576b\"], [0.6666666666666666, \"#ed7953\"], [0.7777777777777778, \"#fb9f3a\"], [0.8888888888888888, \"#fdca26\"], [1.0, \"#f0f921\"]], \"type\": \"heatmap\"}], \"heatmapgl\": [{\"colorbar\": {\"outlinewidth\": 0, \"ticks\": \"\"}, \"colorscale\": [[0.0, \"#0d0887\"], [0.1111111111111111, \"#46039f\"], [0.2222222222222222, \"#7201a8\"], [0.3333333333333333, \"#9c179e\"], [0.4444444444444444, \"#bd3786\"], [0.5555555555555556, \"#d8576b\"], [0.6666666666666666, \"#ed7953\"], [0.7777777777777778, \"#fb9f3a\"], [0.8888888888888888, \"#fdca26\"], [1.0, \"#f0f921\"]], \"type\": \"heatmapgl\"}], \"histogram\": [{\"marker\": {\"colorbar\": {\"outlinewidth\": 0, \"ticks\": \"\"}}, \"type\": \"histogram\"}], \"histogram2d\": [{\"colorbar\": {\"outlinewidth\": 0, \"ticks\": \"\"}, \"colorscale\": [[0.0, \"#0d0887\"], [0.1111111111111111, \"#46039f\"], [0.2222222222222222, \"#7201a8\"], [0.3333333333333333, \"#9c179e\"], [0.4444444444444444, \"#bd3786\"], [0.5555555555555556, \"#d8576b\"], [0.6666666666666666, \"#ed7953\"], [0.7777777777777778, \"#fb9f3a\"], [0.8888888888888888, \"#fdca26\"], [1.0, \"#f0f921\"]], \"type\": \"histogram2d\"}], \"histogram2dcontour\": [{\"colorbar\": {\"outlinewidth\": 0, \"ticks\": \"\"}, \"colorscale\": [[0.0, \"#0d0887\"], [0.1111111111111111, \"#46039f\"], [0.2222222222222222, \"#7201a8\"], [0.3333333333333333, \"#9c179e\"], [0.4444444444444444, \"#bd3786\"], [0.5555555555555556, \"#d8576b\"], [0.6666666666666666, \"#ed7953\"], [0.7777777777777778, \"#fb9f3a\"], [0.8888888888888888, \"#fdca26\"], [1.0, \"#f0f921\"]], \"type\": \"histogram2dcontour\"}], \"mesh3d\": [{\"colorbar\": {\"outlinewidth\": 0, \"ticks\": \"\"}, \"type\": \"mesh3d\"}], \"parcoords\": [{\"line\": {\"colorbar\": {\"outlinewidth\": 0, \"ticks\": \"\"}}, \"type\": \"parcoords\"}], \"pie\": [{\"automargin\": true, \"type\": \"pie\"}], \"scatter\": [{\"marker\": {\"colorbar\": {\"outlinewidth\": 0, \"ticks\": \"\"}}, \"type\": \"scatter\"}], \"scatter3d\": [{\"line\": {\"colorbar\": {\"outlinewidth\": 0, \"ticks\": \"\"}}, \"marker\": {\"colorbar\": {\"outlinewidth\": 0, \"ticks\": \"\"}}, \"type\": \"scatter3d\"}], \"scattercarpet\": [{\"marker\": {\"colorbar\": {\"outlinewidth\": 0, \"ticks\": \"\"}}, \"type\": \"scattercarpet\"}], \"scattergeo\": [{\"marker\": {\"colorbar\": {\"outlinewidth\": 0, \"ticks\": \"\"}}, \"type\": \"scattergeo\"}], \"scattergl\": [{\"marker\": {\"colorbar\": {\"outlinewidth\": 0, \"ticks\": \"\"}}, \"type\": \"scattergl\"}], \"scattermapbox\": [{\"marker\": {\"colorbar\": {\"outlinewidth\": 0, \"ticks\": \"\"}}, \"type\": \"scattermapbox\"}], \"scatterpolar\": [{\"marker\": {\"colorbar\": {\"outlinewidth\": 0, \"ticks\": \"\"}}, \"type\": \"scatterpolar\"}], \"scatterpolargl\": [{\"marker\": {\"colorbar\": {\"outlinewidth\": 0, \"ticks\": \"\"}}, \"type\": \"scatterpolargl\"}], \"scatterternary\": [{\"marker\": {\"colorbar\": {\"outlinewidth\": 0, \"ticks\": \"\"}}, \"type\": \"scatterternary\"}], \"surface\": [{\"colorbar\": {\"outlinewidth\": 0, \"ticks\": \"\"}, \"colorscale\": [[0.0, \"#0d0887\"], [0.1111111111111111, \"#46039f\"], [0.2222222222222222, \"#7201a8\"], [0.3333333333333333, \"#9c179e\"], [0.4444444444444444, \"#bd3786\"], [0.5555555555555556, \"#d8576b\"], [0.6666666666666666, \"#ed7953\"], [0.7777777777777778, \"#fb9f3a\"], [0.8888888888888888, \"#fdca26\"], [1.0, \"#f0f921\"]], \"type\": \"surface\"}], \"table\": [{\"cells\": {\"fill\": {\"color\": \"#EBF0F8\"}, \"line\": {\"color\": \"white\"}}, \"header\": {\"fill\": {\"color\": \"#C8D4E3\"}, \"line\": {\"color\": \"white\"}}, \"type\": \"table\"}]}, \"layout\": {\"annotationdefaults\": {\"arrowcolor\": \"#2a3f5f\", \"arrowhead\": 0, \"arrowwidth\": 1}, \"coloraxis\": {\"colorbar\": {\"outlinewidth\": 0, \"ticks\": \"\"}}, \"colorscale\": {\"diverging\": [[0, \"#8e0152\"], [0.1, \"#c51b7d\"], [0.2, \"#de77ae\"], [0.3, \"#f1b6da\"], [0.4, \"#fde0ef\"], [0.5, \"#f7f7f7\"], [0.6, \"#e6f5d0\"], [0.7, \"#b8e186\"], [0.8, \"#7fbc41\"], [0.9, \"#4d9221\"], [1, \"#276419\"]], \"sequential\": [[0.0, \"#0d0887\"], [0.1111111111111111, \"#46039f\"], [0.2222222222222222, \"#7201a8\"], [0.3333333333333333, \"#9c179e\"], [0.4444444444444444, \"#bd3786\"], [0.5555555555555556, \"#d8576b\"], [0.6666666666666666, \"#ed7953\"], [0.7777777777777778, \"#fb9f3a\"], [0.8888888888888888, \"#fdca26\"], [1.0, \"#f0f921\"]], \"sequentialminus\": [[0.0, \"#0d0887\"], [0.1111111111111111, \"#46039f\"], [0.2222222222222222, \"#7201a8\"], [0.3333333333333333, \"#9c179e\"], [0.4444444444444444, \"#bd3786\"], [0.5555555555555556, \"#d8576b\"], [0.6666666666666666, \"#ed7953\"], [0.7777777777777778, \"#fb9f3a\"], [0.8888888888888888, \"#fdca26\"], [1.0, \"#f0f921\"]]}, \"colorway\": [\"#636efa\", \"#EF553B\", \"#00cc96\", \"#ab63fa\", \"#FFA15A\", \"#19d3f3\", \"#FF6692\", \"#B6E880\", \"#FF97FF\", \"#FECB52\"], \"font\": {\"color\": \"#2a3f5f\"}, \"geo\": {\"bgcolor\": \"white\", \"lakecolor\": \"white\", \"landcolor\": \"#E5ECF6\", \"showlakes\": true, \"showland\": true, \"subunitcolor\": \"white\"}, \"hoverlabel\": {\"align\": \"left\"}, \"hovermode\": \"closest\", \"mapbox\": {\"style\": \"light\"}, \"paper_bgcolor\": \"white\", \"plot_bgcolor\": \"#E5ECF6\", \"polar\": {\"angularaxis\": {\"gridcolor\": \"white\", \"linecolor\": \"white\", \"ticks\": \"\"}, \"bgcolor\": \"#E5ECF6\", \"radialaxis\": {\"gridcolor\": \"white\", \"linecolor\": \"white\", \"ticks\": \"\"}}, \"scene\": {\"xaxis\": {\"backgroundcolor\": \"#E5ECF6\", \"gridcolor\": \"white\", \"gridwidth\": 2, \"linecolor\": \"white\", \"showbackground\": true, \"ticks\": \"\", \"zerolinecolor\": \"white\"}, \"yaxis\": {\"backgroundcolor\": \"#E5ECF6\", \"gridcolor\": \"white\", \"gridwidth\": 2, \"linecolor\": \"white\", \"showbackground\": true, \"ticks\": \"\", \"zerolinecolor\": \"white\"}, \"zaxis\": {\"backgroundcolor\": \"#E5ECF6\", \"gridcolor\": \"white\", \"gridwidth\": 2, \"linecolor\": \"white\", \"showbackground\": true, \"ticks\": \"\", \"zerolinecolor\": \"white\"}}, \"shapedefaults\": {\"line\": {\"color\": \"#2a3f5f\"}}, \"ternary\": {\"aaxis\": {\"gridcolor\": \"white\", \"linecolor\": \"white\", \"ticks\": \"\"}, \"baxis\": {\"gridcolor\": \"white\", \"linecolor\": \"white\", \"ticks\": \"\"}, \"bgcolor\": \"#E5ECF6\", \"caxis\": {\"gridcolor\": \"white\", \"linecolor\": \"white\", \"ticks\": \"\"}}, \"title\": {\"x\": 0.05}, \"xaxis\": {\"automargin\": true, \"gridcolor\": \"white\", \"linecolor\": \"white\", \"ticks\": \"\", \"title\": {\"standoff\": 15}, \"zerolinecolor\": \"white\", \"zerolinewidth\": 2}, \"yaxis\": {\"automargin\": true, \"gridcolor\": \"white\", \"linecolor\": \"white\", \"ticks\": \"\", \"title\": {\"standoff\": 15}, \"zerolinecolor\": \"white\", \"zerolinewidth\": 2}}}},\n",
              "                        {\"responsive\": true}\n",
              "                    ).then(function(){\n",
              "                            \n",
              "var gd = document.getElementById('cbf1f0f5-a3a0-425c-97d3-a3d4b77722cb');\n",
              "var x = new MutationObserver(function (mutations, observer) {{\n",
              "        var display = window.getComputedStyle(gd).display;\n",
              "        if (!display || display === 'none') {{\n",
              "            console.log([gd, 'removed!']);\n",
              "            Plotly.purge(gd);\n",
              "            observer.disconnect();\n",
              "        }}\n",
              "}});\n",
              "\n",
              "// Listen for the removal of the full notebook cells\n",
              "var notebookContainer = gd.closest('#notebook-container');\n",
              "if (notebookContainer) {{\n",
              "    x.observe(notebookContainer, {childList: true});\n",
              "}}\n",
              "\n",
              "// Listen for the clearing of the current output cell\n",
              "var outputEl = gd.closest('.output');\n",
              "if (outputEl) {{\n",
              "    x.observe(outputEl, {childList: true});\n",
              "}}\n",
              "\n",
              "                        })\n",
              "                };\n",
              "                \n",
              "            </script>\n",
              "        </div>\n",
              "</body>\n",
              "</html>"
            ]
          },
          "metadata": {
            "tags": []
          }
        }
      ]
    },
    {
      "cell_type": "code",
      "metadata": {
        "colab": {
          "base_uri": "https://localhost:8080/",
          "height": 359
        },
        "id": "JTeWrpICM4Nh",
        "outputId": "ba52cda3-cf90-4eef-d018-370b0898b8e4"
      },
      "source": [
        "posGoal = spark.createDataFrame(positionGoal, IntegerType())\n",
        "ev = events\\\n",
        "    .filter((f.array_contains(f.expr(\"tags.id\"), 101)) & (f.col(\"subEventName\") == 'Penalty'))\\\n",
        "    .select(f.explode(f.col(\"tags.id\")).alias(\"tag\"))\n",
        "\n",
        "pdPenalty = posGoal.join(ev, ev.tag == posGoal.value, how='left')\\\n",
        "    .select(f.col(\"value\").alias(\"tag\"))\\\n",
        "    .groupBy(\"tag\")\\\n",
        "    .agg(f.count(\"tag\").alias(\"goals\"))\\\n",
        "    .toPandas()\n",
        "\n",
        "pdPenalty.set_index('tag', inplace=True)\n",
        "pdPenalty"
      ],
      "execution_count": null,
      "outputs": [
        {
          "output_type": "execute_result",
          "data": {
            "text/html": [
              "<div>\n",
              "<style scoped>\n",
              "    .dataframe tbody tr th:only-of-type {\n",
              "        vertical-align: middle;\n",
              "    }\n",
              "\n",
              "    .dataframe tbody tr th {\n",
              "        vertical-align: top;\n",
              "    }\n",
              "\n",
              "    .dataframe thead th {\n",
              "        text-align: right;\n",
              "    }\n",
              "</style>\n",
              "<table border=\"1\" class=\"dataframe\">\n",
              "  <thead>\n",
              "    <tr style=\"text-align: right;\">\n",
              "      <th></th>\n",
              "      <th>goals</th>\n",
              "    </tr>\n",
              "    <tr>\n",
              "      <th>tag</th>\n",
              "      <th></th>\n",
              "    </tr>\n",
              "  </thead>\n",
              "  <tbody>\n",
              "    <tr>\n",
              "      <th>1201</th>\n",
              "      <td>41</td>\n",
              "    </tr>\n",
              "    <tr>\n",
              "      <th>1208</th>\n",
              "      <td>11</td>\n",
              "    </tr>\n",
              "    <tr>\n",
              "      <th>1207</th>\n",
              "      <td>23</td>\n",
              "    </tr>\n",
              "    <tr>\n",
              "      <th>1206</th>\n",
              "      <td>37</td>\n",
              "    </tr>\n",
              "    <tr>\n",
              "      <th>1205</th>\n",
              "      <td>113</td>\n",
              "    </tr>\n",
              "    <tr>\n",
              "      <th>1209</th>\n",
              "      <td>9</td>\n",
              "    </tr>\n",
              "    <tr>\n",
              "      <th>1203</th>\n",
              "      <td>22</td>\n",
              "    </tr>\n",
              "    <tr>\n",
              "      <th>1202</th>\n",
              "      <td>90</td>\n",
              "    </tr>\n",
              "    <tr>\n",
              "      <th>1204</th>\n",
              "      <td>47</td>\n",
              "    </tr>\n",
              "  </tbody>\n",
              "</table>\n",
              "</div>"
            ],
            "text/plain": [
              "      goals\n",
              "tag        \n",
              "1201     41\n",
              "1208     11\n",
              "1207     23\n",
              "1206     37\n",
              "1205    113\n",
              "1209      9\n",
              "1203     22\n",
              "1202     90\n",
              "1204     47"
            ]
          },
          "metadata": {
            "tags": []
          },
          "execution_count": 35
        }
      ]
    },
    {
      "cell_type": "code",
      "metadata": {
        "colab": {
          "base_uri": "https://localhost:8080/",
          "height": 374
        },
        "id": "wN2L8GZiNUgd",
        "outputId": "1234b936-08a9-4052-9a30-fd7926563959"
      },
      "source": [
        "gate = np.zeros((3,3))\n",
        "\n",
        "gate[2][0] = pdPenalty.loc[1205]['goals']\n",
        "gate[2][1] = pdPenalty.loc[1201]['goals']\n",
        "gate[2][2] = pdPenalty.loc[1202]['goals']\n",
        "gate[1][0] = pdPenalty.loc[1204]['goals']\n",
        "gate[1][1] = pdPenalty.loc[1203]['goals']\n",
        "gate[1][2] = pdPenalty.loc[1206]['goals']\n",
        "gate[0][0] = pdPenalty.loc[1208]['goals']\n",
        "gate[0][1] = pdPenalty.loc[1207]['goals']\n",
        "gate[0][2] = pdPenalty.loc[1209]['goals']\n",
        "\n",
        "fig, ax = plt.subplots(figsize=(18,6))\n",
        "ax = sns.heatmap(gate, ax=ax, annot=True, fmt='g', cmap = 'BuGn',xticklabels=['LEFT','CENTER','RIGHT'], yticklabels=['HIGH','CENTER','LOW'])\n",
        "fig.show()"
      ],
      "execution_count": null,
      "outputs": [
        {
          "output_type": "display_data",
          "data": {
            "image/png": "[encoded data removed]",
            "text/plain": [
              "<Figure size 1296x432 with 2 Axes>"
            ]
          },
          "metadata": {
            "tags": [],
            "needs_background": "light"
          }
        }
      ]
    },
    {
      "cell_type": "markdown",
      "metadata": {
        "id": "PD2apuwqP7Rw"
      },
      "source": [
        "## 4. Czy opłaca się wymieniać napastników - kryterium goli"
      ]
    },
    {
      "cell_type": "code",
      "metadata": {
        "colab": {
          "base_uri": "https://localhost:8080/"
        },
        "id": "-lvOQcdVQEF6",
        "outputId": "21c4f145-37a2-4857-ebbe-eb1b6aaf67cc"
      },
      "source": [
        "# gole pierwszego zespołu\n",
        "lg = matches.select(matches.wyId,matches.info.formation.lineup.goals.alias(\"lineupGoals\"))\\\n",
        "    .withColumn(\"lineupGoals\",f.explode(f.col(\"lineupGoals\")))\\\n",
        "    .withColumn(\"lineupGoals\",f.col(\"lineupGoals\").cast(IntegerType()))\\\n",
        "    .fillna(0,subset=(\"lineupGoals\"))\\\n",
        "    .groupBy(matches.wyId)\\\n",
        "    .agg(f.sum(\"lineupGoals\").alias(\"lineupGoals\"))\n",
        "\n",
        "# gole rezerwowych\n",
        "bg = matches.select(matches.wyId,matches.info.formation.bench.goals.alias(\"benchGoals\"))\\\n",
        "    .withColumn(\"benchGoals\",f.explode(f.col(\"benchGoals\")))\\\n",
        "    .withColumn(\"benchGoals\",f.col(\"benchGoals\").cast(IntegerType()))\\\n",
        "    .fillna(0,subset=(\"benchGoals\"))\\\n",
        "    .groupBy(matches.wyId)\\\n",
        "    .agg(f.sum(\"benchGoals\").alias(\"benchGoals\"))\n",
        "\n",
        "# średnia minuta dokonywania zmian\n",
        "subTime = matches.select(matches.wyId,matches.info.formation.substitutions.minute.alias(\"minute\"))\\\n",
        "    .withColumn(\"minute\",f.explode(f.col(\"minute\")))\\\n",
        "    .agg(f.round(f.avg(\"minute\"),0).alias(\"avg_minute\"))\n",
        "\n",
        "avgTimeSub = subTime.first()[0]\n",
        "\n",
        "g = lg.join(bg, on=\"wyId\").agg(f.sum(\"lineupGoals\").alias(\"lineupGoals\"),f.sum(\"benchGoals\").alias(\"benchGoals\"))\n",
        "\n",
        "g.show(1000,truncate=False)"
      ],
      "execution_count": null,
      "outputs": [
        {
          "output_type": "stream",
          "text": [
            "+-----------+----------+\n",
            "|lineupGoals|benchGoals|\n",
            "+-----------+----------+\n",
            "|4281       |513       |\n",
            "+-----------+----------+\n",
            "\n"
          ],
          "name": "stdout"
        }
      ]
    },
    {
      "cell_type": "code",
      "metadata": {
        "colab": {
          "base_uri": "https://localhost:8080/"
        },
        "id": "HLYkfHHwwxma",
        "outputId": "205f603d-01a6-426a-d7de-1f2289d3f91b"
      },
      "source": [
        "# średnia minuta dokonywania zmian.\n",
        "avgTimeSub"
      ],
      "execution_count": null,
      "outputs": [
        {
          "output_type": "execute_result",
          "data": {
            "text/plain": [
              "70.0"
            ]
          },
          "metadata": {
            "tags": []
          },
          "execution_count": 38
        }
      ]
    },
    {
      "cell_type": "code",
      "metadata": {
        "colab": {
          "base_uri": "https://localhost:8080/",
          "height": 173
        },
        "id": "r7MJsG6OQePl",
        "outputId": "62d5938f-0d95-4628-fd90-a3ac14a4c7a4"
      },
      "source": [
        "# pozycja zawodników\n",
        "playerRole = players.select(f.col(\"wyId\").alias(\"playerId\"),f.col(\"role.code2\").alias(\"role\"))\n",
        "\n",
        "playerGoals = matches\\\n",
        "    .select(\"wyId\",\"team\",f.col(\"info.formation.lineup.playerId\").alias(\"playerId\"),f.col(\"info.formation.lineup.goals\").alias(\"goal\"))\n",
        "\n",
        "playerGoals = playerGoals.withColumn(\"zip\",f.arrays_zip(f.col(\"playerId\"),f.col(\"goal\")))\\\n",
        "    .withColumn(\"zip\",f.explode(f.col(\"zip\")))\\\n",
        "    .select(\"wyId\",\"team\",\"zip\")\n",
        "\n",
        "playerGoals = playerGoals.select(\"wyId\",\"team\",\"zip.*\")\\\n",
        "    .withColumn(\"goal\", f.col(\"goal\").cast(IntegerType()))\\\n",
        "    .dropna()\\\n",
        "    .filter(f.col(\"goal\") != 0)\\\n",
        "    .orderBy(f.col(\"goal\").desc())\n",
        "\n",
        "pdPlayerGoals = playerGoals\\\n",
        "    .join(playerRole,on=\"playerId\")\\\n",
        "    .select(\"role\",\"goal\")\\\n",
        "    .groupBy(\"role\")\\\n",
        "    .agg(f.sum(\"goal\").alias(\"goal\"))\\\n",
        "    .orderBy(f.col(\"goal\").desc())\\\n",
        "    .toPandas()\n",
        "\n",
        "pdPlayerGoals.set_index(\"role\")\n",
        "\n",
        "labels = pdPlayerGoals[\"role\"]\n",
        "values = pdPlayerGoals[\"goal\"]\n",
        "pdPlayerGoals"
      ],
      "execution_count": null,
      "outputs": [
        {
          "output_type": "execute_result",
          "data": {
            "text/html": [
              "<div>\n",
              "<style scoped>\n",
              "    .dataframe tbody tr th:only-of-type {\n",
              "        vertical-align: middle;\n",
              "    }\n",
              "\n",
              "    .dataframe tbody tr th {\n",
              "        vertical-align: top;\n",
              "    }\n",
              "\n",
              "    .dataframe thead th {\n",
              "        text-align: right;\n",
              "    }\n",
              "</style>\n",
              "<table border=\"1\" class=\"dataframe\">\n",
              "  <thead>\n",
              "    <tr style=\"text-align: right;\">\n",
              "      <th></th>\n",
              "      <th>role</th>\n",
              "      <th>goal</th>\n",
              "    </tr>\n",
              "  </thead>\n",
              "  <tbody>\n",
              "    <tr>\n",
              "      <th>0</th>\n",
              "      <td>FW</td>\n",
              "      <td>2363</td>\n",
              "    </tr>\n",
              "    <tr>\n",
              "      <th>1</th>\n",
              "      <td>MD</td>\n",
              "      <td>1394</td>\n",
              "    </tr>\n",
              "    <tr>\n",
              "      <th>2</th>\n",
              "      <td>DF</td>\n",
              "      <td>523</td>\n",
              "    </tr>\n",
              "    <tr>\n",
              "      <th>3</th>\n",
              "      <td>GK</td>\n",
              "      <td>1</td>\n",
              "    </tr>\n",
              "  </tbody>\n",
              "</table>\n",
              "</div>"
            ],
            "text/plain": [
              "  role  goal\n",
              "0   FW  2363\n",
              "1   MD  1394\n",
              "2   DF   523\n",
              "3   GK     1"
            ]
          },
          "metadata": {
            "tags": []
          },
          "execution_count": 39
        }
      ]
    },
    {
      "cell_type": "code",
      "metadata": {
        "colab": {
          "base_uri": "https://localhost:8080/",
          "height": 542
        },
        "id": "wZ8hnTHgQgCb",
        "outputId": "ece78fdd-5e59-4ab5-bbb9-42da95b41816"
      },
      "source": [
        "fig = go.Figure(data=[go.Pie(labels=labels, values=values, textinfo='label+percent+value')])\n",
        "fig.show()\n"
      ],
      "execution_count": null,
      "outputs": [
        {
          "output_type": "display_data",
          "data": {
            "text/html": [
              "<html>\n",
              "<head><meta charset=\"utf-8\" /></head>\n",
              "<body>\n",
              "    <div>\n",
              "            <script src=\"https://cdnjs.cloudflare.com/ajax/libs/mathjax/2.7.5/MathJax.js?config=TeX-AMS-MML_SVG\"></script><script type=\"text/javascript\">if (window.MathJax) {MathJax.Hub.Config({SVG: {font: \"STIX-Web\"}});}</script>\n",
              "                <script type=\"text/javascript\">window.PlotlyConfig = {MathJaxConfig: 'local'};</script>\n",
              "        <script src=\"https://cdn.plot.ly/plotly-latest.min.js\"></script>    \n",
              "            <div id=\"b02891ea-d4d8-4b91-a45b-e22ca0484258\" class=\"plotly-graph-div\" style=\"height:525px; width:100%;\"></div>\n",
              "            <script type=\"text/javascript\">\n",
              "                \n",
              "                    window.PLOTLYENV=window.PLOTLYENV || {};\n",
              "                    \n",
              "                if (document.getElementById(\"b02891ea-d4d8-4b91-a45b-e22ca0484258\")) {\n",
              "                    Plotly.newPlot(\n",
              "                        'b02891ea-d4d8-4b91-a45b-e22ca0484258',\n",
              "                        [{\"labels\": [\"FW\", \"MD\", \"DF\", \"GK\"], \"textinfo\": \"label+percent+value\", \"type\": \"pie\", \"values\": [2363, 1394, 523, 1]}],\n",
              "                        {\"template\": {\"data\": {\"bar\": [{\"error_x\": {\"color\": \"#2a3f5f\"}, \"error_y\": {\"color\": \"#2a3f5f\"}, \"marker\": {\"line\": {\"color\": \"#E5ECF6\", \"width\": 0.5}}, \"type\": \"bar\"}], \"barpolar\": [{\"marker\": {\"line\": {\"color\": \"#E5ECF6\", \"width\": 0.5}}, \"type\": \"barpolar\"}], \"carpet\": [{\"aaxis\": {\"endlinecolor\": \"#2a3f5f\", \"gridcolor\": \"white\", \"linecolor\": \"white\", \"minorgridcolor\": \"white\", \"startlinecolor\": \"#2a3f5f\"}, \"baxis\": {\"endlinecolor\": \"#2a3f5f\", \"gridcolor\": \"white\", \"linecolor\": \"white\", \"minorgridcolor\": \"white\", \"startlinecolor\": \"#2a3f5f\"}, \"type\": \"carpet\"}], \"choropleth\": [{\"colorbar\": {\"outlinewidth\": 0, \"ticks\": \"\"}, \"type\": \"choropleth\"}], \"contour\": [{\"colorbar\": {\"outlinewidth\": 0, \"ticks\": \"\"}, \"colorscale\": [[0.0, \"#0d0887\"], [0.1111111111111111, \"#46039f\"], [0.2222222222222222, \"#7201a8\"], [0.3333333333333333, \"#9c179e\"], [0.4444444444444444, \"#bd3786\"], [0.5555555555555556, \"#d8576b\"], [0.6666666666666666, \"#ed7953\"], [0.7777777777777778, \"#fb9f3a\"], [0.8888888888888888, \"#fdca26\"], [1.0, \"#f0f921\"]], \"type\": \"contour\"}], \"contourcarpet\": [{\"colorbar\": {\"outlinewidth\": 0, \"ticks\": \"\"}, \"type\": \"contourcarpet\"}], \"heatmap\": [{\"colorbar\": {\"outlinewidth\": 0, \"ticks\": \"\"}, \"colorscale\": [[0.0, \"#0d0887\"], [0.1111111111111111, \"#46039f\"], [0.2222222222222222, \"#7201a8\"], [0.3333333333333333, \"#9c179e\"], [0.4444444444444444, \"#bd3786\"], [0.5555555555555556, \"#d8576b\"], [0.6666666666666666, \"#ed7953\"], [0.7777777777777778, \"#fb9f3a\"], [0.8888888888888888, \"#fdca26\"], [1.0, \"#f0f921\"]], \"type\": \"heatmap\"}], \"heatmapgl\": [{\"colorbar\": {\"outlinewidth\": 0, \"ticks\": \"\"}, \"colorscale\": [[0.0, \"#0d0887\"], [0.1111111111111111, \"#46039f\"], [0.2222222222222222, \"#7201a8\"], [0.3333333333333333, \"#9c179e\"], [0.4444444444444444, \"#bd3786\"], [0.5555555555555556, \"#d8576b\"], [0.6666666666666666, \"#ed7953\"], [0.7777777777777778, \"#fb9f3a\"], [0.8888888888888888, \"#fdca26\"], [1.0, \"#f0f921\"]], \"type\": \"heatmapgl\"}], \"histogram\": [{\"marker\": {\"colorbar\": {\"outlinewidth\": 0, \"ticks\": \"\"}}, \"type\": \"histogram\"}], \"histogram2d\": [{\"colorbar\": {\"outlinewidth\": 0, \"ticks\": \"\"}, \"colorscale\": [[0.0, \"#0d0887\"], [0.1111111111111111, \"#46039f\"], [0.2222222222222222, \"#7201a8\"], [0.3333333333333333, \"#9c179e\"], [0.4444444444444444, \"#bd3786\"], [0.5555555555555556, \"#d8576b\"], [0.6666666666666666, \"#ed7953\"], [0.7777777777777778, \"#fb9f3a\"], [0.8888888888888888, \"#fdca26\"], [1.0, \"#f0f921\"]], \"type\": \"histogram2d\"}], \"histogram2dcontour\": [{\"colorbar\": {\"outlinewidth\": 0, \"ticks\": \"\"}, \"colorscale\": [[0.0, \"#0d0887\"], [0.1111111111111111, \"#46039f\"], [0.2222222222222222, \"#7201a8\"], [0.3333333333333333, \"#9c179e\"], [0.4444444444444444, \"#bd3786\"], [0.5555555555555556, \"#d8576b\"], [0.6666666666666666, \"#ed7953\"], [0.7777777777777778, \"#fb9f3a\"], [0.8888888888888888, \"#fdca26\"], [1.0, \"#f0f921\"]], \"type\": \"histogram2dcontour\"}], \"mesh3d\": [{\"colorbar\": {\"outlinewidth\": 0, \"ticks\": \"\"}, \"type\": \"mesh3d\"}], \"parcoords\": [{\"line\": {\"colorbar\": {\"outlinewidth\": 0, \"ticks\": \"\"}}, \"type\": \"parcoords\"}], \"pie\": [{\"automargin\": true, \"type\": \"pie\"}], \"scatter\": [{\"marker\": {\"colorbar\": {\"outlinewidth\": 0, \"ticks\": \"\"}}, \"type\": \"scatter\"}], \"scatter3d\": [{\"line\": {\"colorbar\": {\"outlinewidth\": 0, \"ticks\": \"\"}}, \"marker\": {\"colorbar\": {\"outlinewidth\": 0, \"ticks\": \"\"}}, \"type\": \"scatter3d\"}], \"scattercarpet\": [{\"marker\": {\"colorbar\": {\"outlinewidth\": 0, \"ticks\": \"\"}}, \"type\": \"scattercarpet\"}], \"scattergeo\": [{\"marker\": {\"colorbar\": {\"outlinewidth\": 0, \"ticks\": \"\"}}, \"type\": \"scattergeo\"}], \"scattergl\": [{\"marker\": {\"colorbar\": {\"outlinewidth\": 0, \"ticks\": \"\"}}, \"type\": \"scattergl\"}], \"scattermapbox\": [{\"marker\": {\"colorbar\": {\"outlinewidth\": 0, \"ticks\": \"\"}}, \"type\": \"scattermapbox\"}], \"scatterpolar\": [{\"marker\": {\"colorbar\": {\"outlinewidth\": 0, \"ticks\": \"\"}}, \"type\": \"scatterpolar\"}], \"scatterpolargl\": [{\"marker\": {\"colorbar\": {\"outlinewidth\": 0, \"ticks\": \"\"}}, \"type\": \"scatterpolargl\"}], \"scatterternary\": [{\"marker\": {\"colorbar\": {\"outlinewidth\": 0, \"ticks\": \"\"}}, \"type\": \"scatterternary\"}], \"surface\": [{\"colorbar\": {\"outlinewidth\": 0, \"ticks\": \"\"}, \"colorscale\": [[0.0, \"#0d0887\"], [0.1111111111111111, \"#46039f\"], [0.2222222222222222, \"#7201a8\"], [0.3333333333333333, \"#9c179e\"], [0.4444444444444444, \"#bd3786\"], [0.5555555555555556, \"#d8576b\"], [0.6666666666666666, \"#ed7953\"], [0.7777777777777778, \"#fb9f3a\"], [0.8888888888888888, \"#fdca26\"], [1.0, \"#f0f921\"]], \"type\": \"surface\"}], \"table\": [{\"cells\": {\"fill\": {\"color\": \"#EBF0F8\"}, \"line\": {\"color\": \"white\"}}, \"header\": {\"fill\": {\"color\": \"#C8D4E3\"}, \"line\": {\"color\": \"white\"}}, \"type\": \"table\"}]}, \"layout\": {\"annotationdefaults\": {\"arrowcolor\": \"#2a3f5f\", \"arrowhead\": 0, \"arrowwidth\": 1}, \"coloraxis\": {\"colorbar\": {\"outlinewidth\": 0, \"ticks\": \"\"}}, \"colorscale\": {\"diverging\": [[0, \"#8e0152\"], [0.1, \"#c51b7d\"], [0.2, \"#de77ae\"], [0.3, \"#f1b6da\"], [0.4, \"#fde0ef\"], [0.5, \"#f7f7f7\"], [0.6, \"#e6f5d0\"], [0.7, \"#b8e186\"], [0.8, \"#7fbc41\"], [0.9, \"#4d9221\"], [1, \"#276419\"]], \"sequential\": [[0.0, \"#0d0887\"], [0.1111111111111111, \"#46039f\"], [0.2222222222222222, \"#7201a8\"], [0.3333333333333333, \"#9c179e\"], [0.4444444444444444, \"#bd3786\"], [0.5555555555555556, \"#d8576b\"], [0.6666666666666666, \"#ed7953\"], [0.7777777777777778, \"#fb9f3a\"], [0.8888888888888888, \"#fdca26\"], [1.0, \"#f0f921\"]], \"sequentialminus\": [[0.0, \"#0d0887\"], [0.1111111111111111, \"#46039f\"], [0.2222222222222222, \"#7201a8\"], [0.3333333333333333, \"#9c179e\"], [0.4444444444444444, \"#bd3786\"], [0.5555555555555556, \"#d8576b\"], [0.6666666666666666, \"#ed7953\"], [0.7777777777777778, \"#fb9f3a\"], [0.8888888888888888, \"#fdca26\"], [1.0, \"#f0f921\"]]}, \"colorway\": [\"#636efa\", \"#EF553B\", \"#00cc96\", \"#ab63fa\", \"#FFA15A\", \"#19d3f3\", \"#FF6692\", \"#B6E880\", \"#FF97FF\", \"#FECB52\"], \"font\": {\"color\": \"#2a3f5f\"}, \"geo\": {\"bgcolor\": \"white\", \"lakecolor\": \"white\", \"landcolor\": \"#E5ECF6\", \"showlakes\": true, \"showland\": true, \"subunitcolor\": \"white\"}, \"hoverlabel\": {\"align\": \"left\"}, \"hovermode\": \"closest\", \"mapbox\": {\"style\": \"light\"}, \"paper_bgcolor\": \"white\", \"plot_bgcolor\": \"#E5ECF6\", \"polar\": {\"angularaxis\": {\"gridcolor\": \"white\", \"linecolor\": \"white\", \"ticks\": \"\"}, \"bgcolor\": \"#E5ECF6\", \"radialaxis\": {\"gridcolor\": \"white\", \"linecolor\": \"white\", \"ticks\": \"\"}}, \"scene\": {\"xaxis\": {\"backgroundcolor\": \"#E5ECF6\", \"gridcolor\": \"white\", \"gridwidth\": 2, \"linecolor\": \"white\", \"showbackground\": true, \"ticks\": \"\", \"zerolinecolor\": \"white\"}, \"yaxis\": {\"backgroundcolor\": \"#E5ECF6\", \"gridcolor\": \"white\", \"gridwidth\": 2, \"linecolor\": \"white\", \"showbackground\": true, \"ticks\": \"\", \"zerolinecolor\": \"white\"}, \"zaxis\": {\"backgroundcolor\": \"#E5ECF6\", \"gridcolor\": \"white\", \"gridwidth\": 2, \"linecolor\": \"white\", \"showbackground\": true, \"ticks\": \"\", \"zerolinecolor\": \"white\"}}, \"shapedefaults\": {\"line\": {\"color\": \"#2a3f5f\"}}, \"ternary\": {\"aaxis\": {\"gridcolor\": \"white\", \"linecolor\": \"white\", \"ticks\": \"\"}, \"baxis\": {\"gridcolor\": \"white\", \"linecolor\": \"white\", \"ticks\": \"\"}, \"bgcolor\": \"#E5ECF6\", \"caxis\": {\"gridcolor\": \"white\", \"linecolor\": \"white\", \"ticks\": \"\"}}, \"title\": {\"x\": 0.05}, \"xaxis\": {\"automargin\": true, \"gridcolor\": \"white\", \"linecolor\": \"white\", \"ticks\": \"\", \"title\": {\"standoff\": 15}, \"zerolinecolor\": \"white\", \"zerolinewidth\": 2}, \"yaxis\": {\"automargin\": true, \"gridcolor\": \"white\", \"linecolor\": \"white\", \"ticks\": \"\", \"title\": {\"standoff\": 15}, \"zerolinecolor\": \"white\", \"zerolinewidth\": 2}}}},\n",
              "                        {\"responsive\": true}\n",
              "                    ).then(function(){\n",
              "                            \n",
              "var gd = document.getElementById('b02891ea-d4d8-4b91-a45b-e22ca0484258');\n",
              "var x = new MutationObserver(function (mutations, observer) {{\n",
              "        var display = window.getComputedStyle(gd).display;\n",
              "        if (!display || display === 'none') {{\n",
              "            console.log([gd, 'removed!']);\n",
              "            Plotly.purge(gd);\n",
              "            observer.disconnect();\n",
              "        }}\n",
              "}});\n",
              "\n",
              "// Listen for the removal of the full notebook cells\n",
              "var notebookContainer = gd.closest('#notebook-container');\n",
              "if (notebookContainer) {{\n",
              "    x.observe(notebookContainer, {childList: true});\n",
              "}}\n",
              "\n",
              "// Listen for the clearing of the current output cell\n",
              "var outputEl = gd.closest('.output');\n",
              "if (outputEl) {{\n",
              "    x.observe(outputEl, {childList: true});\n",
              "}}\n",
              "\n",
              "                        })\n",
              "                };\n",
              "                \n",
              "            </script>\n",
              "        </div>\n",
              "</body>\n",
              "</html>"
            ]
          },
          "metadata": {
            "tags": []
          }
        }
      ]
    },
    {
      "cell_type": "code",
      "metadata": {
        "colab": {
          "base_uri": "https://localhost:8080/",
          "height": 173
        },
        "id": "tXfnhKirRHhD",
        "outputId": "b9f1ef4b-8698-49c4-c3f9-62aac416771a"
      },
      "source": [
        "ev = events\\\n",
        "    .filter((f.array_contains(f.expr(\"tags.id\"), 101)) & (f.col(\"eventName\") != 'Save attempt') & (f.col(\"matchPeriod\") == '2H'))\\\n",
        "    .select(\"eventSec\",\"playerId\",\"eventName\",f.expr(\"tags.id\").alias(\"tagId\"),\"teamId\",\"matchPeriod\",\"matchId\")\\\n",
        "    .withColumn(\"eventMin\",f.floor(f.col(\"eventSec\")/60)+45)\\\n",
        "    .groupBy(\"teamId\", \"playerId\",\"eventMin\",\"matchId\")\\\n",
        "    .agg(f.count(\"teamId\").alias(\"goal\"))\\\n",
        "    .orderBy(f.col(\"goal\").desc())\n",
        "\n",
        "m = matches.select(f.col(\"wyId\").alias(\"matchId\"),\"team\",f.col(\"info.formation.lineup.playerId\").alias(\"lineupPlayerId\"),f.col(\"info.formation.bench.playerId\").alias(\"benchPlayerId\"))\\\n",
        "\n",
        "pdJokers = ev.filter(f.col(\"eventMin\") >= avgTimeSub)\\\n",
        "    .join(playerRole, on=\"playerId\")\\\n",
        "    .join(m, (ev.matchId == m.matchId) & (ev.teamId == m.team))\\\n",
        "    .withColumn(\"lineupGoal\", f.when(f.array_contains(f.col(\"lineupPlayerId\"),f.col(\"playerId\")),1).otherwise(0))\\\n",
        "    .withColumn(\"benchGoal\", f.when(f.array_contains(f.col(\"benchPlayerId\"),f.col(\"playerId\")),1).otherwise(0))\\\n",
        "    .groupBy(\"role\")\\\n",
        "    .agg(f.sum(\"lineupGoal\").alias(\"lineupGoal\"),f.sum(\"benchGoal\").alias(\"benchGoal\"))\\\n",
        "    .toPandas()\n",
        "pdJokers"
      ],
      "execution_count": null,
      "outputs": [
        {
          "output_type": "execute_result",
          "data": {
            "text/html": [
              "<div>\n",
              "<style scoped>\n",
              "    .dataframe tbody tr th:only-of-type {\n",
              "        vertical-align: middle;\n",
              "    }\n",
              "\n",
              "    .dataframe tbody tr th {\n",
              "        vertical-align: top;\n",
              "    }\n",
              "\n",
              "    .dataframe thead th {\n",
              "        text-align: right;\n",
              "    }\n",
              "</style>\n",
              "<table border=\"1\" class=\"dataframe\">\n",
              "  <thead>\n",
              "    <tr style=\"text-align: right;\">\n",
              "      <th></th>\n",
              "      <th>role</th>\n",
              "      <th>lineupGoal</th>\n",
              "      <th>benchGoal</th>\n",
              "    </tr>\n",
              "  </thead>\n",
              "  <tbody>\n",
              "    <tr>\n",
              "      <th>0</th>\n",
              "      <td>FW</td>\n",
              "      <td>510</td>\n",
              "      <td>273</td>\n",
              "    </tr>\n",
              "    <tr>\n",
              "      <th>1</th>\n",
              "      <td>MD</td>\n",
              "      <td>312</td>\n",
              "      <td>126</td>\n",
              "    </tr>\n",
              "    <tr>\n",
              "      <th>2</th>\n",
              "      <td>GK</td>\n",
              "      <td>1</td>\n",
              "      <td>0</td>\n",
              "    </tr>\n",
              "    <tr>\n",
              "      <th>3</th>\n",
              "      <td>DF</td>\n",
              "      <td>140</td>\n",
              "      <td>14</td>\n",
              "    </tr>\n",
              "  </tbody>\n",
              "</table>\n",
              "</div>"
            ],
            "text/plain": [
              "  role  lineupGoal  benchGoal\n",
              "0   FW         510        273\n",
              "1   MD         312        126\n",
              "2   GK           1          0\n",
              "3   DF         140         14"
            ]
          },
          "metadata": {
            "tags": []
          },
          "execution_count": 41
        }
      ]
    },
    {
      "cell_type": "code",
      "metadata": {
        "colab": {
          "base_uri": "https://localhost:8080/",
          "height": 286
        },
        "id": "npA1RVv1RhMk",
        "outputId": "7b3a3454-d6f9-4527-9863-dcc17500c40c"
      },
      "source": [
        "# porównanie goli strzelonych przez rezerwowych do goli strzelonych przez podstawowy skład po średniej minucie dokonywania zmian\n",
        "pdJokers.set_index(\"role\").plot(kind='bar')\n",
        "pass"
      ],
      "execution_count": null,
      "outputs": [
        {
          "output_type": "display_data",
          "data": {
            "image/png": "[encoded data removed]",
            "text/plain": [
              "<Figure size 432x288 with 1 Axes>"
            ]
          },
          "metadata": {
            "tags": [],
            "needs_background": "light"
          }
        }
      ]
    },
    {
      "cell_type": "markdown",
      "metadata": {
        "id": "hsXxXNx_SDOM"
      },
      "source": [
        "## 5. Prezentacja przestrzenna zdarzeń"
      ]
    },
    {
      "cell_type": "code",
      "metadata": {
        "id": "NottP79XWBqQ"
      },
      "source": [
        "# rysowanie boiska\n",
        "def pitch():\n",
        "    \n",
        "    #create figure\n",
        "    fig,ax=plt.subplots(figsize=(7,5))\n",
        "    \n",
        "    #Pitch Outline & Centre Line\n",
        "    plt.plot([0,0],[0,100], color=\"black\")\n",
        "    plt.plot([0,100],[100,100], color=\"black\")\n",
        "    plt.plot([100,100],[100,0], color=\"black\")\n",
        "    plt.plot([100,0],[0,0], color=\"black\")\n",
        "    plt.plot([50,50],[0,100], color=\"black\")\n",
        "\n",
        "    #Left Penalty Area\n",
        "    plt.plot([16.5,16.5],[80,20],color=\"black\")\n",
        "    plt.plot([0,16.5],[80,80],color=\"black\")\n",
        "    plt.plot([16.5,0],[20,20],color=\"black\")\n",
        "\n",
        "    #Right Penalty Area\n",
        "    plt.plot([83.5,100],[80,80],color=\"black\")\n",
        "    plt.plot([83.5,83.5],[80,20],color=\"black\")\n",
        "    plt.plot([83.5,100],[20,20],color=\"black\")\n",
        "\n",
        "    #Left 6-yard Box\n",
        "    plt.plot([0,5.5],[65,65],color=\"black\")\n",
        "    plt.plot([5.5,5.5],[65,35],color=\"black\")\n",
        "    plt.plot([5.5,0.5],[35,35],color=\"black\")\n",
        "\n",
        "    #Right 6-yard Box\n",
        "    plt.plot([100,94.5],[65,65],color=\"black\")\n",
        "    plt.plot([94.5,94.5],[65,35],color=\"black\")\n",
        "    plt.plot([94.5,100],[35,35],color=\"black\")\n",
        "\n",
        "    #Prepare Circles\n",
        "    centreCircle = Ellipse((50, 50), width=30, height=39, edgecolor=\"black\", facecolor=\"None\", lw=1.8)\n",
        "    centreSpot = Ellipse((50, 50), width=1, height=1.5, edgecolor=\"black\", facecolor=\"black\", lw=1.8)\n",
        "    leftPenSpot = Ellipse((11, 50), width=1, height=1.5, edgecolor=\"black\", facecolor=\"black\", lw=1.8)\n",
        "    rightPenSpot = Ellipse((89, 50), width=1, height=1.5, edgecolor=\"black\", facecolor=\"black\", lw=1.8)\n",
        "\n",
        "    #Draw Circles\n",
        "    ax.add_patch(centreCircle)\n",
        "    ax.add_patch(centreSpot)\n",
        "    ax.add_patch(leftPenSpot)\n",
        "    ax.add_patch(rightPenSpot)\n",
        "    \n",
        "    #limit axis\n",
        "    plt.xlim(0,100)\n",
        "    plt.ylim(0,100)\n",
        "    \n",
        "    ax.annotate(\"\", xy=(25, 5), xytext=(5, 5),\n",
        "                arrowprops=dict(arrowstyle=\"->\", linewidth=2))\n",
        "    ax.text(7,7,'Attack',fontsize=20)\n",
        "    return fig,ax"
      ],
      "execution_count": null,
      "outputs": []
    },
    {
      "cell_type": "code",
      "metadata": {
        "colab": {
          "base_uri": "https://localhost:8080/"
        },
        "id": "U6CeaLgBSaGQ",
        "outputId": "d67810d2-0ef2-47fd-9234-26e4cc2a5240"
      },
      "source": [
        "matchId = 2576035\n",
        "teamId = 3162\n",
        "m = matches\\\n",
        "  .filter(f.col(\"wyId\") == matchId)\\\n",
        "  .select(\"label\",\"dateutc\",f.col(\"info.teamId\").alias(\"teamId\"))\n",
        "\n",
        "m.join(teams, teams.wyId == m.teamId, how='inner')\\\n",
        "  .select(\"label\",\"dateutc\",\"name\",\"teamId\")\\\n",
        "  .show(truncate=False)"
      ],
      "execution_count": null,
      "outputs": [
        {
          "output_type": "stream",
          "text": [
            "+-----------------------+-------------------+--------+------+\n",
            "|label                  |dateutc            |name    |teamId|\n",
            "+-----------------------+-------------------+--------+------+\n",
            "|Juventus - Lazio, 1 - 2|2017-10-14 16:00:00|Juventus|3159  |\n",
            "|Juventus - Lazio, 1 - 2|2017-10-14 16:00:00|Lazio   |3162  |\n",
            "+-----------------------+-------------------+--------+------+\n",
            "\n"
          ],
          "name": "stdout"
        }
      ]
    },
    {
      "cell_type": "code",
      "metadata": {
        "id": "3AzL6Mn8SVO1"
      },
      "source": [
        "# podania, dryblingi, strzały\n",
        "eventType = [\"Pass\", \"Duel\", \"Shot\"]\n",
        "ev = events\\\n",
        "    .filter(f.col(\"matchId\") == matchId)\\\n",
        "    .filter(f.col(\"eventName\").isin(list(eventType)))\\\n",
        "    .filter(f.col(\"teamId\") == teamId)\\\n",
        "    .select(\"matchId\",\"teamId\",\"eventName\",f.expr(\"positions[0]\").alias(\"position1\"))\\\n",
        "    .withColumn(\"x\", f.col(\"position1\").getField(\"x\"))\\\n",
        "    .withColumn(\"y\", f.col(\"position1\").getField(\"y\"))\n",
        "\n",
        "# .filter(f.col(\"eventName\").isin(list(eventType)))\\ # Inter - Lazio 3-2 \n",
        "# .filter(f.col(\"playerId\") == 21384)\\ # 265865 - Milinkovic-Savic,  21384 - Immobile \n",
        "\n",
        "df = ev.select(\"eventName\", \"x\", \"y\")\\\n",
        "    .toPandas()\n"
      ],
      "execution_count": null,
      "outputs": []
    },
    {
      "cell_type": "code",
      "metadata": {
        "colab": {
          "base_uri": "https://localhost:8080/",
          "height": 1000
        },
        "id": "gYaKEgrsVh0-",
        "outputId": "1ae7accf-11db-4715-a247-c53cd049ca71"
      },
      "source": [
        "for event_type in eventType:\n",
        "  pos_event_df = df[df['eventName'] == event_type]\n",
        "  fig, ax = pitch()    \n",
        "  if len(pos_event_df) > 2:\n",
        "      sns.kdeplot(data=pos_event_df, x=\"x\", y=\"y\", cmap = 'Greens', shade = True)\n",
        "      # sns.scatterplot(data=pos_event_df, x=\"x\", y=\"y\")\n",
        "  else:\n",
        "      sns.scatterplot(data=pos_event_df, x=\"x\", y=\"y\")\n",
        "\n",
        "  plt.title(event_type, fontsize = 20)\n",
        "  plt.xlim(-1,101)\n",
        "  plt.ylim(-1,101)\n",
        "  plt.axis('off')\n",
        "  fig.tight_layout()\n",
        "  plt.show()"
      ],
      "execution_count": null,
      "outputs": [
        {
          "output_type": "display_data",
          "data": {
            "image/png": "[encoded data removed]",
            "text/plain": [
              "<Figure size 504x360 with 1 Axes>"
            ]
          },
          "metadata": {
            "tags": [],
            "needs_background": "light"
          }
        },
        {
          "output_type": "display_data",
          "data": {
            "image/png": "[encoded data removed]",
            "text/plain": [
              "<Figure size 504x360 with 1 Axes>"
            ]
          },
          "metadata": {
            "tags": [],
            "needs_background": "light"
          }
        },
        {
          "output_type": "display_data",
          "data": {
            "image/png": "[encoded data removed]",
            "text/plain": [
              "<Figure size 504x360 with 1 Axes>"
            ]
          },
          "metadata": {
            "tags": [],
            "needs_background": "light"
          }
        }
      ]
    },
    {
      "cell_type": "markdown",
      "metadata": {
        "id": "XHR14blUZaz2"
      },
      "source": [
        "# **Predykcja wyników meczy**\n",
        "\n",
        "Model składa się z trzech faz:\n",
        "1. Wyliczenie wag poszczególnych zdarzeń w meczu prowadzących do ogólnej oceny danego zespołu. Każda cecha liczona jest jako różnica pomiędzy drużynami. Zatem pojedynczy mecz będzie przedstawiony w dwóch rekordach, po jednym dla każdej drużyny. Szukamy etykiety strzelonych goli.  \n",
        "$$\n",
        "y = \\cases{ 1 \\,- \\,goalscored > 0\\\\ \n",
        "            0 \\,- \\,goalscored <= 0}\n",
        "$$\n",
        "\n",
        "2. Wyliczenie oceny poszczególnych zawodników w danym meczu na podstawie ilości zagrań i wagi danego zagrania wyliczonej w punkcie 1. Następnie agregujemy sumując poszczególną ocenę zawodnika do formacji, w której zawodnik występuje.  \n",
        "3. Przygotowanie nowych cech. Jedna próbka będzie zawierała wartości poszczególnych formacji dla drużyny grającej u siebie i na wyjeździe. Etykietą przedstawia rezultat\n",
        "$$\n",
        "y = \\cases{ 1 \\,- \\,home\\,team\\,win\\\\ \n",
        "            0 \\,- \\,draw\\\\\n",
        "            2\\,- \\,away\\,team\\,win\\\\}\n",
        "$$\n"
      ]
    },
    {
      "cell_type": "markdown",
      "metadata": {
        "id": "rqb33m1xBtXb"
      },
      "source": [
        "## Funkcje ##"
      ]
    },
    {
      "cell_type": "code",
      "metadata": {
        "id": "9alvpbzvBsqW"
      },
      "source": [
        "# def run_model_diagnostics(X, y, clfs, size = .2, state = 42, is_classification = True, get_metrics = True):\n",
        "def run_model_diagnostics(X_train, X_test, y_train, y_test, clfs, is_classification = True, get_metrics = True):\n",
        "    \n",
        "    # X_train, X_test, y_train, y_test = train_test_split(X, y, test_size = size, random_state = state)\n",
        "\n",
        "    if get_metrics:\n",
        "        metric_map = { str(type(clf)).split('.')[-1][:-2]: [] for clf in clfs }\n",
        "\n",
        "    for clf in clfs:\n",
        "        clf_name = str(type(clf)).split('.')[-1][:-2]\n",
        "        clf.fit(X_train, y_train)\n",
        "        y_pred = clf.predict(X_test)\n",
        "\n",
        "        if is_classification:\n",
        "          # score\n",
        "            metric_map[clf_name].append( clf.score(X_test, y_test) )\n",
        "        else:\n",
        "          # rmse\n",
        "            metric_map[clf_name].append( mean_squared_error(y_test, y_pred) ** .5)\n",
        "    if get_metrics:\n",
        "        return metric_map\n",
        "    else:\n",
        "        return (y_test, y_pred, clfs)"
      ],
      "execution_count": null,
      "outputs": []
    },
    {
      "cell_type": "markdown",
      "metadata": {
        "id": "dN8H0KDUzCkP"
      },
      "source": [
        "## Selekcja cech i ocena wag ##"
      ]
    },
    {
      "cell_type": "code",
      "metadata": {
        "id": "plWuaFeNc16J"
      },
      "source": [
        "# rejected goalkeeper position\n",
        "fieldPlayer = players.filter(f.col(\"role.code2\") != 'GK')\n",
        "\n",
        "# assign team's side\n",
        "side = matches.select(\"dateutc\", \"gameweek\", \"wyId\", \"team\", \"info.side\", \"competitionId\")\n",
        "\n",
        "# tag's description\n",
        "tagsName={\n",
        "101: \"goal\",\n",
        "102: \"own_goal\",\n",
        "301: \"assist\",\n",
        "302:\t\"keyPass\",\n",
        "1901:\t\"counter_attack\",\n",
        "401:\t\"left_foot\",\n",
        "402:\t\"right_foot\",\n",
        "403:\t\"head/body\",\n",
        "1101:\t\"direct\",\n",
        "1102:\t\"indirect\",\n",
        "2001:\t\"dangerous_ball_lost\",\n",
        "2101:\t\"blocked\",\n",
        "801:\t\"high\",\n",
        "802:\t\"low\",\n",
        "1401:\t\"interception\",\n",
        "1501:\t\"clearance\",\n",
        "201:\t\"opportunity\",\n",
        "1301:\t\"feint\",\n",
        "1302:\t\"missed_ball\",\n",
        "501:\t\"free_space_r\",\n",
        "502:\t\"free_space_l\",\n",
        "503:\t\"take_on_l\",\n",
        "504:\t\"take_on_r\",\n",
        "1601:\t\"sliding_tackle\",\n",
        "601:\t\"anticipated\",\n",
        "602:\t\"anticipation\",\n",
        "1701:\t\"red_card\",\n",
        "1702:\t\"yellow_card\",\n",
        "1703:\t\"second_yellow_card\",\n",
        "1201:\t\"goal_low_center\",\n",
        "1202:\t\"goal_low_right\",\n",
        "1203:\t\"goal_center\",\n",
        "1204:\t\"goal_center_left\",\n",
        "1205:\t\"goal_low_left\",\n",
        "1206:\t\"goal_center_right\",\n",
        "1207:\t\"goal_high_center\",\n",
        "1208:\t\"goal_high_left\",\n",
        "1209:\t\"goal_high_right\",\n",
        "1210:\t\"out_low_right\",\n",
        "1211:\t\"out_center_left\",\n",
        "1212:\t\"out_low_left\",\n",
        "1213:\t\"out_center_right\",\n",
        "1214:\t\"out_high_center\",\n",
        "1215:\t\"out_high_left\",\n",
        "1216:\t\"out_high_right\",\n",
        "1217:\t\"post_low_right\",\n",
        "1218:\t\"post_center_left\",\n",
        "1219:\t\"post_low_left\",\n",
        "1220:\t\"post_center_right\",\n",
        "1221:\t\"post_high_center\",\n",
        "1222:\t\"post_high_left\",\n",
        "1223:\t\"post_high_right\",\n",
        "901:\t\"through\",\n",
        "1001:\t\"fairplay\",\n",
        "701:\t\"lost\",\n",
        "702:\t\"neutral\",\n",
        "703:\t\"won\",\n",
        "1801:\t\"accurate\",\n",
        "1802:\t\"not_accurate\"}\n",
        "\n",
        "# selecting an event and specific tags intuitively\n",
        "qualityFeature = {\n",
        "                  \"Air duel\": [1801, 1802],\n",
        "                  \"Ground attacking duel\": [1801, 1802],\n",
        "                  \"Ground defending duel\": [1801, 1802],\n",
        "                  \"Ground loose ball duel\": [1801, 1802],\n",
        "                  \"Foul\": [1702, 1703, 1701],\n",
        "                  \"Hand foul\": [1702, 1703, 1701],\n",
        "                  \"Late card foul\": [1702, 1703, 1701],\n",
        "                  \"Out of game foul\": [1702, 1703, 1701],\n",
        "                  \"Protest\": [1702, 1703, 1701],\n",
        "                  \"Simulation\": [1702, 1703, 1701],\n",
        "                  \"Time lost foul\": [1702, 1703, 1701],\n",
        "                  \"Violent Foul\": [1702, 1703, 1701],\n",
        "                  \"Corner\": [101, 1801, 1802],\n",
        "                  \"Free Kick\": [101, 1801, 1802],\n",
        "                  \"Free kick cross\": [1801, 1802],\n",
        "                  \"Free kick shot\": [1801, 1802],\n",
        "                  \"Goal kick\": [1801, 1802],\n",
        "                  \"Penalty\": [101, 1802],\n",
        "                  \"Throw in\": [1801, 1802],\n",
        "                  \"Goalkeeper leaving line\": [1801, 1802],\n",
        "                  \"Offside\": [],\n",
        "                  \"Acceleration\": [1801, 1802, 101],\n",
        "                  \"Clearance\": [1801, 1802, 101],\n",
        "                  \"Touch\": [1401, 1302, 201, 1901, 1301, 2001, 301],\n",
        "                  \"Cross\": [1801, 1802, 302, 301],\n",
        "                  \"Hand pass\": [1801, 1802, 302, 301],\n",
        "                  \"Head pass\": [1801, 1802, 302, 301],\n",
        "                  \"High pass\": [1801, 1802, 302, 301],\n",
        "                  \"Launch\": [1801, 1802, 302, 301],\n",
        "                  \"Simple pass\": [1801, 1802, 302, 301],\n",
        "                  \"Smart pass\": [1801, 1802, 302, 301],\n",
        "                  \"Shot\": [101, 1801, 1802]}\n",
        "qualityFeature = spark.createDataFrame([(tup[0], tup[1]) for tup in qualityFeature.items()], [\"subEvName\", \"tagsId\"])\n",
        "# qualityFeature.show(100, truncate=False)\n",
        "\n",
        "mapping_expr = f.create_map([f.lit(x) for x in chain(*tagsName.items())])"
      ],
      "execution_count": null,
      "outputs": []
    },
    {
      "cell_type": "code",
      "metadata": {
        "colab": {
          "base_uri": "https://localhost:8080/",
          "height": 847
        },
        "id": "xekgWK93dP2b",
        "outputId": "23831d9c-37b8-4e24-c971-2b6d32064a58"
      },
      "source": [
        "# features extraction\n",
        "\n",
        "quality1 = events\\\n",
        "  .filter(f.col(\"eventId\") != 9)\\\n",
        "  .join(side, (events.matchId == side.wyId) & (events.teamId == side.team), how='inner')\\\n",
        "  .select(\"competitionId\", \"dateutc\",\"gameweek\", \"eventId\",\"matchId\", \"side\", \"subEventName\", f.explode(\"tags.id\").alias(\"tagId\"))\\\n",
        "  .join(qualityFeature, (f.col(\"subEventName\") == qualityFeature.subEvName) & f.array_contains(qualityFeature.tagsId, f.col(\"tagId\")), how='inner')\\\n",
        "  .withColumn(\"tagName\", mapping_expr[f.col(\"tagId\")])\\\n",
        "  .select(\"competitionId\", \"dateutc\",\"gameweek\", \"eventId\", \"matchId\", \"side\", f.concat(\"subEventName\",f.lit(\"-\"),\"tagName\").alias(\"feature\"),\"tagId\")\\\n",
        "  .withColumn(\"feature\", f.when(f.col(\"eventId\") == 2, \"Foul\")\\\n",
        "            .when(f.col(\"tagId\") == 101, \"Goal scored\")\n",
        "            .otherwise(f.col(\"feature\")))\\\n",
        "  .groupBy(\"competitionId\", \"dateutc\",\"gameweek\", \"matchId\",\"feature\",\"side\")\\\n",
        "  .agg(f.count(\"feature\").alias(\"value\"))\\\n",
        "  .withColumn(\"value\",f.when(f.col(\"side\") == 'away',-1*f.col(\"value\")).otherwise(f.col(\"value\")))\\\n",
        "  .groupby(\"competitionId\",\"dateutc\",\"gameweek\",\"matchId\",\"feature\")\\\n",
        "  .agg(f.sum(\"value\").alias(\"value\"))\n",
        "\n",
        "# quality1.show(200, truncate=False)\n",
        "\n",
        "quality2 = quality1.withColumn(\"value\",-1*f.col(\"value\"))\n",
        "\n",
        "quality1 = quality1.groupBy(\"competitionId\", \"dateutc\",\"gameweek\",\"matchId\").pivot(\"feature\").agg(f.first(\"value\").alias(\"value\")).fillna(0)\n",
        "quality2 = quality2.groupBy(\"competitionId\", \"dateutc\",\"gameweek\",\"matchId\").pivot(\"feature\").agg(f.first(\"value\").alias(\"value\")).fillna(0)\n",
        "\n",
        "quality = quality1.union(quality2).orderBy(\"matchId\").drop(\"matchId\")\n",
        "\n",
        "qualityPD = quality.toPandas()\n",
        "qualityPD"
      ],
      "execution_count": null,
      "outputs": [
        {
          "output_type": "execute_result",
          "data": {
            "text/html": [
              "<div>\n",
              "<style scoped>\n",
              "    .dataframe tbody tr th:only-of-type {\n",
              "        vertical-align: middle;\n",
              "    }\n",
              "\n",
              "    .dataframe tbody tr th {\n",
              "        vertical-align: top;\n",
              "    }\n",
              "\n",
              "    .dataframe thead th {\n",
              "        text-align: right;\n",
              "    }\n",
              "</style>\n",
              "<table border=\"1\" class=\"dataframe\">\n",
              "  <thead>\n",
              "    <tr style=\"text-align: right;\">\n",
              "      <th></th>\n",
              "      <th>competitionId</th>\n",
              "      <th>dateutc</th>\n",
              "      <th>gameweek</th>\n",
              "      <th>Acceleration-accurate</th>\n",
              "      <th>Acceleration-not_accurate</th>\n",
              "      <th>Air duel-accurate</th>\n",
              "      <th>Air duel-not_accurate</th>\n",
              "      <th>Clearance-accurate</th>\n",
              "      <th>Clearance-not_accurate</th>\n",
              "      <th>Corner-accurate</th>\n",
              "      <th>Corner-not_accurate</th>\n",
              "      <th>Cross-accurate</th>\n",
              "      <th>Cross-assist</th>\n",
              "      <th>Cross-keyPass</th>\n",
              "      <th>Cross-not_accurate</th>\n",
              "      <th>Foul</th>\n",
              "      <th>Free Kick-accurate</th>\n",
              "      <th>Free Kick-not_accurate</th>\n",
              "      <th>Free kick cross-accurate</th>\n",
              "      <th>Free kick cross-not_accurate</th>\n",
              "      <th>Free kick shot-accurate</th>\n",
              "      <th>Free kick shot-not_accurate</th>\n",
              "      <th>Goal scored</th>\n",
              "      <th>Ground attacking duel-accurate</th>\n",
              "      <th>Ground attacking duel-not_accurate</th>\n",
              "      <th>Ground defending duel-accurate</th>\n",
              "      <th>Ground defending duel-not_accurate</th>\n",
              "      <th>Ground loose ball duel-accurate</th>\n",
              "      <th>Ground loose ball duel-not_accurate</th>\n",
              "      <th>Hand pass-accurate</th>\n",
              "      <th>Hand pass-keyPass</th>\n",
              "      <th>Hand pass-not_accurate</th>\n",
              "      <th>Head pass-accurate</th>\n",
              "      <th>Head pass-assist</th>\n",
              "      <th>Head pass-keyPass</th>\n",
              "      <th>Head pass-not_accurate</th>\n",
              "      <th>High pass-accurate</th>\n",
              "      <th>High pass-assist</th>\n",
              "      <th>High pass-keyPass</th>\n",
              "      <th>High pass-not_accurate</th>\n",
              "      <th>Launch-accurate</th>\n",
              "      <th>Launch-keyPass</th>\n",
              "      <th>Launch-not_accurate</th>\n",
              "      <th>Penalty-not_accurate</th>\n",
              "      <th>Shot-accurate</th>\n",
              "      <th>Shot-not_accurate</th>\n",
              "      <th>Simple pass-accurate</th>\n",
              "      <th>Simple pass-assist</th>\n",
              "      <th>Simple pass-keyPass</th>\n",
              "      <th>Simple pass-not_accurate</th>\n",
              "      <th>Smart pass-accurate</th>\n",
              "      <th>Smart pass-assist</th>\n",
              "      <th>Smart pass-keyPass</th>\n",
              "      <th>Smart pass-not_accurate</th>\n",
              "      <th>Throw in-accurate</th>\n",
              "      <th>Throw in-not_accurate</th>\n",
              "      <th>Touch-assist</th>\n",
              "      <th>Touch-counter_attack</th>\n",
              "      <th>Touch-dangerous_ball_lost</th>\n",
              "      <th>Touch-feint</th>\n",
              "      <th>Touch-interception</th>\n",
              "      <th>Touch-missed_ball</th>\n",
              "      <th>Touch-opportunity</th>\n",
              "    </tr>\n",
              "  </thead>\n",
              "  <tbody>\n",
              "    <tr>\n",
              "      <th>0</th>\n",
              "      <td>364</td>\n",
              "      <td>2017-08-11 18:45:00</td>\n",
              "      <td>1</td>\n",
              "      <td>6</td>\n",
              "      <td>0</td>\n",
              "      <td>-6</td>\n",
              "      <td>6</td>\n",
              "      <td>-1</td>\n",
              "      <td>-1</td>\n",
              "      <td>3</td>\n",
              "      <td>2</td>\n",
              "      <td>0</td>\n",
              "      <td>0</td>\n",
              "      <td>1</td>\n",
              "      <td>2</td>\n",
              "      <td>-1</td>\n",
              "      <td>3</td>\n",
              "      <td>-2</td>\n",
              "      <td>-2</td>\n",
              "      <td>0</td>\n",
              "      <td>0</td>\n",
              "      <td>0</td>\n",
              "      <td>1</td>\n",
              "      <td>23</td>\n",
              "      <td>-6</td>\n",
              "      <td>6</td>\n",
              "      <td>-23</td>\n",
              "      <td>9</td>\n",
              "      <td>-9</td>\n",
              "      <td>1</td>\n",
              "      <td>0</td>\n",
              "      <td>0</td>\n",
              "      <td>1</td>\n",
              "      <td>-1</td>\n",
              "      <td>0</td>\n",
              "      <td>-1</td>\n",
              "      <td>6</td>\n",
              "      <td>0</td>\n",
              "      <td>0</td>\n",
              "      <td>2</td>\n",
              "      <td>-5</td>\n",
              "      <td>0</td>\n",
              "      <td>-3</td>\n",
              "      <td>0</td>\n",
              "      <td>6</td>\n",
              "      <td>14</td>\n",
              "      <td>344</td>\n",
              "      <td>2</td>\n",
              "      <td>1</td>\n",
              "      <td>34</td>\n",
              "      <td>0</td>\n",
              "      <td>0</td>\n",
              "      <td>1</td>\n",
              "      <td>-5</td>\n",
              "      <td>-9</td>\n",
              "      <td>-1</td>\n",
              "      <td>0</td>\n",
              "      <td>-2</td>\n",
              "      <td>0</td>\n",
              "      <td>0</td>\n",
              "      <td>-11</td>\n",
              "      <td>-2</td>\n",
              "      <td>0</td>\n",
              "    </tr>\n",
              "    <tr>\n",
              "      <th>1</th>\n",
              "      <td>364</td>\n",
              "      <td>2017-08-11 18:45:00</td>\n",
              "      <td>1</td>\n",
              "      <td>-6</td>\n",
              "      <td>0</td>\n",
              "      <td>6</td>\n",
              "      <td>-6</td>\n",
              "      <td>1</td>\n",
              "      <td>1</td>\n",
              "      <td>-3</td>\n",
              "      <td>-2</td>\n",
              "      <td>0</td>\n",
              "      <td>0</td>\n",
              "      <td>-1</td>\n",
              "      <td>-2</td>\n",
              "      <td>1</td>\n",
              "      <td>-3</td>\n",
              "      <td>2</td>\n",
              "      <td>2</td>\n",
              "      <td>0</td>\n",
              "      <td>0</td>\n",
              "      <td>0</td>\n",
              "      <td>-1</td>\n",
              "      <td>-23</td>\n",
              "      <td>6</td>\n",
              "      <td>-6</td>\n",
              "      <td>23</td>\n",
              "      <td>-9</td>\n",
              "      <td>9</td>\n",
              "      <td>-1</td>\n",
              "      <td>0</td>\n",
              "      <td>0</td>\n",
              "      <td>-1</td>\n",
              "      <td>1</td>\n",
              "      <td>0</td>\n",
              "      <td>1</td>\n",
              "      <td>-6</td>\n",
              "      <td>0</td>\n",
              "      <td>0</td>\n",
              "      <td>-2</td>\n",
              "      <td>5</td>\n",
              "      <td>0</td>\n",
              "      <td>3</td>\n",
              "      <td>0</td>\n",
              "      <td>-6</td>\n",
              "      <td>-14</td>\n",
              "      <td>-344</td>\n",
              "      <td>-2</td>\n",
              "      <td>-1</td>\n",
              "      <td>-34</td>\n",
              "      <td>0</td>\n",
              "      <td>0</td>\n",
              "      <td>-1</td>\n",
              "      <td>5</td>\n",
              "      <td>9</td>\n",
              "      <td>1</td>\n",
              "      <td>0</td>\n",
              "      <td>2</td>\n",
              "      <td>0</td>\n",
              "      <td>0</td>\n",
              "      <td>11</td>\n",
              "      <td>2</td>\n",
              "      <td>0</td>\n",
              "    </tr>\n",
              "    <tr>\n",
              "      <th>2</th>\n",
              "      <td>364</td>\n",
              "      <td>2017-08-12 16:30:00</td>\n",
              "      <td>1</td>\n",
              "      <td>-9</td>\n",
              "      <td>1</td>\n",
              "      <td>-10</td>\n",
              "      <td>10</td>\n",
              "      <td>8</td>\n",
              "      <td>13</td>\n",
              "      <td>-7</td>\n",
              "      <td>0</td>\n",
              "      <td>-6</td>\n",
              "      <td>0</td>\n",
              "      <td>0</td>\n",
              "      <td>-13</td>\n",
              "      <td>-2</td>\n",
              "      <td>-3</td>\n",
              "      <td>1</td>\n",
              "      <td>1</td>\n",
              "      <td>1</td>\n",
              "      <td>-1</td>\n",
              "      <td>-1</td>\n",
              "      <td>-1</td>\n",
              "      <td>-9</td>\n",
              "      <td>-8</td>\n",
              "      <td>8</td>\n",
              "      <td>9</td>\n",
              "      <td>-2</td>\n",
              "      <td>2</td>\n",
              "      <td>-4</td>\n",
              "      <td>0</td>\n",
              "      <td>0</td>\n",
              "      <td>-5</td>\n",
              "      <td>0</td>\n",
              "      <td>0</td>\n",
              "      <td>-1</td>\n",
              "      <td>-10</td>\n",
              "      <td>0</td>\n",
              "      <td>-1</td>\n",
              "      <td>6</td>\n",
              "      <td>4</td>\n",
              "      <td>0</td>\n",
              "      <td>6</td>\n",
              "      <td>0</td>\n",
              "      <td>-1</td>\n",
              "      <td>-5</td>\n",
              "      <td>-529</td>\n",
              "      <td>0</td>\n",
              "      <td>0</td>\n",
              "      <td>-3</td>\n",
              "      <td>-8</td>\n",
              "      <td>-1</td>\n",
              "      <td>-1</td>\n",
              "      <td>-7</td>\n",
              "      <td>-1</td>\n",
              "      <td>2</td>\n",
              "      <td>0</td>\n",
              "      <td>-1</td>\n",
              "      <td>1</td>\n",
              "      <td>-1</td>\n",
              "      <td>11</td>\n",
              "      <td>-5</td>\n",
              "      <td>-5</td>\n",
              "    </tr>\n",
              "    <tr>\n",
              "      <th>3</th>\n",
              "      <td>364</td>\n",
              "      <td>2017-08-12 16:30:00</td>\n",
              "      <td>1</td>\n",
              "      <td>9</td>\n",
              "      <td>-1</td>\n",
              "      <td>10</td>\n",
              "      <td>-10</td>\n",
              "      <td>-8</td>\n",
              "      <td>-13</td>\n",
              "      <td>7</td>\n",
              "      <td>0</td>\n",
              "      <td>6</td>\n",
              "      <td>0</td>\n",
              "      <td>0</td>\n",
              "      <td>13</td>\n",
              "      <td>2</td>\n",
              "      <td>3</td>\n",
              "      <td>-1</td>\n",
              "      <td>-1</td>\n",
              "      <td>-1</td>\n",
              "      <td>1</td>\n",
              "      <td>1</td>\n",
              "      <td>1</td>\n",
              "      <td>9</td>\n",
              "      <td>8</td>\n",
              "      <td>-8</td>\n",
              "      <td>-9</td>\n",
              "      <td>2</td>\n",
              "      <td>-2</td>\n",
              "      <td>4</td>\n",
              "      <td>0</td>\n",
              "      <td>0</td>\n",
              "      <td>5</td>\n",
              "      <td>0</td>\n",
              "      <td>0</td>\n",
              "      <td>1</td>\n",
              "      <td>10</td>\n",
              "      <td>0</td>\n",
              "      <td>1</td>\n",
              "      <td>-6</td>\n",
              "      <td>-4</td>\n",
              "      <td>0</td>\n",
              "      <td>-6</td>\n",
              "      <td>0</td>\n",
              "      <td>1</td>\n",
              "      <td>5</td>\n",
              "      <td>529</td>\n",
              "      <td>0</td>\n",
              "      <td>0</td>\n",
              "      <td>3</td>\n",
              "      <td>8</td>\n",
              "      <td>1</td>\n",
              "      <td>1</td>\n",
              "      <td>7</td>\n",
              "      <td>1</td>\n",
              "      <td>-2</td>\n",
              "      <td>0</td>\n",
              "      <td>1</td>\n",
              "      <td>-1</td>\n",
              "      <td>1</td>\n",
              "      <td>-11</td>\n",
              "      <td>5</td>\n",
              "      <td>5</td>\n",
              "    </tr>\n",
              "    <tr>\n",
              "      <th>4</th>\n",
              "      <td>364</td>\n",
              "      <td>2017-08-12 14:00:00</td>\n",
              "      <td>1</td>\n",
              "      <td>0</td>\n",
              "      <td>1</td>\n",
              "      <td>-7</td>\n",
              "      <td>7</td>\n",
              "      <td>-3</td>\n",
              "      <td>-12</td>\n",
              "      <td>4</td>\n",
              "      <td>-1</td>\n",
              "      <td>6</td>\n",
              "      <td>-1</td>\n",
              "      <td>0</td>\n",
              "      <td>11</td>\n",
              "      <td>3</td>\n",
              "      <td>-4</td>\n",
              "      <td>-2</td>\n",
              "      <td>0</td>\n",
              "      <td>0</td>\n",
              "      <td>1</td>\n",
              "      <td>-1</td>\n",
              "      <td>-1</td>\n",
              "      <td>22</td>\n",
              "      <td>-1</td>\n",
              "      <td>-8</td>\n",
              "      <td>-13</td>\n",
              "      <td>-5</td>\n",
              "      <td>5</td>\n",
              "      <td>2</td>\n",
              "      <td>0</td>\n",
              "      <td>0</td>\n",
              "      <td>-3</td>\n",
              "      <td>1</td>\n",
              "      <td>0</td>\n",
              "      <td>1</td>\n",
              "      <td>14</td>\n",
              "      <td>0</td>\n",
              "      <td>1</td>\n",
              "      <td>6</td>\n",
              "      <td>1</td>\n",
              "      <td>0</td>\n",
              "      <td>-2</td>\n",
              "      <td>0</td>\n",
              "      <td>0</td>\n",
              "      <td>6</td>\n",
              "      <td>186</td>\n",
              "      <td>0</td>\n",
              "      <td>0</td>\n",
              "      <td>-4</td>\n",
              "      <td>3</td>\n",
              "      <td>-1</td>\n",
              "      <td>0</td>\n",
              "      <td>-1</td>\n",
              "      <td>6</td>\n",
              "      <td>0</td>\n",
              "      <td>0</td>\n",
              "      <td>0</td>\n",
              "      <td>0</td>\n",
              "      <td>0</td>\n",
              "      <td>-9</td>\n",
              "      <td>-3</td>\n",
              "      <td>1</td>\n",
              "    </tr>\n",
              "    <tr>\n",
              "      <th>...</th>\n",
              "      <td>...</td>\n",
              "      <td>...</td>\n",
              "      <td>...</td>\n",
              "      <td>...</td>\n",
              "      <td>...</td>\n",
              "      <td>...</td>\n",
              "      <td>...</td>\n",
              "      <td>...</td>\n",
              "      <td>...</td>\n",
              "      <td>...</td>\n",
              "      <td>...</td>\n",
              "      <td>...</td>\n",
              "      <td>...</td>\n",
              "      <td>...</td>\n",
              "      <td>...</td>\n",
              "      <td>...</td>\n",
              "      <td>...</td>\n",
              "      <td>...</td>\n",
              "      <td>...</td>\n",
              "      <td>...</td>\n",
              "      <td>...</td>\n",
              "      <td>...</td>\n",
              "      <td>...</td>\n",
              "      <td>...</td>\n",
              "      <td>...</td>\n",
              "      <td>...</td>\n",
              "      <td>...</td>\n",
              "      <td>...</td>\n",
              "      <td>...</td>\n",
              "      <td>...</td>\n",
              "      <td>...</td>\n",
              "      <td>...</td>\n",
              "      <td>...</td>\n",
              "      <td>...</td>\n",
              "      <td>...</td>\n",
              "      <td>...</td>\n",
              "      <td>...</td>\n",
              "      <td>...</td>\n",
              "      <td>...</td>\n",
              "      <td>...</td>\n",
              "      <td>...</td>\n",
              "      <td>...</td>\n",
              "      <td>...</td>\n",
              "      <td>...</td>\n",
              "      <td>...</td>\n",
              "      <td>...</td>\n",
              "      <td>...</td>\n",
              "      <td>...</td>\n",
              "      <td>...</td>\n",
              "      <td>...</td>\n",
              "      <td>...</td>\n",
              "      <td>...</td>\n",
              "      <td>...</td>\n",
              "      <td>...</td>\n",
              "      <td>...</td>\n",
              "      <td>...</td>\n",
              "      <td>...</td>\n",
              "      <td>...</td>\n",
              "      <td>...</td>\n",
              "      <td>...</td>\n",
              "      <td>...</td>\n",
              "      <td>...</td>\n",
              "      <td>...</td>\n",
              "    </tr>\n",
              "    <tr>\n",
              "      <th>3647</th>\n",
              "      <td>524</td>\n",
              "      <td>2018-05-20 18:45:00</td>\n",
              "      <td>38</td>\n",
              "      <td>-4</td>\n",
              "      <td>0</td>\n",
              "      <td>4</td>\n",
              "      <td>-4</td>\n",
              "      <td>-5</td>\n",
              "      <td>2</td>\n",
              "      <td>2</td>\n",
              "      <td>2</td>\n",
              "      <td>0</td>\n",
              "      <td>0</td>\n",
              "      <td>1</td>\n",
              "      <td>8</td>\n",
              "      <td>0</td>\n",
              "      <td>1</td>\n",
              "      <td>0</td>\n",
              "      <td>1</td>\n",
              "      <td>2</td>\n",
              "      <td>0</td>\n",
              "      <td>0</td>\n",
              "      <td>0</td>\n",
              "      <td>21</td>\n",
              "      <td>2</td>\n",
              "      <td>-8</td>\n",
              "      <td>-15</td>\n",
              "      <td>5</td>\n",
              "      <td>-5</td>\n",
              "      <td>1</td>\n",
              "      <td>0</td>\n",
              "      <td>-1</td>\n",
              "      <td>3</td>\n",
              "      <td>0</td>\n",
              "      <td>0</td>\n",
              "      <td>0</td>\n",
              "      <td>-1</td>\n",
              "      <td>0</td>\n",
              "      <td>0</td>\n",
              "      <td>-4</td>\n",
              "      <td>0</td>\n",
              "      <td>0</td>\n",
              "      <td>2</td>\n",
              "      <td>0</td>\n",
              "      <td>3</td>\n",
              "      <td>-2</td>\n",
              "      <td>157</td>\n",
              "      <td>0</td>\n",
              "      <td>0</td>\n",
              "      <td>-5</td>\n",
              "      <td>1</td>\n",
              "      <td>0</td>\n",
              "      <td>-1</td>\n",
              "      <td>2</td>\n",
              "      <td>-6</td>\n",
              "      <td>-4</td>\n",
              "      <td>0</td>\n",
              "      <td>-1</td>\n",
              "      <td>0</td>\n",
              "      <td>1</td>\n",
              "      <td>-1</td>\n",
              "      <td>1</td>\n",
              "      <td>0</td>\n",
              "    </tr>\n",
              "    <tr>\n",
              "      <th>3648</th>\n",
              "      <td>524</td>\n",
              "      <td>2018-05-20 16:00:00</td>\n",
              "      <td>38</td>\n",
              "      <td>4</td>\n",
              "      <td>0</td>\n",
              "      <td>4</td>\n",
              "      <td>-4</td>\n",
              "      <td>4</td>\n",
              "      <td>7</td>\n",
              "      <td>3</td>\n",
              "      <td>-1</td>\n",
              "      <td>2</td>\n",
              "      <td>1</td>\n",
              "      <td>0</td>\n",
              "      <td>-8</td>\n",
              "      <td>-3</td>\n",
              "      <td>-4</td>\n",
              "      <td>1</td>\n",
              "      <td>-1</td>\n",
              "      <td>-1</td>\n",
              "      <td>0</td>\n",
              "      <td>0</td>\n",
              "      <td>2</td>\n",
              "      <td>-23</td>\n",
              "      <td>-2</td>\n",
              "      <td>7</td>\n",
              "      <td>18</td>\n",
              "      <td>-1</td>\n",
              "      <td>1</td>\n",
              "      <td>0</td>\n",
              "      <td>0</td>\n",
              "      <td>0</td>\n",
              "      <td>-6</td>\n",
              "      <td>-1</td>\n",
              "      <td>0</td>\n",
              "      <td>-1</td>\n",
              "      <td>-5</td>\n",
              "      <td>1</td>\n",
              "      <td>1</td>\n",
              "      <td>3</td>\n",
              "      <td>6</td>\n",
              "      <td>0</td>\n",
              "      <td>7</td>\n",
              "      <td>0</td>\n",
              "      <td>2</td>\n",
              "      <td>3</td>\n",
              "      <td>-66</td>\n",
              "      <td>0</td>\n",
              "      <td>0</td>\n",
              "      <td>-9</td>\n",
              "      <td>-2</td>\n",
              "      <td>0</td>\n",
              "      <td>0</td>\n",
              "      <td>-4</td>\n",
              "      <td>-1</td>\n",
              "      <td>-1</td>\n",
              "      <td>0</td>\n",
              "      <td>0</td>\n",
              "      <td>0</td>\n",
              "      <td>0</td>\n",
              "      <td>6</td>\n",
              "      <td>-1</td>\n",
              "      <td>0</td>\n",
              "    </tr>\n",
              "    <tr>\n",
              "      <th>3649</th>\n",
              "      <td>524</td>\n",
              "      <td>2018-05-20 16:00:00</td>\n",
              "      <td>38</td>\n",
              "      <td>-4</td>\n",
              "      <td>0</td>\n",
              "      <td>-4</td>\n",
              "      <td>4</td>\n",
              "      <td>-4</td>\n",
              "      <td>-7</td>\n",
              "      <td>-3</td>\n",
              "      <td>1</td>\n",
              "      <td>-2</td>\n",
              "      <td>-1</td>\n",
              "      <td>0</td>\n",
              "      <td>8</td>\n",
              "      <td>3</td>\n",
              "      <td>4</td>\n",
              "      <td>-1</td>\n",
              "      <td>1</td>\n",
              "      <td>1</td>\n",
              "      <td>0</td>\n",
              "      <td>0</td>\n",
              "      <td>-2</td>\n",
              "      <td>23</td>\n",
              "      <td>2</td>\n",
              "      <td>-7</td>\n",
              "      <td>-18</td>\n",
              "      <td>1</td>\n",
              "      <td>-1</td>\n",
              "      <td>0</td>\n",
              "      <td>0</td>\n",
              "      <td>0</td>\n",
              "      <td>6</td>\n",
              "      <td>1</td>\n",
              "      <td>0</td>\n",
              "      <td>1</td>\n",
              "      <td>5</td>\n",
              "      <td>-1</td>\n",
              "      <td>-1</td>\n",
              "      <td>-3</td>\n",
              "      <td>-6</td>\n",
              "      <td>0</td>\n",
              "      <td>-7</td>\n",
              "      <td>0</td>\n",
              "      <td>-2</td>\n",
              "      <td>-3</td>\n",
              "      <td>66</td>\n",
              "      <td>0</td>\n",
              "      <td>0</td>\n",
              "      <td>9</td>\n",
              "      <td>2</td>\n",
              "      <td>0</td>\n",
              "      <td>0</td>\n",
              "      <td>4</td>\n",
              "      <td>1</td>\n",
              "      <td>1</td>\n",
              "      <td>0</td>\n",
              "      <td>0</td>\n",
              "      <td>0</td>\n",
              "      <td>0</td>\n",
              "      <td>-6</td>\n",
              "      <td>1</td>\n",
              "      <td>0</td>\n",
              "    </tr>\n",
              "    <tr>\n",
              "      <th>3650</th>\n",
              "      <td>524</td>\n",
              "      <td>2018-05-20 13:00:00</td>\n",
              "      <td>38</td>\n",
              "      <td>-5</td>\n",
              "      <td>0</td>\n",
              "      <td>-10</td>\n",
              "      <td>10</td>\n",
              "      <td>-4</td>\n",
              "      <td>-7</td>\n",
              "      <td>1</td>\n",
              "      <td>3</td>\n",
              "      <td>2</td>\n",
              "      <td>-2</td>\n",
              "      <td>1</td>\n",
              "      <td>5</td>\n",
              "      <td>-2</td>\n",
              "      <td>-3</td>\n",
              "      <td>0</td>\n",
              "      <td>1</td>\n",
              "      <td>1</td>\n",
              "      <td>0</td>\n",
              "      <td>2</td>\n",
              "      <td>-1</td>\n",
              "      <td>21</td>\n",
              "      <td>-2</td>\n",
              "      <td>1</td>\n",
              "      <td>-20</td>\n",
              "      <td>2</td>\n",
              "      <td>-2</td>\n",
              "      <td>0</td>\n",
              "      <td>0</td>\n",
              "      <td>0</td>\n",
              "      <td>7</td>\n",
              "      <td>0</td>\n",
              "      <td>0</td>\n",
              "      <td>1</td>\n",
              "      <td>2</td>\n",
              "      <td>0</td>\n",
              "      <td>0</td>\n",
              "      <td>-1</td>\n",
              "      <td>2</td>\n",
              "      <td>0</td>\n",
              "      <td>-2</td>\n",
              "      <td>0</td>\n",
              "      <td>0</td>\n",
              "      <td>7</td>\n",
              "      <td>159</td>\n",
              "      <td>0</td>\n",
              "      <td>0</td>\n",
              "      <td>13</td>\n",
              "      <td>2</td>\n",
              "      <td>0</td>\n",
              "      <td>2</td>\n",
              "      <td>4</td>\n",
              "      <td>17</td>\n",
              "      <td>1</td>\n",
              "      <td>0</td>\n",
              "      <td>1</td>\n",
              "      <td>0</td>\n",
              "      <td>1</td>\n",
              "      <td>-6</td>\n",
              "      <td>-12</td>\n",
              "      <td>1</td>\n",
              "    </tr>\n",
              "    <tr>\n",
              "      <th>3651</th>\n",
              "      <td>524</td>\n",
              "      <td>2018-05-20 13:00:00</td>\n",
              "      <td>38</td>\n",
              "      <td>5</td>\n",
              "      <td>0</td>\n",
              "      <td>10</td>\n",
              "      <td>-10</td>\n",
              "      <td>4</td>\n",
              "      <td>7</td>\n",
              "      <td>-1</td>\n",
              "      <td>-3</td>\n",
              "      <td>-2</td>\n",
              "      <td>2</td>\n",
              "      <td>-1</td>\n",
              "      <td>-5</td>\n",
              "      <td>2</td>\n",
              "      <td>3</td>\n",
              "      <td>0</td>\n",
              "      <td>-1</td>\n",
              "      <td>-1</td>\n",
              "      <td>0</td>\n",
              "      <td>-2</td>\n",
              "      <td>1</td>\n",
              "      <td>-21</td>\n",
              "      <td>2</td>\n",
              "      <td>-1</td>\n",
              "      <td>20</td>\n",
              "      <td>-2</td>\n",
              "      <td>2</td>\n",
              "      <td>0</td>\n",
              "      <td>0</td>\n",
              "      <td>0</td>\n",
              "      <td>-7</td>\n",
              "      <td>0</td>\n",
              "      <td>0</td>\n",
              "      <td>-1</td>\n",
              "      <td>-2</td>\n",
              "      <td>0</td>\n",
              "      <td>0</td>\n",
              "      <td>1</td>\n",
              "      <td>-2</td>\n",
              "      <td>0</td>\n",
              "      <td>2</td>\n",
              "      <td>0</td>\n",
              "      <td>0</td>\n",
              "      <td>-7</td>\n",
              "      <td>-159</td>\n",
              "      <td>0</td>\n",
              "      <td>0</td>\n",
              "      <td>-13</td>\n",
              "      <td>-2</td>\n",
              "      <td>0</td>\n",
              "      <td>-2</td>\n",
              "      <td>-4</td>\n",
              "      <td>-17</td>\n",
              "      <td>-1</td>\n",
              "      <td>0</td>\n",
              "      <td>-1</td>\n",
              "      <td>0</td>\n",
              "      <td>-1</td>\n",
              "      <td>6</td>\n",
              "      <td>12</td>\n",
              "      <td>-1</td>\n",
              "    </tr>\n",
              "  </tbody>\n",
              "</table>\n",
              "<p>3652 rows × 63 columns</p>\n",
              "</div>"
            ],
            "text/plain": [
              "      competitionId              dateutc  ...  Touch-missed_ball  Touch-opportunity\n",
              "0               364  2017-08-11 18:45:00  ...                 -2                  0\n",
              "1               364  2017-08-11 18:45:00  ...                  2                  0\n",
              "2               364  2017-08-12 16:30:00  ...                 -5                 -5\n",
              "3               364  2017-08-12 16:30:00  ...                  5                  5\n",
              "4               364  2017-08-12 14:00:00  ...                 -3                  1\n",
              "...             ...                  ...  ...                ...                ...\n",
              "3647            524  2018-05-20 18:45:00  ...                  1                  0\n",
              "3648            524  2018-05-20 16:00:00  ...                 -1                  0\n",
              "3649            524  2018-05-20 16:00:00  ...                  1                  0\n",
              "3650            524  2018-05-20 13:00:00  ...                -12                  1\n",
              "3651            524  2018-05-20 13:00:00  ...                 12                 -1\n",
              "\n",
              "[3652 rows x 63 columns]"
            ]
          },
          "metadata": {
            "tags": []
          },
          "execution_count": 50
        }
      ]
    },
    {
      "cell_type": "markdown",
      "metadata": {
        "id": "dhB3nLzwHCA9"
      },
      "source": [
        "## Biblioteki ML##"
      ]
    },
    {
      "cell_type": "code",
      "metadata": {
        "id": "9-J2aM--HBKB"
      },
      "source": [
        "from sklearn import metrics\n",
        "from sklearn.model_selection import cross_val_score\n",
        "from sklearn.model_selection import train_test_split\n",
        "from sklearn.preprocessing import StandardScaler\n",
        "\n",
        "from sklearn.linear_model import LogisticRegression\n",
        "from sklearn.neighbors import KNeighborsClassifier\n",
        "from sklearn.naive_bayes import GaussianNB\n",
        "from sklearn.ensemble import RandomForestClassifier, GradientBoostingClassifier\n",
        "from sklearn.neural_network import MLPClassifier\n",
        "from sklearn.svm import SVC, LinearSVC"
      ],
      "execution_count": null,
      "outputs": []
    },
    {
      "cell_type": "markdown",
      "metadata": {
        "id": "s2OoKnvyxPkh"
      },
      "source": [
        "## Budowa modelu ##"
      ]
    },
    {
      "cell_type": "markdown",
      "metadata": {
        "id": "Hy3259VfqcGz"
      },
      "source": [
        "\n"
      ]
    },
    {
      "cell_type": "code",
      "metadata": {
        "colab": {
          "base_uri": "https://localhost:8080/"
        },
        "id": "ionNIjKbmFrg",
        "outputId": "99a700cd-f240-4eb7-b7c1-a2daa561355e"
      },
      "source": [
        "# preparation of the list of features. To remove unnecessary column, target and features that result from it, i.e. assists\n",
        "to_drop = [col for col in qualityPD.columns if col.endswith('assist')]\n",
        "to_drop.extend([\"gameweek\",\"dateutc\",\"competitionId\"])\n",
        "to_drop"
      ],
      "execution_count": null,
      "outputs": [
        {
          "output_type": "execute_result",
          "data": {
            "text/plain": [
              "['Cross-assist',\n",
              " 'Head pass-assist',\n",
              " 'High pass-assist',\n",
              " 'Simple pass-assist',\n",
              " 'Smart pass-assist',\n",
              " 'Touch-assist',\n",
              " 'gameweek',\n",
              " 'dateutc',\n",
              " 'competitionId']"
            ]
          },
          "metadata": {
            "tags": []
          },
          "execution_count": 52
        }
      ]
    },
    {
      "cell_type": "code",
      "metadata": {
        "colab": {
          "base_uri": "https://localhost:8080/",
          "height": 933
        },
        "id": "G6tB4SHBQ7iK",
        "outputId": "49a15bcd-2db1-44f3-8311-9e1bd8537603"
      },
      "source": [
        "fig, ax = plt.subplots(figsize=(20,13))\n",
        "corr = qualityPD.drop(to_drop, axis=1).corr()\n",
        "ax = sns.heatmap(corr)\n",
        "fig.show()"
      ],
      "execution_count": null,
      "outputs": [
        {
          "output_type": "display_data",
          "data": {
            "image/png": "[encoded data removed]",
            "text/plain": [
              "<Figure size 1440x936 with 2 Axes>"
            ]
          },
          "metadata": {
            "tags": [],
            "needs_background": "light"
          }
        }
      ]
    },
    {
      "cell_type": "markdown",
      "metadata": {
        "id": "pg7aZffAgoXj"
      },
      "source": [
        "## 1 Wyliczenie wag poszczególnych zagrań w meczu##"
      ]
    },
    {
      "cell_type": "markdown",
      "metadata": {
        "id": "9qGmB1ytDanP"
      },
      "source": [
        "### Przygotowanie danych testowych i treningowych ###\n",
        "Zbiór treningowy będzie zawierał dane do 30 kolejki w danej lidze. Zbiór testowy pozostałe. Ilość kolejek w lidze niemieckiej wynosi 34, w pozostałych ligach jest ich 38. Zatem stosunek zbióru testowego będzie wynosił ok. 0.2 \n",
        "\n",
        "\n"
      ]
    },
    {
      "cell_type": "code",
      "metadata": {
        "id": "dXDTFMvjFIYQ"
      },
      "source": [
        "to_drop.insert(0, \"Goal scored\")\n",
        "feature_names =  qualityPD.drop(to_drop, axis=1).columns\n",
        "\n",
        "X_train = qualityPD[qualityPD.gameweek<31].drop(to_drop, axis=1).values\n",
        "X_test = qualityPD[qualityPD.gameweek>30].drop(to_drop, axis=1).values\n",
        "\n",
        "y_train = qualityPD.loc[qualityPD.gameweek<31,\"Goal scored\"].apply(lambda x: 1 if x > 0 else 0)\n",
        "y_test = qualityPD.loc[qualityPD.gameweek>30,\"Goal scored\"].apply(lambda x: 1 if x > 0 else 0)\n",
        "\n",
        "# X_train = StandardScaler().fit_transform(X_train)\n",
        "# X_test = StandardScaler().fit_transform(X_test)"
      ],
      "execution_count": null,
      "outputs": []
    },
    {
      "cell_type": "markdown",
      "metadata": {
        "id": "qAgRWhtGgbNc"
      },
      "source": [
        "### Modelowanie ###"
      ]
    },
    {
      "cell_type": "code",
      "metadata": {
        "colab": {
          "base_uri": "https://localhost:8080/",
          "height": 542
        },
        "id": "itJCyCADGA2l",
        "outputId": "8cea1e21-594a-4ddc-8f51-1f790894a75d"
      },
      "source": [
        "clfs = [LogisticRegression(), LinearSVC()]\n",
        "\n",
        "# run_model_diagnostics(X, y, clfs)\n",
        "oneMetricMap = run_model_diagnostics(X_train, X_test, y_train, y_test, clfs)\n",
        "\n",
        "df = pd.DataFrame(oneMetricMap).T\n",
        "df.reset_index(inplace=True)\n",
        "df.columns = [\"model\",\"score\"]\n",
        "df.score = np.round(df.score,3)\n",
        "px.bar(data_frame=df, x=\"model\", y=\"score\", text=\"score\")"
      ],
      "execution_count": null,
      "outputs": [
        {
          "output_type": "display_data",
          "data": {
            "text/html": [
              "<html>\n",
              "<head><meta charset=\"utf-8\" /></head>\n",
              "<body>\n",
              "    <div>\n",
              "            <script src=\"https://cdnjs.cloudflare.com/ajax/libs/mathjax/2.7.5/MathJax.js?config=TeX-AMS-MML_SVG\"></script><script type=\"text/javascript\">if (window.MathJax) {MathJax.Hub.Config({SVG: {font: \"STIX-Web\"}});}</script>\n",
              "                <script type=\"text/javascript\">window.PlotlyConfig = {MathJaxConfig: 'local'};</script>\n",
              "        <script src=\"https://cdn.plot.ly/plotly-latest.min.js\"></script>    \n",
              "            <div id=\"81d1bf41-41e0-4340-a76e-d1257120fb1e\" class=\"plotly-graph-div\" style=\"height:525px; width:100%;\"></div>\n",
              "            <script type=\"text/javascript\">\n",
              "                \n",
              "                    window.PLOTLYENV=window.PLOTLYENV || {};\n",
              "                    \n",
              "                if (document.getElementById(\"81d1bf41-41e0-4340-a76e-d1257120fb1e\")) {\n",
              "                    Plotly.newPlot(\n",
              "                        '81d1bf41-41e0-4340-a76e-d1257120fb1e',\n",
              "                        [{\"alignmentgroup\": \"True\", \"hoverlabel\": {\"namelength\": 0}, \"hovertemplate\": \"model=%{x}<br>score=%{text}\", \"legendgroup\": \"\", \"marker\": {\"color\": \"#636efa\"}, \"name\": \"\", \"offsetgroup\": \"\", \"orientation\": \"v\", \"showlegend\": false, \"text\": [0.781, 0.653], \"textposition\": \"auto\", \"type\": \"bar\", \"x\": [\"LogisticRegression\", \"LinearSVC\"], \"xaxis\": \"x\", \"y\": [0.781, 0.653], \"yaxis\": \"y\"}],\n",
              "                        {\"barmode\": \"relative\", \"legend\": {\"tracegroupgap\": 0}, \"margin\": {\"t\": 60}, \"template\": {\"data\": {\"bar\": [{\"error_x\": {\"color\": \"#2a3f5f\"}, \"error_y\": {\"color\": \"#2a3f5f\"}, \"marker\": {\"line\": {\"color\": \"#E5ECF6\", \"width\": 0.5}}, \"type\": \"bar\"}], \"barpolar\": [{\"marker\": {\"line\": {\"color\": \"#E5ECF6\", \"width\": 0.5}}, \"type\": \"barpolar\"}], \"carpet\": [{\"aaxis\": {\"endlinecolor\": \"#2a3f5f\", \"gridcolor\": \"white\", \"linecolor\": \"white\", \"minorgridcolor\": \"white\", \"startlinecolor\": \"#2a3f5f\"}, \"baxis\": {\"endlinecolor\": \"#2a3f5f\", \"gridcolor\": \"white\", \"linecolor\": \"white\", \"minorgridcolor\": \"white\", \"startlinecolor\": \"#2a3f5f\"}, \"type\": \"carpet\"}], \"choropleth\": [{\"colorbar\": {\"outlinewidth\": 0, \"ticks\": \"\"}, \"type\": \"choropleth\"}], \"contour\": [{\"colorbar\": {\"outlinewidth\": 0, \"ticks\": \"\"}, \"colorscale\": [[0.0, \"#0d0887\"], [0.1111111111111111, \"#46039f\"], [0.2222222222222222, \"#7201a8\"], [0.3333333333333333, \"#9c179e\"], [0.4444444444444444, \"#bd3786\"], [0.5555555555555556, \"#d8576b\"], [0.6666666666666666, \"#ed7953\"], [0.7777777777777778, \"#fb9f3a\"], [0.8888888888888888, \"#fdca26\"], [1.0, \"#f0f921\"]], \"type\": \"contour\"}], \"contourcarpet\": [{\"colorbar\": {\"outlinewidth\": 0, \"ticks\": \"\"}, \"type\": \"contourcarpet\"}], \"heatmap\": [{\"colorbar\": {\"outlinewidth\": 0, \"ticks\": \"\"}, \"colorscale\": [[0.0, \"#0d0887\"], [0.1111111111111111, \"#46039f\"], [0.2222222222222222, \"#7201a8\"], [0.3333333333333333, \"#9c179e\"], [0.4444444444444444, \"#bd3786\"], [0.5555555555555556, \"#d8576b\"], [0.6666666666666666, \"#ed7953\"], [0.7777777777777778, \"#fb9f3a\"], [0.8888888888888888, \"#fdca26\"], [1.0, \"#f0f921\"]], \"type\": \"heatmap\"}], \"heatmapgl\": [{\"colorbar\": {\"outlinewidth\": 0, \"ticks\": \"\"}, \"colorscale\": [[0.0, \"#0d0887\"], [0.1111111111111111, \"#46039f\"], [0.2222222222222222, \"#7201a8\"], [0.3333333333333333, \"#9c179e\"], [0.4444444444444444, \"#bd3786\"], [0.5555555555555556, \"#d8576b\"], [0.6666666666666666, \"#ed7953\"], [0.7777777777777778, \"#fb9f3a\"], [0.8888888888888888, \"#fdca26\"], [1.0, \"#f0f921\"]], \"type\": \"heatmapgl\"}], \"histogram\": [{\"marker\": {\"colorbar\": {\"outlinewidth\": 0, \"ticks\": \"\"}}, \"type\": \"histogram\"}], \"histogram2d\": [{\"colorbar\": {\"outlinewidth\": 0, \"ticks\": \"\"}, \"colorscale\": [[0.0, \"#0d0887\"], [0.1111111111111111, \"#46039f\"], [0.2222222222222222, \"#7201a8\"], [0.3333333333333333, \"#9c179e\"], [0.4444444444444444, \"#bd3786\"], [0.5555555555555556, \"#d8576b\"], [0.6666666666666666, \"#ed7953\"], [0.7777777777777778, \"#fb9f3a\"], [0.8888888888888888, \"#fdca26\"], [1.0, \"#f0f921\"]], \"type\": \"histogram2d\"}], \"histogram2dcontour\": [{\"colorbar\": {\"outlinewidth\": 0, \"ticks\": \"\"}, \"colorscale\": [[0.0, \"#0d0887\"], [0.1111111111111111, \"#46039f\"], [0.2222222222222222, \"#7201a8\"], [0.3333333333333333, \"#9c179e\"], [0.4444444444444444, \"#bd3786\"], [0.5555555555555556, \"#d8576b\"], [0.6666666666666666, \"#ed7953\"], [0.7777777777777778, \"#fb9f3a\"], [0.8888888888888888, \"#fdca26\"], [1.0, \"#f0f921\"]], \"type\": \"histogram2dcontour\"}], \"mesh3d\": [{\"colorbar\": {\"outlinewidth\": 0, \"ticks\": \"\"}, \"type\": \"mesh3d\"}], \"parcoords\": [{\"line\": {\"colorbar\": {\"outlinewidth\": 0, \"ticks\": \"\"}}, \"type\": \"parcoords\"}], \"pie\": [{\"automargin\": true, \"type\": \"pie\"}], \"scatter\": [{\"marker\": {\"colorbar\": {\"outlinewidth\": 0, \"ticks\": \"\"}}, \"type\": \"scatter\"}], \"scatter3d\": [{\"line\": {\"colorbar\": {\"outlinewidth\": 0, \"ticks\": \"\"}}, \"marker\": {\"colorbar\": {\"outlinewidth\": 0, \"ticks\": \"\"}}, \"type\": \"scatter3d\"}], \"scattercarpet\": [{\"marker\": {\"colorbar\": {\"outlinewidth\": 0, \"ticks\": \"\"}}, \"type\": \"scattercarpet\"}], \"scattergeo\": [{\"marker\": {\"colorbar\": {\"outlinewidth\": 0, \"ticks\": \"\"}}, \"type\": \"scattergeo\"}], \"scattergl\": [{\"marker\": {\"colorbar\": {\"outlinewidth\": 0, \"ticks\": \"\"}}, \"type\": \"scattergl\"}], \"scattermapbox\": [{\"marker\": {\"colorbar\": {\"outlinewidth\": 0, \"ticks\": \"\"}}, \"type\": \"scattermapbox\"}], \"scatterpolar\": [{\"marker\": {\"colorbar\": {\"outlinewidth\": 0, \"ticks\": \"\"}}, \"type\": \"scatterpolar\"}], \"scatterpolargl\": [{\"marker\": {\"colorbar\": {\"outlinewidth\": 0, \"ticks\": \"\"}}, \"type\": \"scatterpolargl\"}], \"scatterternary\": [{\"marker\": {\"colorbar\": {\"outlinewidth\": 0, \"ticks\": \"\"}}, \"type\": \"scatterternary\"}], \"surface\": [{\"colorbar\": {\"outlinewidth\": 0, \"ticks\": \"\"}, \"colorscale\": [[0.0, \"#0d0887\"], [0.1111111111111111, \"#46039f\"], [0.2222222222222222, \"#7201a8\"], [0.3333333333333333, \"#9c179e\"], [0.4444444444444444, \"#bd3786\"], [0.5555555555555556, \"#d8576b\"], [0.6666666666666666, \"#ed7953\"], [0.7777777777777778, \"#fb9f3a\"], [0.8888888888888888, \"#fdca26\"], [1.0, \"#f0f921\"]], \"type\": \"surface\"}], \"table\": [{\"cells\": {\"fill\": {\"color\": \"#EBF0F8\"}, \"line\": {\"color\": \"white\"}}, \"header\": {\"fill\": {\"color\": \"#C8D4E3\"}, \"line\": {\"color\": \"white\"}}, \"type\": \"table\"}]}, \"layout\": {\"annotationdefaults\": {\"arrowcolor\": \"#2a3f5f\", \"arrowhead\": 0, \"arrowwidth\": 1}, \"coloraxis\": {\"colorbar\": {\"outlinewidth\": 0, \"ticks\": \"\"}}, \"colorscale\": {\"diverging\": [[0, \"#8e0152\"], [0.1, \"#c51b7d\"], [0.2, \"#de77ae\"], [0.3, \"#f1b6da\"], [0.4, \"#fde0ef\"], [0.5, \"#f7f7f7\"], [0.6, \"#e6f5d0\"], [0.7, \"#b8e186\"], [0.8, \"#7fbc41\"], [0.9, \"#4d9221\"], [1, \"#276419\"]], \"sequential\": [[0.0, \"#0d0887\"], [0.1111111111111111, \"#46039f\"], [0.2222222222222222, \"#7201a8\"], [0.3333333333333333, \"#9c179e\"], [0.4444444444444444, \"#bd3786\"], [0.5555555555555556, \"#d8576b\"], [0.6666666666666666, \"#ed7953\"], [0.7777777777777778, \"#fb9f3a\"], [0.8888888888888888, \"#fdca26\"], [1.0, \"#f0f921\"]], \"sequentialminus\": [[0.0, \"#0d0887\"], [0.1111111111111111, \"#46039f\"], [0.2222222222222222, \"#7201a8\"], [0.3333333333333333, \"#9c179e\"], [0.4444444444444444, \"#bd3786\"], [0.5555555555555556, \"#d8576b\"], [0.6666666666666666, \"#ed7953\"], [0.7777777777777778, \"#fb9f3a\"], [0.8888888888888888, \"#fdca26\"], [1.0, \"#f0f921\"]]}, \"colorway\": [\"#636efa\", \"#EF553B\", \"#00cc96\", \"#ab63fa\", \"#FFA15A\", \"#19d3f3\", \"#FF6692\", \"#B6E880\", \"#FF97FF\", \"#FECB52\"], \"font\": {\"color\": \"#2a3f5f\"}, \"geo\": {\"bgcolor\": \"white\", \"lakecolor\": \"white\", \"landcolor\": \"#E5ECF6\", \"showlakes\": true, \"showland\": true, \"subunitcolor\": \"white\"}, \"hoverlabel\": {\"align\": \"left\"}, \"hovermode\": \"closest\", \"mapbox\": {\"style\": \"light\"}, \"paper_bgcolor\": \"white\", \"plot_bgcolor\": \"#E5ECF6\", \"polar\": {\"angularaxis\": {\"gridcolor\": \"white\", \"linecolor\": \"white\", \"ticks\": \"\"}, \"bgcolor\": \"#E5ECF6\", \"radialaxis\": {\"gridcolor\": \"white\", \"linecolor\": \"white\", \"ticks\": \"\"}}, \"scene\": {\"xaxis\": {\"backgroundcolor\": \"#E5ECF6\", \"gridcolor\": \"white\", \"gridwidth\": 2, \"linecolor\": \"white\", \"showbackground\": true, \"ticks\": \"\", \"zerolinecolor\": \"white\"}, \"yaxis\": {\"backgroundcolor\": \"#E5ECF6\", \"gridcolor\": \"white\", \"gridwidth\": 2, \"linecolor\": \"white\", \"showbackground\": true, \"ticks\": \"\", \"zerolinecolor\": \"white\"}, \"zaxis\": {\"backgroundcolor\": \"#E5ECF6\", \"gridcolor\": \"white\", \"gridwidth\": 2, \"linecolor\": \"white\", \"showbackground\": true, \"ticks\": \"\", \"zerolinecolor\": \"white\"}}, \"shapedefaults\": {\"line\": {\"color\": \"#2a3f5f\"}}, \"ternary\": {\"aaxis\": {\"gridcolor\": \"white\", \"linecolor\": \"white\", \"ticks\": \"\"}, \"baxis\": {\"gridcolor\": \"white\", \"linecolor\": \"white\", \"ticks\": \"\"}, \"bgcolor\": \"#E5ECF6\", \"caxis\": {\"gridcolor\": \"white\", \"linecolor\": \"white\", \"ticks\": \"\"}}, \"title\": {\"x\": 0.05}, \"xaxis\": {\"automargin\": true, \"gridcolor\": \"white\", \"linecolor\": \"white\", \"ticks\": \"\", \"title\": {\"standoff\": 15}, \"zerolinecolor\": \"white\", \"zerolinewidth\": 2}, \"yaxis\": {\"automargin\": true, \"gridcolor\": \"white\", \"linecolor\": \"white\", \"ticks\": \"\", \"title\": {\"standoff\": 15}, \"zerolinecolor\": \"white\", \"zerolinewidth\": 2}}}, \"xaxis\": {\"anchor\": \"y\", \"domain\": [0.0, 1.0], \"title\": {\"text\": \"model\"}}, \"yaxis\": {\"anchor\": \"x\", \"domain\": [0.0, 1.0], \"title\": {\"text\": \"score\"}}},\n",
              "                        {\"responsive\": true}\n",
              "                    ).then(function(){\n",
              "                            \n",
              "var gd = document.getElementById('81d1bf41-41e0-4340-a76e-d1257120fb1e');\n",
              "var x = new MutationObserver(function (mutations, observer) {{\n",
              "        var display = window.getComputedStyle(gd).display;\n",
              "        if (!display || display === 'none') {{\n",
              "            console.log([gd, 'removed!']);\n",
              "            Plotly.purge(gd);\n",
              "            observer.disconnect();\n",
              "        }}\n",
              "}});\n",
              "\n",
              "// Listen for the removal of the full notebook cells\n",
              "var notebookContainer = gd.closest('#notebook-container');\n",
              "if (notebookContainer) {{\n",
              "    x.observe(notebookContainer, {childList: true});\n",
              "}}\n",
              "\n",
              "// Listen for the clearing of the current output cell\n",
              "var outputEl = gd.closest('.output');\n",
              "if (outputEl) {{\n",
              "    x.observe(outputEl, {childList: true});\n",
              "}}\n",
              "\n",
              "                        })\n",
              "                };\n",
              "                \n",
              "            </script>\n",
              "        </div>\n",
              "</body>\n",
              "</html>"
            ]
          },
          "metadata": {
            "tags": []
          }
        }
      ]
    },
    {
      "cell_type": "code",
      "metadata": {
        "colab": {
          "base_uri": "https://localhost:8080/"
        },
        "id": "k8dGe9Fd7P3T",
        "outputId": "a100c9f4-cd46-4de9-ee79-18fab9c57719"
      },
      "source": [
        "clf = LogisticRegression(max_iter=100, random_state=42)\n",
        "clf.fit(X_train, y_train)\n",
        "\n",
        "y_pred = clf.predict(X_test)\n",
        "\n",
        "# reports\n",
        "X = np.concatenate((X_train ,X_test), axis=0)\n",
        "y = np.concatenate((y_train ,y_test), axis=0)\n",
        "f1_score = np.mean(cross_val_score(clf, X, y, cv=2, scoring='f1_weighted'))\n",
        "print(\"f1: %.3f \\t accuracy: %.3f\" % (f1_score, clf.score(X_test, y_test)))\n",
        "print(metrics.classification_report(y_test, y_pred, digits=3))\n",
        "print(metrics.confusion_matrix(y_test, y_pred))\n"
      ],
      "execution_count": null,
      "outputs": [
        {
          "output_type": "stream",
          "text": [
            "f1: 0.771 \t accuracy: 0.781\n",
            "              precision    recall  f1-score   support\n",
            "\n",
            "           0      0.825     0.829     0.827       449\n",
            "           1      0.705     0.700     0.702       263\n",
            "\n",
            "    accuracy                          0.781       712\n",
            "   macro avg      0.765     0.764     0.764       712\n",
            "weighted avg      0.781     0.781     0.781       712\n",
            "\n",
            "[[372  77]\n",
            " [ 79 184]]\n"
          ],
          "name": "stdout"
        }
      ]
    },
    {
      "cell_type": "code",
      "metadata": {
        "colab": {
          "base_uri": "https://localhost:8080/"
        },
        "id": "x6nCx8mfkvwS",
        "outputId": "728881c3-ed0a-4064-c265-64f7677af1a1"
      },
      "source": [
        "# feature\n",
        "importances = clf.coef_[0]\n",
        "indices = np.argsort(importances)[::-1]\n",
        "indices\n",
        "\n",
        "for fn in range(X_train.shape[1]):\n",
        "    print(f\"{fn+1:2d}. {feature_names[indices[fn]]:35} \\t {importances[indices[fn]]}\")"
      ],
      "execution_count": null,
      "outputs": [
        {
          "output_type": "stream",
          "text": [
            " 1. Shot-accurate                       \t 0.43280732164822366\n",
            " 2. Free Kick-not_accurate              \t 0.12184826021535711\n",
            " 3. Hand pass-not_accurate              \t 0.08495286173484068\n",
            " 4. Touch-counter_attack                \t 0.07871306009214328\n",
            " 5. Penalty-not_accurate                \t 0.06726114813474733\n",
            " 6. Smart pass-accurate                 \t 0.05949719457225359\n",
            " 7. Throw in-not_accurate               \t 0.047564930684902675\n",
            " 8. Clearance-not_accurate              \t 0.04487301538271767\n",
            " 9. Acceleration-accurate               \t 0.04317269778277671\n",
            "10. Clearance-accurate                  \t 0.042817212411880974\n",
            "11. Touch-opportunity                   \t 0.037684797306057304\n",
            "12. Corner-accurate                     \t 0.03480840336715656\n",
            "13. Launch-accurate                     \t 0.03435065427074625\n",
            "14. Ground loose ball duel-not_accurate \t 0.022571546754441403\n",
            "15. Launch-not_accurate                 \t 0.021849453488525912\n",
            "16. Ground defending duel-not_accurate  \t 0.016581260033064267\n",
            "17. Launch-keyPass                      \t 0.014149080793944743\n",
            "18. Ground attacking duel-accurate      \t 0.014099186637241011\n",
            "19. Ground defending duel-accurate      \t 0.01378403177326136\n",
            "20. Ground loose ball duel-accurate     \t 0.012910453165275077\n",
            "21. Smart pass-not_accurate             \t 0.010532295968244188\n",
            "22. Ground attacking duel-not_accurate  \t 0.009983690025356571\n",
            "23. Throw in-accurate                   \t 0.005217225083376997\n",
            "24. Head pass-keyPass                   \t 0.003418965845343373\n",
            "25. Simple pass-accurate                \t 0.00334392885664683\n",
            "26. Touch-interception                  \t 0.00026540678492731486\n",
            "27. Head pass-not_accurate              \t -0.0015245058222711511\n",
            "28. Head pass-accurate                  \t -0.0023178458589228437\n",
            "29. Touch-feint                         \t -0.003096555306622418\n",
            "30. Shot-not_accurate                   \t -0.004381373761959909\n",
            "31. Simple pass-not_accurate            \t -0.008753403014879839\n",
            "32. Hand pass-keyPass                   \t -0.008903575470078846\n",
            "33. Free kick shot-not_accurate         \t -0.01253095752341577\n",
            "34. Simple pass-keyPass                 \t -0.013757837530753223\n",
            "35. High pass-not_accurate              \t -0.014041536039082387\n",
            "36. Free Kick-accurate                  \t -0.014574919953109375\n",
            "37. High pass-accurate                  \t -0.017719487747301525\n",
            "38. Corner-not_accurate                 \t -0.02289891760667488\n",
            "39. Cross-accurate                      \t -0.030730273679676165\n",
            "40. Touch-missed_ball                   \t -0.03352911832789302\n",
            "41. Cross-not_accurate                  \t -0.03913680139327828\n",
            "42. Hand pass-accurate                  \t -0.04359725234767723\n",
            "43. High pass-keyPass                   \t -0.05211396970572016\n",
            "44. Cross-keyPass                       \t -0.0613608308032222\n",
            "45. Free kick cross-not_accurate        \t -0.08280403351937377\n",
            "46. Air duel-accurate                   \t -0.0869808589017288\n",
            "47. Acceleration-not_accurate           \t -0.09683013041298005\n",
            "48. Smart pass-keyPass                  \t -0.09943291053869259\n",
            "49. Free kick shot-accurate             \t -0.09957217294294507\n",
            "50. Foul                                \t -0.11550436283960397\n",
            "51. Air duel-not_accurate               \t -0.12679092643339912\n",
            "52. Free kick cross-accurate            \t -0.13957012815179887\n",
            "53. Touch-dangerous_ball_lost           \t -0.26496079958934154\n"
          ],
          "name": "stdout"
        }
      ]
    },
    {
      "cell_type": "code",
      "metadata": {
        "colab": {
          "base_uri": "https://localhost:8080/",
          "height": 413
        },
        "id": "fKtqynWW541O",
        "outputId": "59435061-da49-4e2a-ce4d-51499fb8c595"
      },
      "source": [
        "# sum_importances = sum(np.abs(importances[indices]))\n",
        "# weights = importances / sum_importances\n",
        "\n",
        "features_and_weights = {}\n",
        "for feature, weight in sorted(zip(feature_names[indices], importances[indices]),key = lambda x: x[1]):\n",
        "  features_and_weights[feature] = weight\n",
        "\n",
        "pdCoef = pd.Series(features_and_weights)\n",
        "pdCoef.sort_values(inplace=True)\n",
        "\n",
        "fig, axs = plt.subplots(figsize=(50,10))\n",
        "axs.bar(x=pdCoef.index,height=pdCoef)\n",
        "plt.xticks(rotation=90)\n",
        "fig.show()"
      ],
      "execution_count": null,
      "outputs": [
        {
          "output_type": "display_data",
          "data": {
            "image/png": "[encoded data removed]",
            "text/plain": [
              "<Figure size 3600x720 with 1 Axes>"
            ]
          },
          "metadata": {
            "tags": [],
            "needs_background": "light"
          }
        }
      ]
    },
    {
      "cell_type": "code",
      "metadata": {
        "colab": {
          "base_uri": "https://localhost:8080/",
          "height": 550
        },
        "id": "tX7bdgy2ylBL",
        "outputId": "611dacbb-ee7f-4057-c8c7-61704ee4e35f"
      },
      "source": [
        "_ = sns.pairplot(data=qualityPD[[\"Goal scored\",\"Shot-accurate\",\"Free Kick-not_accurate\"]])"
      ],
      "execution_count": null,
      "outputs": [
        {
          "output_type": "display_data",
          "data": {
            "image/png": "[encoded data removed]",
            "text/plain": [
              "<Figure size 540x540 with 12 Axes>"
            ]
          },
          "metadata": {
            "tags": [],
            "needs_background": "light"
          }
        }
      ]
    },
    {
      "cell_type": "code",
      "metadata": {
        "colab": {
          "base_uri": "https://localhost:8080/"
        },
        "id": "mNCBSpvm9u_Q",
        "outputId": "12778a54-a5d0-4d59-b6e5-6e014c2dc20a"
      },
      "source": [
        "# Spark's DataFrame for further processing\n",
        "featuresWeight = spark.createDataFrame([(tup[0], float(tup[1])) for tup in features_and_weights.items()], [\"feature\", \"weight\"])\n",
        "featuresWeight.show(100, truncate=False)"
      ],
      "execution_count": null,
      "outputs": [
        {
          "output_type": "stream",
          "text": [
            "+-----------------------------------+----------------------+\n",
            "|feature                            |weight                |\n",
            "+-----------------------------------+----------------------+\n",
            "|Touch-dangerous_ball_lost          |-0.26496079958934154  |\n",
            "|Free kick cross-accurate           |-0.13957012815179887  |\n",
            "|Air duel-not_accurate              |-0.12679092643339912  |\n",
            "|Foul                               |-0.11550436283960397  |\n",
            "|Free kick shot-accurate            |-0.09957217294294507  |\n",
            "|Smart pass-keyPass                 |-0.09943291053869259  |\n",
            "|Acceleration-not_accurate          |-0.09683013041298005  |\n",
            "|Air duel-accurate                  |-0.0869808589017288   |\n",
            "|Free kick cross-not_accurate       |-0.08280403351937377  |\n",
            "|Cross-keyPass                      |-0.0613608308032222   |\n",
            "|High pass-keyPass                  |-0.05211396970572016  |\n",
            "|Hand pass-accurate                 |-0.04359725234767723  |\n",
            "|Cross-not_accurate                 |-0.03913680139327828  |\n",
            "|Touch-missed_ball                  |-0.03352911832789302  |\n",
            "|Cross-accurate                     |-0.030730273679676165 |\n",
            "|Corner-not_accurate                |-0.02289891760667488  |\n",
            "|High pass-accurate                 |-0.017719487747301525 |\n",
            "|Free Kick-accurate                 |-0.014574919953109375 |\n",
            "|High pass-not_accurate             |-0.014041536039082387 |\n",
            "|Simple pass-keyPass                |-0.013757837530753223 |\n",
            "|Free kick shot-not_accurate        |-0.01253095752341577  |\n",
            "|Hand pass-keyPass                  |-0.008903575470078846 |\n",
            "|Simple pass-not_accurate           |-0.008753403014879839 |\n",
            "|Shot-not_accurate                  |-0.004381373761959909 |\n",
            "|Touch-feint                        |-0.003096555306622418 |\n",
            "|Head pass-accurate                 |-0.0023178458589228437|\n",
            "|Head pass-not_accurate             |-0.0015245058222711511|\n",
            "|Touch-interception                 |2.6540678492731486E-4 |\n",
            "|Simple pass-accurate               |0.00334392885664683   |\n",
            "|Head pass-keyPass                  |0.003418965845343373  |\n",
            "|Throw in-accurate                  |0.005217225083376997  |\n",
            "|Ground attacking duel-not_accurate |0.009983690025356571  |\n",
            "|Smart pass-not_accurate            |0.010532295968244188  |\n",
            "|Ground loose ball duel-accurate    |0.012910453165275077  |\n",
            "|Ground defending duel-accurate     |0.01378403177326136   |\n",
            "|Ground attacking duel-accurate     |0.014099186637241011  |\n",
            "|Launch-keyPass                     |0.014149080793944743  |\n",
            "|Ground defending duel-not_accurate |0.016581260033064267  |\n",
            "|Launch-not_accurate                |0.021849453488525912  |\n",
            "|Ground loose ball duel-not_accurate|0.022571546754441403  |\n",
            "|Launch-accurate                    |0.03435065427074625   |\n",
            "|Corner-accurate                    |0.03480840336715656   |\n",
            "|Touch-opportunity                  |0.037684797306057304  |\n",
            "|Clearance-accurate                 |0.042817212411880974  |\n",
            "|Acceleration-accurate              |0.04317269778277671   |\n",
            "|Clearance-not_accurate             |0.04487301538271767   |\n",
            "|Throw in-not_accurate              |0.047564930684902675  |\n",
            "|Smart pass-accurate                |0.05949719457225359   |\n",
            "|Penalty-not_accurate               |0.06726114813474733   |\n",
            "|Touch-counter_attack               |0.07871306009214328   |\n",
            "|Hand pass-not_accurate             |0.08495286173484068   |\n",
            "|Free Kick-not_accurate             |0.12184826021535711   |\n",
            "|Shot-accurate                      |0.43280732164822366   |\n",
            "+-----------------------------------+----------------------+\n",
            "\n"
          ],
          "name": "stdout"
        }
      ]
    },
    {
      "cell_type": "markdown",
      "metadata": {
        "id": "s0-2RjXEfI_C"
      },
      "source": [
        "## 2 Ocena piłkarza ##"
      ]
    },
    {
      "cell_type": "code",
      "metadata": {
        "colab": {
          "base_uri": "https://localhost:8080/"
        },
        "id": "7rmGtbY5fLa8",
        "outputId": "8415edc5-eaf2-46d5-a08d-3fb358d6728e"
      },
      "source": [
        "# player rating - number of events with quantities. The goalkeeper position is rejected.\n",
        "qualityPlayer = events\\\n",
        "    .filter(f.col(\"eventId\") != 9)\\\n",
        "    .join(fieldPlayer, fieldPlayer.wyId == events.playerId, how='inner')\\\n",
        "    .select(\"eventId\", \"playerId\", \"matchId\",\"subEventName\", f.explode(\"tags.id\").alias(\"tagId\"))\\\n",
        "    .join(qualityFeature, (f.col(\"subEventName\") == qualityFeature.subEvName) & f.array_contains(qualityFeature.tagsId, f.col(\"tagId\")), how='inner')\\\n",
        "    .withColumn(\"tagName\", mapping_expr[f.col(\"tagId\")])\\\n",
        "    .select(\"eventId\", \"playerId\", \"matchId\", f.concat(\"subEventName\",f.lit(\"-\"),\"tagName\").alias(\"feature\"),\"tagId\")\\\n",
        "    .withColumn(\"feature\", f.when(f.col(\"eventId\") == 2, \"Foul\")\\\n",
        "            .when(f.col(\"tagId\") == 101, \"Goal scored\")\n",
        "            .otherwise(f.col(\"feature\")))\\\n",
        "    .groupBy(\"matchId\", \"playerId\", \"feature\")\\\n",
        "    .agg(f.count(\"feature\").alias(\"value\"))\n",
        "\n",
        "# qualityPlayer.show(truncate=False)\n",
        "\n",
        "playerankScore = qualityPlayer\\\n",
        "    .join(featuresWeight, on=\"feature\")\\\n",
        "    .withColumn(\"playerankScore\", f.col(\"value\") * f.col(\"weight\"))\\\n",
        "    .select(\"playerId\",\"matchId\",\"playerankScore\")\\\n",
        "    .groupBy(\"playerId\",\"matchId\")\\\n",
        "    .agg(f.sum(\"playerankScore\").alias(\"playerankScore\"))\n",
        "    \n",
        "playerankScore.show(truncate=False)"
      ],
      "execution_count": null,
      "outputs": [
        {
          "output_type": "stream",
          "text": [
            "+--------+-------+--------------------+\n",
            "|playerId|matchId|playerankScore      |\n",
            "+--------+-------+--------------------+\n",
            "|228928  |2576084|0.019784995621797863|\n",
            "|412701  |2500704|-0.3424673273787451 |\n",
            "|265673  |2500065|0.7922233855861004  |\n",
            "|15456   |2516973|-0.6749174351820777 |\n",
            "|20820   |2576108|1.3351132101818157  |\n",
            "|3802    |2499913|0.15304909579866943 |\n",
            "|4498    |2565598|0.10748860406036012 |\n",
            "|14836   |2565686|-0.1592784616756716 |\n",
            "|105333  |2499855|0.7246682226968393  |\n",
            "|25623   |2565744|0.06344742452680492 |\n",
            "|3314    |2500898|-0.20411207293726288|\n",
            "|256992  |2500867|-0.44697534667953204|\n",
            "|209117  |2500793|0.2522944516564129  |\n",
            "|14864   |2516990|0.1740823342444198  |\n",
            "|20927   |2576318|0.17004626946947754 |\n",
            "|28292   |2499917|-0.1938574383902421 |\n",
            "|4303    |2565560|-0.3109610863799561 |\n",
            "|143189  |2500821|0.12434936159800011 |\n",
            "|342743  |2500875|0.012318121581773214|\n",
            "|24838   |2576241|-0.14549600245970606|\n",
            "+--------+-------+--------------------+\n",
            "only showing top 20 rows\n",
            "\n"
          ],
          "name": "stdout"
        }
      ]
    },
    {
      "cell_type": "code",
      "metadata": {
        "colab": {
          "base_uri": "https://localhost:8080/"
        },
        "id": "ZRovkbGwfeEk",
        "outputId": "51ee38b7-4bc6-470e-db30-c33908f04b4e"
      },
      "source": [
        "# assigning to position\n",
        "playerPosScore = playerankScore\\\n",
        "    .join(fieldPlayer.select(f.col(\"wyId\").alias(\"playerId\"),f.col(\"role.code2\").alias(\"pos\")), on=\"playerId\", how=\"inner\")\\\n",
        "    .groupBy(\"playerId\", \"matchId\")\\\n",
        "    .pivot(\"pos\")\\\n",
        "    .agg(f.first(\"playerankScore\").alias(\"playerScore\"))\\\n",
        "    .fillna(0)\n",
        "\n",
        "playerPosScore.show()"
      ],
      "execution_count": null,
      "outputs": [
        {
          "output_type": "stream",
          "text": [
            "+--------+-------+--------------------+-------------------+--------------------+\n",
            "|playerId|matchId|                  DF|                 FW|                  MD|\n",
            "+--------+-------+--------------------+-------------------+--------------------+\n",
            "|  228928|2576084|                 0.0|                0.0|0.019784995621797863|\n",
            "|  412701|2500704|                 0.0|-0.3424673273787451|                 0.0|\n",
            "|  265673|2500065|                 0.0|                0.0|  0.7922233855861004|\n",
            "|   15456|2516973|                 0.0|                0.0| -0.6749174351820777|\n",
            "|   20820|2576108|                 0.0| 1.3351132101818157|                 0.0|\n",
            "|    3802|2499913|                 0.0|0.15304909579866943|                 0.0|\n",
            "|    4498|2565598|                 0.0|0.10748860406036012|                 0.0|\n",
            "|   14836|2565686|                 0.0|                0.0| -0.1592784616756716|\n",
            "|  105333|2499855|                 0.0|                0.0|  0.7246682226968393|\n",
            "|   25623|2565744|                 0.0|                0.0| 0.06344742452680492|\n",
            "|    3314|2500898|                 0.0|                0.0|-0.20411207293726288|\n",
            "|  256992|2500867|                 0.0|                0.0|-0.44697534667953204|\n",
            "|  209117|2500793|                 0.0|                0.0|  0.2522944516564129|\n",
            "|   14864|2516990|                 0.0|                0.0|  0.1740823342444198|\n",
            "|   20927|2576318| 0.17004626946947754|                0.0|                 0.0|\n",
            "|   28292|2499917|                 0.0|                0.0| -0.1938574383902421|\n",
            "|    4303|2565560| -0.3109610863799561|                0.0|                 0.0|\n",
            "|  143189|2500821|                 0.0|0.12434936159800011|                 0.0|\n",
            "|  342743|2500875|                 0.0|                0.0|0.012318121581773214|\n",
            "|   24838|2576241|-0.14549600245970606|                0.0|                 0.0|\n",
            "+--------+-------+--------------------+-------------------+--------------------+\n",
            "only showing top 20 rows\n",
            "\n"
          ],
          "name": "stdout"
        }
      ]
    },
    {
      "cell_type": "code",
      "metadata": {
        "id": "wcx9R8LHHyXY",
        "colab": {
          "base_uri": "https://localhost:8080/",
          "height": 419
        },
        "outputId": "21a9eb23-1b8f-4c29-858c-95ecfbef3f03"
      },
      "source": [
        "# aggratate to a single match\n",
        "matchInfo = matches\\\n",
        "    .select(\"dateutc\",\"gameweek\", \"competitionId\", \"info.side\", f.col(\"wyId\").alias(\"matchId\"),\"team\",\"info.formation.lineup.playerId\",\"info.formation.substitutions.playerIn\",\"winner\")\\\n",
        "    .withColumn(\"players\",f.concat(f.col(\"playerId\"),f.col(\"playerIn\")))\\\n",
        "    .drop(\"playerId\",\"playerIn\")\\\n",
        "    .withColumn(\"playerId\", f.explode(\"players\"))\\\n",
        "    .drop(\"players\")\\\n",
        "\n",
        "# home win -> 1, draw -> 0, away win -> 2\n",
        "aggForPredict = matchInfo\\\n",
        "    .join(playerPosScore, (playerPosScore.matchId == matchInfo.matchId) & (playerPosScore.playerId == matchInfo.playerId), how='inner')\\\n",
        "    .groupBy(\"dateutc\",\"gameweek\",\"side\",\"winner\",\"team\", matchInfo.matchId, \"competitionId\")\\\n",
        "    .agg(f.sum(\"DF\").alias(\"dfScore\"),f.sum(\"FW\").alias(\"fwScore\"),f.sum(\"MD\").alias(\"mdScore\"))\\\n",
        "    .groupBy(\"dateutc\",\"gameweek\",\"matchId\", \"competitionId\")\\\n",
        "    .pivot(\"side\")\\\n",
        "    .agg(f.first(\"winner\").alias(\"winner\"), f.first(\"team\").alias(\"team\"), f.first(\"dfScore\").alias(\"dfScore\"), f.first(\"fwScore\").alias(\"fwScore\"), f.first(\"mdScore\").alias(\"mdScore\"))\\\n",
        "    .withColumn(\"winner\", f.when(f.col(\"home_winner\") == 0, 0).when(f.col(\"home_winner\") == f.col(\"home_team\"),1).otherwise(2))\\\n",
        "    .drop(\"away_winner\",\"home_winner\",\"matchId\")\\\n",
        "    .orderBy(\"competitionId\",\"gameweek\")\\\n",
        "\n",
        "# aggForPredict2.show(truncate=False)\n",
        "pdAggForPredict = aggForPredict.toPandas()\n",
        "pdAggForPredict\n"
      ],
      "execution_count": null,
      "outputs": [
        {
          "output_type": "execute_result",
          "data": {
            "text/html": [
              "<div>\n",
              "<style scoped>\n",
              "    .dataframe tbody tr th:only-of-type {\n",
              "        vertical-align: middle;\n",
              "    }\n",
              "\n",
              "    .dataframe tbody tr th {\n",
              "        vertical-align: top;\n",
              "    }\n",
              "\n",
              "    .dataframe thead th {\n",
              "        text-align: right;\n",
              "    }\n",
              "</style>\n",
              "<table border=\"1\" class=\"dataframe\">\n",
              "  <thead>\n",
              "    <tr style=\"text-align: right;\">\n",
              "      <th></th>\n",
              "      <th>dateutc</th>\n",
              "      <th>gameweek</th>\n",
              "      <th>competitionId</th>\n",
              "      <th>away_team</th>\n",
              "      <th>away_dfScore</th>\n",
              "      <th>away_fwScore</th>\n",
              "      <th>away_mdScore</th>\n",
              "      <th>home_team</th>\n",
              "      <th>home_dfScore</th>\n",
              "      <th>home_fwScore</th>\n",
              "      <th>home_mdScore</th>\n",
              "      <th>winner</th>\n",
              "    </tr>\n",
              "  </thead>\n",
              "  <tbody>\n",
              "    <tr>\n",
              "      <th>0</th>\n",
              "      <td>2017-08-12 16:30:00</td>\n",
              "      <td>1</td>\n",
              "      <td>364</td>\n",
              "      <td>1625</td>\n",
              "      <td>-0.575403</td>\n",
              "      <td>0.500809</td>\n",
              "      <td>0.832219</td>\n",
              "      <td>1651</td>\n",
              "      <td>1.452734</td>\n",
              "      <td>-2.082286</td>\n",
              "      <td>-0.324194</td>\n",
              "      <td>2</td>\n",
              "    </tr>\n",
              "    <tr>\n",
              "      <th>1</th>\n",
              "      <td>2017-08-12 14:00:00</td>\n",
              "      <td>1</td>\n",
              "      <td>364</td>\n",
              "      <td>10531</td>\n",
              "      <td>-0.059684</td>\n",
              "      <td>-0.254909</td>\n",
              "      <td>-1.444849</td>\n",
              "      <td>1619</td>\n",
              "      <td>-0.976969</td>\n",
              "      <td>-0.305286</td>\n",
              "      <td>-0.135376</td>\n",
              "      <td>0</td>\n",
              "    </tr>\n",
              "    <tr>\n",
              "      <th>2</th>\n",
              "      <td>2017-08-13 15:00:00</td>\n",
              "      <td>1</td>\n",
              "      <td>364</td>\n",
              "      <td>1633</td>\n",
              "      <td>-0.070962</td>\n",
              "      <td>-2.141393</td>\n",
              "      <td>0.226555</td>\n",
              "      <td>1611</td>\n",
              "      <td>-0.331965</td>\n",
              "      <td>0.600707</td>\n",
              "      <td>0.502351</td>\n",
              "      <td>1</td>\n",
              "    </tr>\n",
              "    <tr>\n",
              "      <th>3</th>\n",
              "      <td>2017-08-13 12:30:00</td>\n",
              "      <td>1</td>\n",
              "      <td>364</td>\n",
              "      <td>1624</td>\n",
              "      <td>-0.603748</td>\n",
              "      <td>0.152692</td>\n",
              "      <td>2.921574</td>\n",
              "      <td>1613</td>\n",
              "      <td>-0.152546</td>\n",
              "      <td>-0.704952</td>\n",
              "      <td>0.073219</td>\n",
              "      <td>2</td>\n",
              "    </tr>\n",
              "    <tr>\n",
              "      <th>4</th>\n",
              "      <td>2017-08-11 18:45:00</td>\n",
              "      <td>1</td>\n",
              "      <td>364</td>\n",
              "      <td>1631</td>\n",
              "      <td>-1.137762</td>\n",
              "      <td>0.358511</td>\n",
              "      <td>0.411189</td>\n",
              "      <td>1609</td>\n",
              "      <td>0.295115</td>\n",
              "      <td>1.070532</td>\n",
              "      <td>1.801655</td>\n",
              "      <td>1</td>\n",
              "    </tr>\n",
              "    <tr>\n",
              "      <th>...</th>\n",
              "      <td>...</td>\n",
              "      <td>...</td>\n",
              "      <td>...</td>\n",
              "      <td>...</td>\n",
              "      <td>...</td>\n",
              "      <td>...</td>\n",
              "      <td>...</td>\n",
              "      <td>...</td>\n",
              "      <td>...</td>\n",
              "      <td>...</td>\n",
              "      <td>...</td>\n",
              "      <td>...</td>\n",
              "    </tr>\n",
              "    <tr>\n",
              "      <th>1821</th>\n",
              "      <td>2018-05-20 16:30:00</td>\n",
              "      <td>38</td>\n",
              "      <td>795</td>\n",
              "      <td>701</td>\n",
              "      <td>-0.705474</td>\n",
              "      <td>-0.434375</td>\n",
              "      <td>1.131937</td>\n",
              "      <td>679</td>\n",
              "      <td>-0.892268</td>\n",
              "      <td>0.756037</td>\n",
              "      <td>0.052290</td>\n",
              "      <td>0</td>\n",
              "    </tr>\n",
              "    <tr>\n",
              "      <th>1822</th>\n",
              "      <td>2018-05-19 14:15:00</td>\n",
              "      <td>38</td>\n",
              "      <td>795</td>\n",
              "      <td>684</td>\n",
              "      <td>1.987180</td>\n",
              "      <td>1.906912</td>\n",
              "      <td>1.092720</td>\n",
              "      <td>712</td>\n",
              "      <td>0.583085</td>\n",
              "      <td>0.758319</td>\n",
              "      <td>0.418824</td>\n",
              "      <td>1</td>\n",
              "    </tr>\n",
              "    <tr>\n",
              "      <th>1823</th>\n",
              "      <td>2018-05-19 16:30:00</td>\n",
              "      <td>38</td>\n",
              "      <td>795</td>\n",
              "      <td>696</td>\n",
              "      <td>0.169883</td>\n",
              "      <td>-0.734881</td>\n",
              "      <td>0.417304</td>\n",
              "      <td>680</td>\n",
              "      <td>0.276292</td>\n",
              "      <td>0.940943</td>\n",
              "      <td>2.735210</td>\n",
              "      <td>1</td>\n",
              "    </tr>\n",
              "    <tr>\n",
              "      <th>1824</th>\n",
              "      <td>2018-05-19 18:45:00</td>\n",
              "      <td>38</td>\n",
              "      <td>795</td>\n",
              "      <td>675</td>\n",
              "      <td>0.790374</td>\n",
              "      <td>1.373215</td>\n",
              "      <td>1.855026</td>\n",
              "      <td>682</td>\n",
              "      <td>0.518552</td>\n",
              "      <td>0.670319</td>\n",
              "      <td>1.386667</td>\n",
              "      <td>0</td>\n",
              "    </tr>\n",
              "    <tr>\n",
              "      <th>1825</th>\n",
              "      <td>2018-05-20 14:15:00</td>\n",
              "      <td>38</td>\n",
              "      <td>795</td>\n",
              "      <td>691</td>\n",
              "      <td>0.333851</td>\n",
              "      <td>0.131137</td>\n",
              "      <td>0.348494</td>\n",
              "      <td>678</td>\n",
              "      <td>0.416062</td>\n",
              "      <td>-0.054949</td>\n",
              "      <td>-0.595654</td>\n",
              "      <td>2</td>\n",
              "    </tr>\n",
              "  </tbody>\n",
              "</table>\n",
              "<p>1826 rows × 12 columns</p>\n",
              "</div>"
            ],
            "text/plain": [
              "                  dateutc  gameweek  ...  home_mdScore winner\n",
              "0     2017-08-12 16:30:00         1  ...     -0.324194      2\n",
              "1     2017-08-12 14:00:00         1  ...     -0.135376      0\n",
              "2     2017-08-13 15:00:00         1  ...      0.502351      1\n",
              "3     2017-08-13 12:30:00         1  ...      0.073219      2\n",
              "4     2017-08-11 18:45:00         1  ...      1.801655      1\n",
              "...                   ...       ...  ...           ...    ...\n",
              "1821  2018-05-20 16:30:00        38  ...      0.052290      0\n",
              "1822  2018-05-19 14:15:00        38  ...      0.418824      1\n",
              "1823  2018-05-19 16:30:00        38  ...      2.735210      1\n",
              "1824  2018-05-19 18:45:00        38  ...      1.386667      0\n",
              "1825  2018-05-20 14:15:00        38  ...     -0.595654      2\n",
              "\n",
              "[1826 rows x 12 columns]"
            ]
          },
          "metadata": {
            "tags": []
          },
          "execution_count": 63
        }
      ]
    },
    {
      "cell_type": "markdown",
      "metadata": {
        "id": "lMVVg43hDpcp"
      },
      "source": [
        "## 3 Przewidywanie rezultatu ##"
      ]
    },
    {
      "cell_type": "markdown",
      "metadata": {
        "id": "0pLWznw0tfoE"
      },
      "source": [
        "### Przygotowanie danych treningowych i testowych ###\n",
        "Zbiór treningowy będzie zawierał dane do 30 kolejki w danej lidze. Zbiór testowy pozostałe. Ilość kolejek w lidze niemieckiej wynosi 34, w pozostałych ligach jest ich 38. Zatem stosunek zbióru testowego będzie wynosił ok. 0.2"
      ]
    },
    {
      "cell_type": "code",
      "metadata": {
        "id": "c6rpqmm7iy64"
      },
      "source": [
        "pdAggForPredict[\"away_team\"] = pdAggForPredict[\"away_team\"].astype('int64')\n",
        "pdAggForPredict[\"home_team\"] = pdAggForPredict[\"home_team\"].astype('int64')\n",
        "pdAggForPredict[\"competitionId\"] = pdAggForPredict[\"competitionId\"].astype('int64')"
      ],
      "execution_count": null,
      "outputs": []
    },
    {
      "cell_type": "code",
      "metadata": {
        "id": "xKe2zbmDRlHE"
      },
      "source": [
        "# different style of leagues - for testing purposes, to determined if there is a style of the league. Test dataset for the German league, Train dataset for others\n",
        "pdAggForPredict.sort_values([\"gameweek\", \"competitionId\"], inplace=True)\n",
        "X = pdAggForPredict.drop([\"winner\",\"gameweek\",\"away_team\",\"home_team\",\"dateutc\"], axis=1)\n",
        "y = pdAggForPredict[[\"winner\",\"competitionId\"]]\n",
        "\n",
        "X_train = X[X[\"competitionId\"]!=426].drop(\"competitionId\", axis=1).values\n",
        "X_test = X[X[\"competitionId\"]==426].drop(\"competitionId\", axis=1).values\n",
        "y_train =  y[y[\"competitionId\"]!=426].drop(\"competitionId\", axis=1).values\n",
        "y_test = y[y[\"competitionId\"]==426].drop(\"competitionId\", axis=1).values\n",
        "\n",
        "X_train = StandardScaler().fit_transform(X_train)\n",
        "X_test = StandardScaler().fit_transform(X_test)"
      ],
      "execution_count": null,
      "outputs": []
    },
    {
      "cell_type": "code",
      "metadata": {
        "id": "2yUfKHjMIytj"
      },
      "source": [
        "# all leagues\n",
        "pdAggForPredict.sort_values([\"gameweek\", \"competitionId\"], inplace=True)\n",
        "\n",
        "X_train = pdAggForPredict[pdAggForPredict.gameweek<31].drop([\"winner\",\"dateutc\",\"competitionId\",\"gameweek\",\"away_team\",\"home_team\"], axis=1).values\n",
        "X_test = pdAggForPredict[pdAggForPredict.gameweek>30].drop([\"winner\",\"dateutc\",\"competitionId\",\"gameweek\",\"away_team\",\"home_team\"], axis=1).values\n",
        "y_train =  pdAggForPredict.loc[pdAggForPredict.gameweek<31,\"winner\"].values\n",
        "y_test =  pdAggForPredict.loc[pdAggForPredict.gameweek>30,\"winner\"].values\n",
        "\n",
        "feature_names =  pdAggForPredict.drop([\"winner\",\"dateutc\",\"competitionId\",\"gameweek\",\"away_team\",\"home_team\"], axis=1).columns\n",
        "\n",
        "# X_train = StandardScaler().fit_transform(X_train)\n",
        "# X_test = StandardScaler().fit_transform(X_test)"
      ],
      "execution_count": null,
      "outputs": []
    },
    {
      "cell_type": "markdown",
      "metadata": {
        "id": "8KzilhG33NSz"
      },
      "source": [
        "### Modelowanie ##"
      ]
    },
    {
      "cell_type": "code",
      "metadata": {
        "colab": {
          "base_uri": "https://localhost:8080/",
          "height": 542
        },
        "id": "2p3zySHKRi2r",
        "outputId": "56e9a916-aaad-41ee-f24c-74b166e7426b"
      },
      "source": [
        "clfs = [LogisticRegression(), RandomForestClassifier(), GradientBoostingClassifier(),\n",
        "        KNeighborsClassifier(), GaussianNB(), MLPClassifier(), SVC(), LinearSVC()]\n",
        "\n",
        "# run_model_diagnostics(X, y, clfs)\n",
        "oneMetricMap = run_model_diagnostics(X_train, X_test, y_train, y_test, clfs)\n",
        "\n",
        "df = pd.DataFrame(oneMetricMap).T\n",
        "df.reset_index(inplace=True)\n",
        "df.columns = [\"model\",\"score\"]\n",
        "df.score = np.round(df.score,3)\n",
        "px.bar(data_frame=df, x=\"model\", y=\"score\", text=\"score\")"
      ],
      "execution_count": null,
      "outputs": [
        {
          "output_type": "display_data",
          "data": {
            "text/html": [
              "<html>\n",
              "<head><meta charset=\"utf-8\" /></head>\n",
              "<body>\n",
              "    <div>\n",
              "            <script src=\"https://cdnjs.cloudflare.com/ajax/libs/mathjax/2.7.5/MathJax.js?config=TeX-AMS-MML_SVG\"></script><script type=\"text/javascript\">if (window.MathJax) {MathJax.Hub.Config({SVG: {font: \"STIX-Web\"}});}</script>\n",
              "                <script type=\"text/javascript\">window.PlotlyConfig = {MathJaxConfig: 'local'};</script>\n",
              "        <script src=\"https://cdn.plot.ly/plotly-latest.min.js\"></script>    \n",
              "            <div id=\"2e0ae1c7-1e99-4718-affc-3e1219002eb8\" class=\"plotly-graph-div\" style=\"height:525px; width:100%;\"></div>\n",
              "            <script type=\"text/javascript\">\n",
              "                \n",
              "                    window.PLOTLYENV=window.PLOTLYENV || {};\n",
              "                    \n",
              "                if (document.getElementById(\"2e0ae1c7-1e99-4718-affc-3e1219002eb8\")) {\n",
              "                    Plotly.newPlot(\n",
              "                        '2e0ae1c7-1e99-4718-affc-3e1219002eb8',\n",
              "                        [{\"alignmentgroup\": \"True\", \"hoverlabel\": {\"namelength\": 0}, \"hovertemplate\": \"model=%{x}<br>score=%{text}\", \"legendgroup\": \"\", \"marker\": {\"color\": \"#636efa\"}, \"name\": \"\", \"offsetgroup\": \"\", \"orientation\": \"v\", \"showlegend\": false, \"text\": [0.677, 0.598, 0.612, 0.596, 0.596, 0.654, 0.657, 0.654], \"textposition\": \"auto\", \"type\": \"bar\", \"x\": [\"LogisticRegression\", \"RandomForestClassifier\", \"GradientBoostingClassifier\", \"KNeighborsClassifier\", \"GaussianNB\", \"MLPClassifier\", \"SVC\", \"LinearSVC\"], \"xaxis\": \"x\", \"y\": [0.677, 0.598, 0.612, 0.596, 0.596, 0.654, 0.657, 0.654], \"yaxis\": \"y\"}],\n",
              "                        {\"barmode\": \"relative\", \"legend\": {\"tracegroupgap\": 0}, \"margin\": {\"t\": 60}, \"template\": {\"data\": {\"bar\": [{\"error_x\": {\"color\": \"#2a3f5f\"}, \"error_y\": {\"color\": \"#2a3f5f\"}, \"marker\": {\"line\": {\"color\": \"#E5ECF6\", \"width\": 0.5}}, \"type\": \"bar\"}], \"barpolar\": [{\"marker\": {\"line\": {\"color\": \"#E5ECF6\", \"width\": 0.5}}, \"type\": \"barpolar\"}], \"carpet\": [{\"aaxis\": {\"endlinecolor\": \"#2a3f5f\", \"gridcolor\": \"white\", \"linecolor\": \"white\", \"minorgridcolor\": \"white\", \"startlinecolor\": \"#2a3f5f\"}, \"baxis\": {\"endlinecolor\": \"#2a3f5f\", \"gridcolor\": \"white\", \"linecolor\": \"white\", \"minorgridcolor\": \"white\", \"startlinecolor\": \"#2a3f5f\"}, \"type\": \"carpet\"}], \"choropleth\": [{\"colorbar\": {\"outlinewidth\": 0, \"ticks\": \"\"}, \"type\": \"choropleth\"}], \"contour\": [{\"colorbar\": {\"outlinewidth\": 0, \"ticks\": \"\"}, \"colorscale\": [[0.0, \"#0d0887\"], [0.1111111111111111, \"#46039f\"], [0.2222222222222222, \"#7201a8\"], [0.3333333333333333, \"#9c179e\"], [0.4444444444444444, \"#bd3786\"], [0.5555555555555556, \"#d8576b\"], [0.6666666666666666, \"#ed7953\"], [0.7777777777777778, \"#fb9f3a\"], [0.8888888888888888, \"#fdca26\"], [1.0, \"#f0f921\"]], \"type\": \"contour\"}], \"contourcarpet\": [{\"colorbar\": {\"outlinewidth\": 0, \"ticks\": \"\"}, \"type\": \"contourcarpet\"}], \"heatmap\": [{\"colorbar\": {\"outlinewidth\": 0, \"ticks\": \"\"}, \"colorscale\": [[0.0, \"#0d0887\"], [0.1111111111111111, \"#46039f\"], [0.2222222222222222, \"#7201a8\"], [0.3333333333333333, \"#9c179e\"], [0.4444444444444444, \"#bd3786\"], [0.5555555555555556, \"#d8576b\"], [0.6666666666666666, \"#ed7953\"], [0.7777777777777778, \"#fb9f3a\"], [0.8888888888888888, \"#fdca26\"], [1.0, \"#f0f921\"]], \"type\": \"heatmap\"}], \"heatmapgl\": [{\"colorbar\": {\"outlinewidth\": 0, \"ticks\": \"\"}, \"colorscale\": [[0.0, \"#0d0887\"], [0.1111111111111111, \"#46039f\"], [0.2222222222222222, \"#7201a8\"], [0.3333333333333333, \"#9c179e\"], [0.4444444444444444, \"#bd3786\"], [0.5555555555555556, \"#d8576b\"], [0.6666666666666666, \"#ed7953\"], [0.7777777777777778, \"#fb9f3a\"], [0.8888888888888888, \"#fdca26\"], [1.0, \"#f0f921\"]], \"type\": \"heatmapgl\"}], \"histogram\": [{\"marker\": {\"colorbar\": {\"outlinewidth\": 0, \"ticks\": \"\"}}, \"type\": \"histogram\"}], \"histogram2d\": [{\"colorbar\": {\"outlinewidth\": 0, \"ticks\": \"\"}, \"colorscale\": [[0.0, \"#0d0887\"], [0.1111111111111111, \"#46039f\"], [0.2222222222222222, \"#7201a8\"], [0.3333333333333333, \"#9c179e\"], [0.4444444444444444, \"#bd3786\"], [0.5555555555555556, \"#d8576b\"], [0.6666666666666666, \"#ed7953\"], [0.7777777777777778, \"#fb9f3a\"], [0.8888888888888888, \"#fdca26\"], [1.0, \"#f0f921\"]], \"type\": \"histogram2d\"}], \"histogram2dcontour\": [{\"colorbar\": {\"outlinewidth\": 0, \"ticks\": \"\"}, \"colorscale\": [[0.0, \"#0d0887\"], [0.1111111111111111, \"#46039f\"], [0.2222222222222222, \"#7201a8\"], [0.3333333333333333, \"#9c179e\"], [0.4444444444444444, \"#bd3786\"], [0.5555555555555556, \"#d8576b\"], [0.6666666666666666, \"#ed7953\"], [0.7777777777777778, \"#fb9f3a\"], [0.8888888888888888, \"#fdca26\"], [1.0, \"#f0f921\"]], \"type\": \"histogram2dcontour\"}], \"mesh3d\": [{\"colorbar\": {\"outlinewidth\": 0, \"ticks\": \"\"}, \"type\": \"mesh3d\"}], \"parcoords\": [{\"line\": {\"colorbar\": {\"outlinewidth\": 0, \"ticks\": \"\"}}, \"type\": \"parcoords\"}], \"pie\": [{\"automargin\": true, \"type\": \"pie\"}], \"scatter\": [{\"marker\": {\"colorbar\": {\"outlinewidth\": 0, \"ticks\": \"\"}}, \"type\": \"scatter\"}], \"scatter3d\": [{\"line\": {\"colorbar\": {\"outlinewidth\": 0, \"ticks\": \"\"}}, \"marker\": {\"colorbar\": {\"outlinewidth\": 0, \"ticks\": \"\"}}, \"type\": \"scatter3d\"}], \"scattercarpet\": [{\"marker\": {\"colorbar\": {\"outlinewidth\": 0, \"ticks\": \"\"}}, \"type\": \"scattercarpet\"}], \"scattergeo\": [{\"marker\": {\"colorbar\": {\"outlinewidth\": 0, \"ticks\": \"\"}}, \"type\": \"scattergeo\"}], \"scattergl\": [{\"marker\": {\"colorbar\": {\"outlinewidth\": 0, \"ticks\": \"\"}}, \"type\": \"scattergl\"}], \"scattermapbox\": [{\"marker\": {\"colorbar\": {\"outlinewidth\": 0, \"ticks\": \"\"}}, \"type\": \"scattermapbox\"}], \"scatterpolar\": [{\"marker\": {\"colorbar\": {\"outlinewidth\": 0, \"ticks\": \"\"}}, \"type\": \"scatterpolar\"}], \"scatterpolargl\": [{\"marker\": {\"colorbar\": {\"outlinewidth\": 0, \"ticks\": \"\"}}, \"type\": \"scatterpolargl\"}], \"scatterternary\": [{\"marker\": {\"colorbar\": {\"outlinewidth\": 0, \"ticks\": \"\"}}, \"type\": \"scatterternary\"}], \"surface\": [{\"colorbar\": {\"outlinewidth\": 0, \"ticks\": \"\"}, \"colorscale\": [[0.0, \"#0d0887\"], [0.1111111111111111, \"#46039f\"], [0.2222222222222222, \"#7201a8\"], [0.3333333333333333, \"#9c179e\"], [0.4444444444444444, \"#bd3786\"], [0.5555555555555556, \"#d8576b\"], [0.6666666666666666, \"#ed7953\"], [0.7777777777777778, \"#fb9f3a\"], [0.8888888888888888, \"#fdca26\"], [1.0, \"#f0f921\"]], \"type\": \"surface\"}], \"table\": [{\"cells\": {\"fill\": {\"color\": \"#EBF0F8\"}, \"line\": {\"color\": \"white\"}}, \"header\": {\"fill\": {\"color\": \"#C8D4E3\"}, \"line\": {\"color\": \"white\"}}, \"type\": \"table\"}]}, \"layout\": {\"annotationdefaults\": {\"arrowcolor\": \"#2a3f5f\", \"arrowhead\": 0, \"arrowwidth\": 1}, \"coloraxis\": {\"colorbar\": {\"outlinewidth\": 0, \"ticks\": \"\"}}, \"colorscale\": {\"diverging\": [[0, \"#8e0152\"], [0.1, \"#c51b7d\"], [0.2, \"#de77ae\"], [0.3, \"#f1b6da\"], [0.4, \"#fde0ef\"], [0.5, \"#f7f7f7\"], [0.6, \"#e6f5d0\"], [0.7, \"#b8e186\"], [0.8, \"#7fbc41\"], [0.9, \"#4d9221\"], [1, \"#276419\"]], \"sequential\": [[0.0, \"#0d0887\"], [0.1111111111111111, \"#46039f\"], [0.2222222222222222, \"#7201a8\"], [0.3333333333333333, \"#9c179e\"], [0.4444444444444444, \"#bd3786\"], [0.5555555555555556, \"#d8576b\"], [0.6666666666666666, \"#ed7953\"], [0.7777777777777778, \"#fb9f3a\"], [0.8888888888888888, \"#fdca26\"], [1.0, \"#f0f921\"]], \"sequentialminus\": [[0.0, \"#0d0887\"], [0.1111111111111111, \"#46039f\"], [0.2222222222222222, \"#7201a8\"], [0.3333333333333333, \"#9c179e\"], [0.4444444444444444, \"#bd3786\"], [0.5555555555555556, \"#d8576b\"], [0.6666666666666666, \"#ed7953\"], [0.7777777777777778, \"#fb9f3a\"], [0.8888888888888888, \"#fdca26\"], [1.0, \"#f0f921\"]]}, \"colorway\": [\"#636efa\", \"#EF553B\", \"#00cc96\", \"#ab63fa\", \"#FFA15A\", \"#19d3f3\", \"#FF6692\", \"#B6E880\", \"#FF97FF\", \"#FECB52\"], \"font\": {\"color\": \"#2a3f5f\"}, \"geo\": {\"bgcolor\": \"white\", \"lakecolor\": \"white\", \"landcolor\": \"#E5ECF6\", \"showlakes\": true, \"showland\": true, \"subunitcolor\": \"white\"}, \"hoverlabel\": {\"align\": \"left\"}, \"hovermode\": \"closest\", \"mapbox\": {\"style\": \"light\"}, \"paper_bgcolor\": \"white\", \"plot_bgcolor\": \"#E5ECF6\", \"polar\": {\"angularaxis\": {\"gridcolor\": \"white\", \"linecolor\": \"white\", \"ticks\": \"\"}, \"bgcolor\": \"#E5ECF6\", \"radialaxis\": {\"gridcolor\": \"white\", \"linecolor\": \"white\", \"ticks\": \"\"}}, \"scene\": {\"xaxis\": {\"backgroundcolor\": \"#E5ECF6\", \"gridcolor\": \"white\", \"gridwidth\": 2, \"linecolor\": \"white\", \"showbackground\": true, \"ticks\": \"\", \"zerolinecolor\": \"white\"}, \"yaxis\": {\"backgroundcolor\": \"#E5ECF6\", \"gridcolor\": \"white\", \"gridwidth\": 2, \"linecolor\": \"white\", \"showbackground\": true, \"ticks\": \"\", \"zerolinecolor\": \"white\"}, \"zaxis\": {\"backgroundcolor\": \"#E5ECF6\", \"gridcolor\": \"white\", \"gridwidth\": 2, \"linecolor\": \"white\", \"showbackground\": true, \"ticks\": \"\", \"zerolinecolor\": \"white\"}}, \"shapedefaults\": {\"line\": {\"color\": \"#2a3f5f\"}}, \"ternary\": {\"aaxis\": {\"gridcolor\": \"white\", \"linecolor\": \"white\", \"ticks\": \"\"}, \"baxis\": {\"gridcolor\": \"white\", \"linecolor\": \"white\", \"ticks\": \"\"}, \"bgcolor\": \"#E5ECF6\", \"caxis\": {\"gridcolor\": \"white\", \"linecolor\": \"white\", \"ticks\": \"\"}}, \"title\": {\"x\": 0.05}, \"xaxis\": {\"automargin\": true, \"gridcolor\": \"white\", \"linecolor\": \"white\", \"ticks\": \"\", \"title\": {\"standoff\": 15}, \"zerolinecolor\": \"white\", \"zerolinewidth\": 2}, \"yaxis\": {\"automargin\": true, \"gridcolor\": \"white\", \"linecolor\": \"white\", \"ticks\": \"\", \"title\": {\"standoff\": 15}, \"zerolinecolor\": \"white\", \"zerolinewidth\": 2}}}, \"xaxis\": {\"anchor\": \"y\", \"domain\": [0.0, 1.0], \"title\": {\"text\": \"model\"}}, \"yaxis\": {\"anchor\": \"x\", \"domain\": [0.0, 1.0], \"title\": {\"text\": \"score\"}}},\n",
              "                        {\"responsive\": true}\n",
              "                    ).then(function(){\n",
              "                            \n",
              "var gd = document.getElementById('2e0ae1c7-1e99-4718-affc-3e1219002eb8');\n",
              "var x = new MutationObserver(function (mutations, observer) {{\n",
              "        var display = window.getComputedStyle(gd).display;\n",
              "        if (!display || display === 'none') {{\n",
              "            console.log([gd, 'removed!']);\n",
              "            Plotly.purge(gd);\n",
              "            observer.disconnect();\n",
              "        }}\n",
              "}});\n",
              "\n",
              "// Listen for the removal of the full notebook cells\n",
              "var notebookContainer = gd.closest('#notebook-container');\n",
              "if (notebookContainer) {{\n",
              "    x.observe(notebookContainer, {childList: true});\n",
              "}}\n",
              "\n",
              "// Listen for the clearing of the current output cell\n",
              "var outputEl = gd.closest('.output');\n",
              "if (outputEl) {{\n",
              "    x.observe(outputEl, {childList: true});\n",
              "}}\n",
              "\n",
              "                        })\n",
              "                };\n",
              "                \n",
              "            </script>\n",
              "        </div>\n",
              "</body>\n",
              "</html>"
            ]
          },
          "metadata": {
            "tags": []
          }
        }
      ]
    },
    {
      "cell_type": "code",
      "metadata": {
        "colab": {
          "base_uri": "https://localhost:8080/"
        },
        "id": "3H3oamsjfh_V",
        "outputId": "c64d10c4-912e-4717-ab04-2845ce50d1e8"
      },
      "source": [
        "clf = LogisticRegression(random_state=42, max_iter=1000)\n",
        "clf.fit(X_train, y_train)\n",
        "\n",
        "y_pred = clf.predict(X_test)\n",
        "\n",
        "# reports\n",
        "X = np.concatenate((X_train ,X_test), axis=0)\n",
        "y = np.concatenate((y_train ,y_test), axis=0)\n",
        "f1_score = np.mean(cross_val_score(clf, X, y, cv=2, scoring='f1_weighted'))\n",
        "print(\"f1: %.3f \\t accuracy: %.3f\" % (f1_score, clf.score(X_test, y_test)))\n",
        "print(metrics.classification_report(y_test, y_pred, digits=3))\n",
        "print(metrics.confusion_matrix(y_test, y_pred))\n"
      ],
      "execution_count": null,
      "outputs": [
        {
          "output_type": "stream",
          "text": [
            "f1: 0.622 \t accuracy: 0.677\n",
            "              precision    recall  f1-score   support\n",
            "\n",
            "           0      0.524     0.265     0.352        83\n",
            "           1      0.737     0.870     0.798       161\n",
            "           2      0.637     0.705     0.669       112\n",
            "\n",
            "    accuracy                          0.677       356\n",
            "   macro avg      0.633     0.613     0.606       356\n",
            "weighted avg      0.656     0.677     0.653       356\n",
            "\n",
            "[[ 22  31  30]\n",
            " [  6 140  15]\n",
            " [ 14  19  79]]\n"
          ],
          "name": "stdout"
        }
      ]
    },
    {
      "cell_type": "code",
      "metadata": {
        "colab": {
          "base_uri": "https://localhost:8080/"
        },
        "id": "iVwGA_-wwcUZ",
        "outputId": "ffdb8faa-8d43-4df6-ccc1-1c9dccce616c"
      },
      "source": [
        "# feature\n",
        "importances = clf.coef_[0]\n",
        "indices = np.argsort(importances)[::-1]\n",
        "indices\n",
        "\n",
        "for fn in range(X_train.shape[1]):\n",
        "    print(f\"{fn+1:2d}. {feature_names[indices[fn]]:35} \\t {importances[indices[fn]]}\")"
      ],
      "execution_count": null,
      "outputs": [
        {
          "output_type": "stream",
          "text": [
            " 1. away_dfScore                        \t 0.07505188796678204\n",
            " 2. home_dfScore                        \t 0.005796802245918418\n",
            " 3. home_fwScore                        \t -0.09460403106995424\n",
            " 4. home_mdScore                        \t -0.0971877120717761\n",
            " 5. away_mdScore                        \t -0.10027170196373796\n",
            " 6. away_fwScore                        \t -0.12023551227873347\n"
          ],
          "name": "stdout"
        }
      ]
    },
    {
      "cell_type": "markdown",
      "metadata": {
        "id": "kh8s1NNZu2tq"
      },
      "source": [
        "## Sprawdzenie jednego meczu ## "
      ]
    },
    {
      "cell_type": "markdown",
      "metadata": {
        "id": "EOHCsgmbu9e8"
      },
      "source": [
        "Póki co ocena formacji na podstawie średniej. Docelowo można spóbować ją przewidzieć algorytmami regresji liniowej"
      ]
    },
    {
      "cell_type": "code",
      "metadata": {
        "colab": {
          "base_uri": "https://localhost:8080/"
        },
        "id": "RM9R4zXForD4",
        "outputId": "4d399360-8156-4fa4-f02c-e5c6c0ffd598"
      },
      "source": [
        "# Barcelona (676) vs Real (675)\n",
        "# Lazio (3162) vs Roma (3158)\n",
        "\n",
        "team_home = pdAggForPredict.loc[pdAggForPredict[\"home_team\"] == 676  , [\"gameweek\",\"home_dfScore\",\"home_fwScore\",\"home_mdScore\"]]\n",
        "team_away = pdAggForPredict.loc[pdAggForPredict[\"away_team\"] == 675, [\"gameweek\",\"away_dfScore\",\"away_fwScore\",\"away_mdScore\"]]\n",
        "\n",
        "h_df = team_home[\"home_dfScore\"].mean()\n",
        "h_fw = team_home[\"home_fwScore\"].mean()\n",
        "h_md = team_home[\"home_mdScore\"].mean()\n",
        "\n",
        "a_df = team_away[\"away_dfScore\"].mean()\n",
        "a_fw = team_away[\"away_fwScore\"].mean()\n",
        "a_md = team_away[\"away_mdScore\"].mean()\n",
        "\n",
        "test = np.array([a_df,a_fw,a_md,h_df,h_fw,h_md])\n",
        "print(test)\n",
        "clf.predict(test.reshape(1,-1))\n"
      ],
      "execution_count": null,
      "outputs": [
        {
          "output_type": "stream",
          "text": [
            "[0.04555269 1.19587743 1.44590986 0.79762139 2.68157136 0.87598644]\n"
          ],
          "name": "stdout"
        },
        {
          "output_type": "execute_result",
          "data": {
            "text/plain": [
              "array([1], dtype=int32)"
            ]
          },
          "metadata": {
            "tags": []
          },
          "execution_count": 72
        }
      ]
    },
    {
      "cell_type": "code",
      "metadata": {
        "colab": {
          "base_uri": "https://localhost:8080/",
          "height": 592
        },
        "id": "sx2rsfRJtMiR",
        "outputId": "57aee85b-c6b7-49a3-a31a-af746fc8b64e"
      },
      "source": [
        "team_home.set_index(\"gameweek\", inplace=True)\n",
        "team_away.set_index(\"gameweek\", inplace=True)\n",
        "team_home.reset_index(inplace=True)\n",
        "team_away.reset_index(inplace=True)\n",
        "\n",
        "hoaw = pd.concat([team_away, team_home], axis=1)\n",
        "hoaw = hoaw[[\"away_dfScore\",\"away_fwScore\",\"away_mdScore\",\"home_dfScore\",\"home_fwScore\",\"home_mdScore\"]]\n",
        "hoaw.plot(kind='box', figsize=(19,10))\n",
        "pass"
      ],
      "execution_count": null,
      "outputs": [
        {
          "output_type": "display_data",
          "data": {
            "image/png": "[encoded data removed]",
            "text/plain": [
              "<Figure size 1368x720 with 1 Axes>"
            ]
          },
          "metadata": {
            "tags": [],
            "needs_background": "light"
          }
        }
      ]
    },
    {
      "cell_type": "code",
      "metadata": {
        "colab": {
          "base_uri": "https://localhost:8080/"
        },
        "id": "mctlnZSxLyU1",
        "outputId": "2416870d-fb5d-4a0a-971f-f405c7de7555"
      },
      "source": [
        "teams.filter(f.col(\"area.name\")=='Italy').select(\"name\", \"wyId\").orderBy(f.col(\"name\")).show(2000,False)\n",
        "# teams.printSchema()"
      ],
      "execution_count": null,
      "outputs": [
        {
          "output_type": "stream",
          "text": [
            "+--------------+----+\n",
            "|name          |wyId|\n",
            "+--------------+----+\n",
            "|Atalanta      |3172|\n",
            "|Benevento     |3219|\n",
            "|Bologna       |3166|\n",
            "|Cagliari      |3173|\n",
            "|Chievo        |3165|\n",
            "|Crotone       |3197|\n",
            "|Fiorentina    |3176|\n",
            "|Genoa         |3193|\n",
            "|Hellas Verona |3194|\n",
            "|Internazionale|3161|\n",
            "|Italy         |3757|\n",
            "|Juventus      |3159|\n",
            "|Lazio         |3162|\n",
            "|Milan         |3157|\n",
            "|Napoli        |3187|\n",
            "|Roma          |3158|\n",
            "|SPAL          |3204|\n",
            "|Sampdoria     |3164|\n",
            "|Sassuolo      |3315|\n",
            "|Torino        |3185|\n",
            "|Udinese       |3163|\n",
            "+--------------+----+\n",
            "\n"
          ],
          "name": "stdout"
        }
      ]
    }
  ]
}